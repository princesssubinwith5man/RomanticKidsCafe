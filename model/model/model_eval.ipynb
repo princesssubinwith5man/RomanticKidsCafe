{
 "cells": [
  {
   "cell_type": "code",
   "execution_count": 41,
   "id": "ad069964-00c5-44e2-b776-d472571b2f70",
   "metadata": {},
   "outputs": [],
   "source": [
    "from pymongo import MongoClient\n",
    "import pymongo\n",
    "import datetime\n",
    "import numpy as np\n",
    "\n",
    "import torch\n",
    "import torch.nn as nn\n",
    "from torch.utils.data import TensorDataset, DataLoader\n",
    "from torchmetrics.functional import precision_recall\n",
    "from torchmetrics import Accuracy\n",
    "from torchmetrics import F1Score\n",
    "from torchmetrics import Precision\n",
    "from torchmetrics import Recall\n",
    "\n",
    "from tqdm import tqdm"
   ]
  },
  {
   "cell_type": "code",
   "execution_count": 2,
   "id": "1c416e49-9389-4a52-8a87-71a6a24681da",
   "metadata": {},
   "outputs": [],
   "source": [
    "# dataloaders\n",
    "batch_size = 32\n",
    "device='cuda'\n",
    "\n",
    "class SentimentLSTM(nn.Module):\n",
    "\n",
    "    def __init__(self, seq_size, output_size, hidden_dim, n_layers):\n",
    "        \n",
    "        super(SentimentLSTM, self).__init__()\n",
    "\n",
    "        self.output_size = output_size\n",
    "        self.n_layers = n_layers\n",
    "        self.hidden_dim = hidden_dim\n",
    "\n",
    "        # embedding and LSTM layers\n",
    "        self.lstm = nn.LSTM(seq_size, hidden_dim, n_layers, batch_first=True, dropout=0.2)\n",
    "        \n",
    "        # linear and sigmoid layer\n",
    "        self.fc = nn.Linear(hidden_dim, output_size)\n",
    "        self.sig = nn.Sigmoid()\n",
    "\n",
    "    def forward(self, x):\n",
    "        batch_size = x.size(0)\n",
    "        \n",
    "        lstm_out, hidden = self.lstm(x)\n",
    "        ## lstm_out.shape [batch, seq_len, hidden_dim]\n",
    "        ## hidden [batch, hidden_dim]\n",
    "\n",
    "        # fully connected layer        \n",
    "        out = self.fc(lstm_out[:, -1, :])\n",
    "        ## out.shape: [n_layer * n_direction, batch, output_size]\n",
    "\n",
    "        # sigmoid function\n",
    "        sig_out = self.sig(out)\n",
    "        \n",
    "        # return last sigmoid output and hidden state\n",
    "        return sig_out, out"
   ]
  },
  {
   "cell_type": "code",
   "execution_count": 3,
   "id": "a5cb26f0-8cae-4f7d-9a03-3ddc6180764b",
   "metadata": {},
   "outputs": [],
   "source": [
    "def init_weights(m):\n",
    "    for name, param in m.named_parameters():\n",
    "        nn.init.uniform_(param.data, -0.08, 0.08)\n",
    "        # nn.init.uniform_(param.data, -0.1, 0.1)"
   ]
  },
  {
   "cell_type": "code",
   "execution_count": 4,
   "id": "7ce10d70-faea-448e-b043-897abc7071e7",
   "metadata": {},
   "outputs": [
    {
     "data": {
      "text/plain": [
       "SentimentLSTM(\n",
       "  (lstm): LSTM(20, 512, num_layers=4, batch_first=True, dropout=0.2)\n",
       "  (fc): Linear(in_features=512, out_features=1, bias=True)\n",
       "  (sig): Sigmoid()\n",
       ")"
      ]
     },
     "execution_count": 4,
     "metadata": {},
     "output_type": "execute_result"
    }
   ],
   "source": [
    "hidden_dim = 512\n",
    "n_layers = 4\n",
    "lr = 0.01\n",
    "output_size = 1\n",
    "\n",
    "model = SentimentLSTM(20, output_size, hidden_dim, n_layers)\n",
    "model.to('cuda')"
   ]
  },
  {
   "cell_type": "code",
   "execution_count": 5,
   "id": "84638451-5220-4370-88d3-de9cb8379753",
   "metadata": {},
   "outputs": [
    {
     "data": {
      "text/plain": [
       "<All keys matched successfully>"
      ]
     },
     "execution_count": 5,
     "metadata": {},
     "output_type": "execute_result"
    }
   ],
   "source": [
    "model.load_state_dict(torch.load(\"model_weight.pth\"))"
   ]
  },
  {
   "cell_type": "code",
   "execution_count": 6,
   "id": "17597b52-414e-4230-903d-c9509e73db80",
   "metadata": {},
   "outputs": [],
   "source": [
    "test_data = torch.load('/project/annotation/test_forScore.pt')\n",
    "test_loader = DataLoader(test_data, shuffle=False, batch_size=batch_size)"
   ]
  },
  {
   "cell_type": "code",
   "execution_count": 42,
   "id": "afe63edc-4963-4e1b-bbfd-39f0b2942ecb",
   "metadata": {},
   "outputs": [],
   "source": [
    "def predict(model, test_loader, sequence_length=30):\n",
    "    \n",
    "    model.eval()\n",
    "    f1 = F1Score(num_classes=True).to('cuda')\n",
    "    acc = Accuracy(num_classes=True).to('cuda')\n",
    "    pre = Precision(num_classes=True).to('cuda')\n",
    "    rec = Recall(num_classes=True).to('cuda')\n",
    "    \n",
    "    batch_size = 32\n",
    "    acc_list = list()\n",
    "    pred_list, label_list = list(), list()\n",
    "    \n",
    "    \n",
    "    \n",
    "    for inputs, labels in test_loader:\n",
    "        \n",
    "        inputs, labels = inputs.cuda(), labels.cuda()\n",
    "        \n",
    "        output, h = model(inputs)\n",
    "        \n",
    "        pred = torch.round(output.squeeze())\n",
    "        \n",
    "        #print(f1_score(pred, labels))\n",
    "        \n",
    "        accuracy = (pred==labels).sum().item() / 32\n",
    "        acc_list.append(accuracy)\n",
    "        \n",
    "        #pred = list(pred.cpu().detach().numpy())\n",
    "        #pred_list = pred_list + pred\n",
    "        #label_list += labels.cpu().numpy()\n",
    "        \n",
    "        f1(pred, labels)\n",
    "        acc(pred, labels)\n",
    "        pre(pred, labels)\n",
    "        rec(pred, labels)\n",
    "        #print('Prediction value, pre-rounding: ', output.item())\n",
    "\n",
    "        # print custom response based on whether test_review is pos/neg\n",
    "        \n",
    "    print(np.mean(acc_list))\n",
    "    \n",
    "    print(f1.compute())\n",
    "    print(acc.compute())\n",
    "    print(pre.compute())\n",
    "    print(rec.compute())\n"
   ]
  },
  {
   "cell_type": "code",
   "execution_count": 43,
   "id": "5a829dee-8e4e-480e-941a-6aa5e02df648",
   "metadata": {},
   "outputs": [
    {
     "name": "stdout",
     "output_type": "stream",
     "text": [
      "0.9558445411392406\n",
      "tensor(0.3918, device='cuda:0')\n",
      "tensor(0.9562, device='cuda:0')\n",
      "tensor(0.2659, device='cuda:0')\n",
      "tensor(0.7441, device='cuda:0')\n"
     ]
    }
   ],
   "source": [
    "predict(model, test_loader)"
   ]
  },
  {
   "cell_type": "code",
   "execution_count": null,
   "id": "824a69be-6f70-4c90-84b4-a4b5680a116c",
   "metadata": {},
   "outputs": [],
   "source": []
  }
 ],
 "metadata": {
  "kernelspec": {
   "display_name": "project",
   "language": "python",
   "name": "project"
  },
  "language_info": {
   "codemirror_mode": {
    "name": "ipython",
    "version": 3
   },
   "file_extension": ".py",
   "mimetype": "text/x-python",
   "name": "python",
   "nbconvert_exporter": "python",
   "pygments_lexer": "ipython3",
   "version": "3.9.7"
  }
 },
 "nbformat": 4,
 "nbformat_minor": 5
}
