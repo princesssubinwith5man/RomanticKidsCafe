{
 "cells": [
  {
   "cell_type": "code",
   "execution_count": 1,
   "id": "30b2c2a0-a150-499e-aea3-dc5da7648bee",
   "metadata": {},
   "outputs": [],
   "source": [
    "import os\n",
    "import json\n",
    "from tqdm import trange\n",
    "import numpy as np\n",
    "from tqdm import tqdm"
   ]
  },
  {
   "cell_type": "code",
   "execution_count": 2,
   "id": "23ba3710-84e5-4571-8395-b2597d68f75a",
   "metadata": {},
   "outputs": [],
   "source": [
    "path_dir = '/project/annotation/2D'\n",
    "file_list1 = os.listdir(path_dir)"
   ]
  },
  {
   "cell_type": "code",
   "execution_count": 3,
   "id": "9d5710e6-115e-4e6d-a9de-d1107bb1d24a",
   "metadata": {},
   "outputs": [
    {
     "name": "stderr",
     "output_type": "stream",
     "text": [
      "100%|██████████| 697/697 [01:48<00:00,  6.41it/s]\n"
     ]
    }
   ],
   "source": [
    "false_data = list()\n",
    "true_data = list()\n",
    "\n",
    "true_name = list()\n",
    "\n",
    "for file_name1 in tqdm(file_list1):\n",
    "    if(file_name1[0] == '.'):\n",
    "        file_name1 = file_name1[2:]\n",
    "    #print(file_name1)\n",
    "    file_path = path_dir + '/' + file_name1\n",
    "    \n",
    "    if 'DS_Store' in file_path:\n",
    "        continue\n",
    "\n",
    "    file_list2 = os.listdir(file_path)\n",
    "\n",
    "    if file_name1[0] == '6': # 쓰러짐 영상\n",
    "        for file_name2 in file_list2:\n",
    "            if 'DS_Store' in file_name2:\n",
    "                continue\n",
    "            if(file_name2[0] == '.'):\n",
    "                file_name2 = file_name2[2:]\n",
    "            read_file_path = file_path + '/' + file_name2\n",
    "            true_name.append(file_name2)\n",
    "\n",
    "            with open(read_file_path, 'r') as f:\n",
    "                json_data = json.load(f)\n",
    "                #print(json_data.keys())\n",
    "                tmpList = list()\n",
    "\n",
    "                for data in json_data['annotations']:\n",
    "                    tmpList.append(data['keypoints'])\n",
    "\n",
    "                true_data.append(tmpList)\n",
    "\n",
    "    else: # 기타 영상\n",
    "        for file_name2 in file_list2:\n",
    "            if 'DS_Store' in file_name2:\n",
    "                continue\n",
    "            if(file_name2[0] == '.'):\n",
    "                file_name2 = file_name2[2:]\n",
    "            read_file_path = file_path + '/' + file_name2\n",
    "\n",
    "    \n",
    "            with open(read_file_path, 'r') as f:\n",
    "                json_data = json.load(f)\n",
    "                #print(json_data.keys())\n",
    "                tmpList = list()\n",
    "                for data in json_data['annotations']:\n",
    "                    tmpList.append(data['keypoints'])\n",
    "\n",
    "                false_data.append(tmpList)"
   ]
  },
  {
   "cell_type": "code",
   "execution_count": 4,
   "id": "c0ff2c43-4af9-43d2-b680-b199f9ef2b72",
   "metadata": {},
   "outputs": [],
   "source": [
    "for index, data in enumerate(true_data):\n",
    "    if len(data) < 30:\n",
    "        tmp_list = [[0 for w in range(48)] for h in range(30-len(data))]\n",
    "        data += tmp_list\n",
    "        true_data[index]=data\n",
    "    else:\n",
    "        true_data[index] = data[:30]"
   ]
  },
  {
   "cell_type": "code",
   "execution_count": 5,
   "id": "5b2cf3cf-922b-44f8-820d-6ddf2a35ae68",
   "metadata": {},
   "outputs": [],
   "source": [
    "for index, data in enumerate(false_data):\n",
    "    if len(data) < 30:\n",
    "        tmp_list = [[0 for w in range(48)] for h in range(30-len(data))]\n",
    "        data += tmp_list\n",
    "        false_data[index]=data\n",
    "    else:\n",
    "        false_data[index] = data[:30]"
   ]
  },
  {
   "cell_type": "code",
   "execution_count": 6,
   "id": "704ee1a2-486a-49a0-b283-99cff2dd32be",
   "metadata": {},
   "outputs": [],
   "source": [
    "true_np = np.array(true_data, dtype=np.float32)\n",
    "false_np = np.array(false_data, dtype=np.float32)"
   ]
  },
  {
   "cell_type": "code",
   "execution_count": 25,
   "id": "3abe2b88-7761-47e7-b5bb-e16d72b710dd",
   "metadata": {},
   "outputs": [
    {
     "name": "stdout",
     "output_type": "stream",
     "text": [
      "(793340, 30, 48)\n",
      "(15324, 30, 48)\n"
     ]
    }
   ],
   "source": [
    "print(false_np.shape)\n",
    "print(true_np.shape)"
   ]
  },
  {
   "cell_type": "code",
   "execution_count": null,
   "id": "161a42c1-5630-42ae-98a7-c5e19c6468d9",
   "metadata": {},
   "outputs": [],
   "source": []
  }
 ],
 "metadata": {
  "kernelspec": {
   "display_name": "project",
   "language": "python",
   "name": "project"
  },
  "language_info": {
   "codemirror_mode": {
    "name": "ipython",
    "version": 3
   },
   "file_extension": ".py",
   "mimetype": "text/x-python",
   "name": "python",
   "nbconvert_exporter": "python",
   "pygments_lexer": "ipython3",
   "version": "3.9.7"
  }
 },
 "nbformat": 4,
 "nbformat_minor": 5
}
