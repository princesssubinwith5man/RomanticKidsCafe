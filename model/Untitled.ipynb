{
 "cells": [
  {
   "cell_type": "code",
   "execution_count": 1,
   "id": "cbbc531d-5414-4001-b915-56b823830739",
   "metadata": {},
   "outputs": [
    {
     "name": "stdout",
     "output_type": "stream",
     "text": [
      "OpenPifPaf version 0.13.4\n",
      "PyTorch version 1.11.0\n"
     ]
    }
   ],
   "source": [
    "import io\n",
    "import numpy as np\n",
    "import PIL\n",
    "import requests\n",
    "import openpifpaf\n",
    "import torch\n",
    "import cv2\n",
    "import json\n",
    "import time\n",
    "from PIL import Image\n",
    "from pymongo import MongoClient\n",
    "from datetime import datetime\n",
    "\n",
    "print('OpenPifPaf version', openpifpaf.__version__)\n",
    "print('PyTorch version', torch.__version__)"
   ]
  },
  {
   "cell_type": "code",
   "execution_count": 2,
   "id": "ddeccc61-73d2-4a87-b050-a63342da74de",
   "metadata": {},
   "outputs": [],
   "source": [
    "predictor = openpifpaf.Predictor(checkpoint='shufflenetv2k16')\n",
    "#predictions, gt_anns, image_meta = predictor.pil_image(pil_im)"
   ]
  },
  {
   "cell_type": "code",
   "execution_count": 3,
   "id": "5d078fdd-5d93-4abb-ad5e-58c39a653974",
   "metadata": {},
   "outputs": [
    {
     "ename": "NameError",
     "evalue": "name 'im' is not defined",
     "output_type": "error",
     "traceback": [
      "\u001b[0;31m---------------------------------------------------------------------------\u001b[0m",
      "\u001b[0;31mNameError\u001b[0m                                 Traceback (most recent call last)",
      "Input \u001b[0;32mIn [3]\u001b[0m, in \u001b[0;36m<cell line: 2>\u001b[0;34m()\u001b[0m\n\u001b[1;32m      1\u001b[0m annotation_painter \u001b[38;5;241m=\u001b[39m openpifpaf\u001b[38;5;241m.\u001b[39mshow\u001b[38;5;241m.\u001b[39mAnnotationPainter()\n\u001b[0;32m----> 2\u001b[0m \u001b[38;5;28;01mwith\u001b[39;00m openpifpaf\u001b[38;5;241m.\u001b[39mshow\u001b[38;5;241m.\u001b[39mimage_canvas(\u001b[43mim\u001b[49m) \u001b[38;5;28;01mas\u001b[39;00m ax:\n\u001b[1;32m      3\u001b[0m     annotation_painter\u001b[38;5;241m.\u001b[39mannotations(ax, predictions)\n",
      "\u001b[0;31mNameError\u001b[0m: name 'im' is not defined"
     ]
    }
   ],
   "source": [
    "annotation_painter = openpifpaf.show.AnnotationPainter()\n",
    "with openpifpaf.show.image_canvas(im) as ax:\n",
    "    annotation_painter.annotations(ax, predictions)"
   ]
  },
  {
   "cell_type": "code",
   "execution_count": 4,
   "id": "84ba8eee-2743-4f39-8592-b7875e80622d",
   "metadata": {},
   "outputs": [],
   "source": [
    "url = \"http://114.70.235.37:5030/stream?src=0\"\n",
    "cap = cv2.VideoCapture(url)\n",
    "prev = 0\n",
    "FPS = 10"
   ]
  },
  {
   "cell_type": "code",
   "execution_count": 5,
   "id": "1358f0dd-d066-4fec-86c3-38101aa99147",
   "metadata": {},
   "outputs": [
    {
     "name": "stdout",
     "output_type": "stream",
     "text": [
      "['admin', 'config', 'local', 'mydb']\n"
     ]
    }
   ],
   "source": [
    "client = MongoClient(host='114.70.235.37', port=27017)\n",
    "print(client.list_database_names())"
   ]
  },
  {
   "cell_type": "code",
   "execution_count": 6,
   "id": "a3e4f9b1-6a6e-480f-b646-825f95448688",
   "metadata": {},
   "outputs": [],
   "source": [
    "def calcul_xy(xy):\n",
    "    result = []\n",
    "    \n",
    "    neck = [((xy[5][0]+xy[6][0])/2 + xy[0][0]) / 2, ((xy[5][1]+xy[6][1])/2 + xy[0][1]) / 2]\n",
    "    hip = [(xy[11][0]+xy[12][0])/2, (xy[11][1]+xy[12][1])/2]\n",
    "    \n",
    "    result.append((xy[0][0] - neck[0]).item())\n",
    "    result.append((xy[0][1] - neck[1]).item())\n",
    "    \n",
    "    result.append((neck[0] - xy[7][0]).item())\n",
    "    result.append((neck[1] - xy[7][1]).item())\n",
    "    \n",
    "    result.append((neck[0] - xy[8][0]).item())\n",
    "    result.append((neck[1] - xy[8][1]).item())\n",
    "    \n",
    "    result.append((xy[7][0] - xy[9][0]).item())\n",
    "    result.append((xy[7][1] - xy[9][1]).item())\n",
    "    \n",
    "    result.append((xy[8][0] - xy[10][0]).item())\n",
    "    result.append((xy[8][1] - xy[10][1]).item())\n",
    "    \n",
    "    # v5 neck - hip\n",
    "    result.append((neck[0] - hip[0]).item())\n",
    "    result.append((neck[1] - hip[1]).item())\n",
    "    \n",
    "    result.append((hip[0] - xy[13][0]).item())\n",
    "    result.append((hip[1] - xy[13][1]).item())\n",
    "    \n",
    "    result.append((hip[0] - xy[14][0]).item())\n",
    "    result.append((hip[1] - xy[14][1]).item())\n",
    "    \n",
    "    result.append((xy[13][0] - xy[15][0]).item())\n",
    "    result.append((xy[13][1] - xy[15][1]).item())\n",
    "    \n",
    "    result.append((xy[14][0] - xy[16][0]).item())\n",
    "    result.append((xy[14][1] - xy[16][1]).item())\n",
    "    \n",
    "    return result    "
   ]
  },
  {
   "cell_type": "code",
   "execution_count": 7,
   "id": "11686f32-e452-461f-914c-95ad77673c70",
   "metadata": {},
   "outputs": [],
   "source": [
    "\n",
    "db = client['mydb']\n",
    "db = db.xy\n",
    "\n",
    "def input_db(db, data):\n",
    "    input_data = dict()\n",
    "    \n",
    "    input_data['date'] = datetime.now()\n",
    "    \n",
    "    for i in range(10):\n",
    "        \n",
    "        for j in range(2):\n",
    "            index = \"v\" + str(i)\n",
    "            if j%2 == 0:\n",
    "                index += 'x'\n",
    "            else:\n",
    "                index += 'y'\n",
    "            \n",
    "            input_data[index] = data[i*2 + j]\n",
    "    \n",
    "    #print(type(input_data['v0x']))\n",
    "    db.insert_one(input_data)\n",
    "            "
   ]
  },
  {
   "cell_type": "code",
   "execution_count": null,
   "id": "440e2f4d-a86c-4364-8602-5d0cd5211933",
   "metadata": {},
   "outputs": [],
   "source": [
    "if cap.isOpened(): \n",
    "    ret, img = cap.read()\n",
    "    cur = time.time() - prev\n",
    "    before_xy = None\n",
    "    before_chk = False\n",
    "    \n",
    "    cnt = 0\n",
    "    \n",
    "    while ret:\n",
    "        try:\n",
    "            #img = cv2.cvtColor(img, cv2.COLOR_BGR2RGB)\n",
    "            #print(type(img))\n",
    "            img = Image.fromarray(img)\n",
    "\n",
    "            predictions, gt_anns, image_meta = predictor.pil_image(img)\n",
    "\n",
    "            if len(predictions) < 1:\n",
    "                ret, img = cap.read()\n",
    "                cur = time.time() - prev\n",
    "                continue\n",
    "\n",
    "            xy = predictions[0].data\n",
    "            \n",
    "            \n",
    "            ## 좌표 중 0으로 출력되는 포인트를 인식하지 못한 부분은 이전 값으로 채우기\n",
    "            if before_chk:\n",
    "            for i in range(len(xy)):\n",
    "                if xy[i][0] == 0:\n",
    "                    xy[i][0], xy[i][1] = before_xy[i][0], before_xy[i][1]\n",
    "            \n",
    "            before_xy = xy\n",
    "            before_chk = True\n",
    "            \n",
    "            result = calcul_xy(xy)\n",
    "            input_db(db, result)\n",
    "\n",
    "            ret, img = cap.read()\n",
    "            cur = time.time() - prev\n",
    "            cnt+=1\n",
    "\n",
    "            if cnt%100 == 0:\n",
    "                print(cnt)\n",
    "                \n",
    "        except:\n",
    "            print(\"Frame exception\")\n",
    "            cap.release()\n",
    "            cap = cv2.VideoCapture(url)\n",
    "else:\n",
    "    print(\"url is not opened!!\")"
   ]
  },
  {
   "cell_type": "code",
   "execution_count": 3,
   "id": "2f169c5e-63d6-4620-8d6b-686e67092946",
   "metadata": {},
   "outputs": [
    {
     "name": "stdout",
     "output_type": "stream",
     "text": [
      "/bin/bash: conda: command not found\n"
     ]
    }
   ],
   "source": []
  },
  {
   "cell_type": "code",
   "execution_count": null,
   "id": "412d004a-60db-482e-84c3-4fd410137891",
   "metadata": {},
   "outputs": [],
   "source": []
  }
 ],
 "metadata": {
  "kernelspec": {
   "display_name": "project",
   "language": "python",
   "name": "project"
  },
  "language_info": {
   "codemirror_mode": {
    "name": "ipython",
    "version": 3
   },
   "file_extension": ".py",
   "mimetype": "text/x-python",
   "name": "python",
   "nbconvert_exporter": "python",
   "pygments_lexer": "ipython3",
   "version": "3.9.7"
  }
 },
 "nbformat": 4,
 "nbformat_minor": 5
}
