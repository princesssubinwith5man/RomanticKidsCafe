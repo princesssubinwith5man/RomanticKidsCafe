{
 "cells": [
  {
   "cell_type": "code",
   "execution_count": 1,
   "id": "cbbc531d-5414-4001-b915-56b823830739",
   "metadata": {},
   "outputs": [
    {
     "name": "stdout",
     "output_type": "stream",
     "text": [
      "OpenPifPaf version 0.13.4\n",
      "PyTorch version 1.11.0\n"
     ]
    }
   ],
   "source": [
    "import io\n",
    "import numpy as np\n",
    "import PIL\n",
    "import requests\n",
    "import openpifpaf\n",
    "import torch\n",
    "import cv2\n",
    "import json\n",
    "import time\n",
    "from PIL import Image\n",
    "from pymongo import MongoClient\n",
    "from datetime import datetime\n",
    "\n",
    "print('OpenPifPaf version', openpifpaf.__version__)\n",
    "print('PyTorch version', torch.__version__)"
   ]
  },
  {
   "cell_type": "code",
   "execution_count": 2,
   "id": "db719d81-5f0b-4283-b33c-8a4c24f0a33f",
   "metadata": {},
   "outputs": [
    {
     "name": "stdout",
     "output_type": "stream",
     "text": [
      "<PIL.Image.Image image mode=RGB size=640x427 at 0x7F879AC25C40>\n",
      "<PIL.Image.Image image mode=RGB size=640x427 at 0x7F879AC25C40>\n"
     ]
    }
   ],
   "source": [
    "image_response = requests.get('https://raw.githubusercontent.com/openpifpaf/openpifpaf/main/docs/coco/000000081988.jpg')\n",
    "pil_im = PIL.Image.open(io.BytesIO(image_response.content)).convert('RGB')\n",
    "print(pil_im)\n",
    "im = np.asarray(pil_im)\n",
    "print(pil_im)\n",
    "\n",
    "with openpifpaf.show.image_canvas(im) as ax:\n",
    "    pass"
   ]
  },
  {
   "cell_type": "code",
   "execution_count": 3,
   "id": "ddeccc61-73d2-4a87-b050-a63342da74de",
   "metadata": {},
   "outputs": [
    {
     "name": "stdout",
     "output_type": "stream",
     "text": [
      "src/openpifpaf/csrc/src/cif_hr.cpp:102: UserInfo: resizing cifhr buffer\n",
      "src/openpifpaf/csrc/src/occupancy.cpp:53: UserInfo: resizing occupancy buffer\n"
     ]
    }
   ],
   "source": [
    "predictor = openpifpaf.Predictor(checkpoint='shufflenetv2k16')\n",
    "predictions, gt_anns, image_meta = predictor.pil_image(pil_im)"
   ]
  },
  {
   "cell_type": "code",
   "execution_count": 4,
   "id": "5d078fdd-5d93-4abb-ad5e-58c39a653974",
   "metadata": {},
   "outputs": [],
   "source": [
    "annotation_painter = openpifpaf.show.AnnotationPainter()\n",
    "with openpifpaf.show.image_canvas(im) as ax:\n",
    "    annotation_painter.annotations(ax, predictions)"
   ]
  },
  {
   "cell_type": "code",
   "execution_count": 5,
   "id": "221f3369-fb78-42db-ba1d-222f5f3a5ce6",
   "metadata": {},
   "outputs": [
    {
     "data": {
      "text/plain": [
       "<openpifpaf.annotation.Annotation at 0x7f879ab15ca0>"
      ]
     },
     "execution_count": 5,
     "metadata": {},
     "output_type": "execute_result"
    }
   ],
   "source": [
    "predictions[0]"
   ]
  },
  {
   "cell_type": "code",
   "execution_count": 6,
   "id": "a72b444a-8bc8-43bb-81d6-299b3a921e16",
   "metadata": {},
   "outputs": [
    {
     "data": {
      "text/plain": [
       "array([[ 3.6017807e+02,  2.9964923e+02,  9.9882036e-01],\n",
       "       [ 3.6403445e+02,  2.9479434e+02,  9.5610690e-01],\n",
       "       [ 3.5507327e+02,  2.9503882e+02,  9.7656912e-01],\n",
       "       [ 3.6957373e+02,  2.9712720e+02,  8.2809377e-01],\n",
       "       [ 3.4776581e+02,  2.9803564e+02,  9.4154650e-01],\n",
       "       [ 3.8178824e+02,  3.1739838e+02,  9.3544292e-01],\n",
       "       [ 3.4123199e+02,  3.2180969e+02,  9.5377135e-01],\n",
       "       [ 3.8761176e+02,  3.4162183e+02,  6.1720490e-01],\n",
       "       [ 3.3507950e+02,  3.5091245e+02,  9.6102774e-01],\n",
       "       [ 3.7334363e+02,  3.5688348e+02,  4.3549511e-01],\n",
       "       [ 3.3581781e+02,  3.6386737e+02,  8.9594966e-01],\n",
       "       [ 3.7379706e+02,  3.6282889e+02,  8.5834831e-01],\n",
       "       [ 3.5046017e+02,  3.6485599e+02,  9.5850146e-01],\n",
       "       [ 3.8885910e+02,  3.6172214e+02,  6.5839320e-01],\n",
       "       [ 3.2807773e+02,  3.7469623e+02,  6.8844420e-01],\n",
       "       [ 3.3847122e+02,  3.8158102e+02,  3.4103760e-01],\n",
       "       [ 0.0000000e+00, -3.0000000e+00,  0.0000000e+00]], dtype=float32)"
      ]
     },
     "execution_count": 6,
     "metadata": {},
     "output_type": "execute_result"
    }
   ],
   "source": [
    "predictions[0].data"
   ]
  },
  {
   "cell_type": "code",
   "execution_count": 7,
   "id": "e1eb3a5b-e3ca-4598-82e1-da649e8f19b6",
   "metadata": {},
   "outputs": [
    {
     "name": "stdout",
     "output_type": "stream",
     "text": [
      "5\n",
      "['__class__', '__delattr__', '__dict__', '__dir__', '__doc__', '__eq__', '__format__', '__ge__', '__getattribute__', '__gt__', '__hash__', '__init__', '__init_subclass__', '__le__', '__lt__', '__module__', '__ne__', '__new__', '__reduce__', '__reduce_ex__', '__repr__', '__setattr__', '__sizeof__', '__slotnames__', '__str__', '__subclasshook__', '__weakref__', 'add', 'bbox', 'bbox_from_keypoints', 'categories', 'category', 'category_id', 'data', 'decoding_order', 'fixed_bbox', 'fixed_score', 'from_cif_meta', 'frontier_order', 'inverse_transform', 'joint_scales', 'json_data', 'keypoints', 'rescale', 'scale', 'score', 'score_weights', 'set', 'sigmas', 'skeleton', 'skeleton_m1', 'suppress_score_index']\n"
     ]
    }
   ],
   "source": [
    "print(len(predictions))\n",
    "print(dir(predictions[0]))"
   ]
  },
  {
   "cell_type": "code",
   "execution_count": 8,
   "id": "651bd454-23ad-495d-83fe-ec1b1339eb56",
   "metadata": {},
   "outputs": [
    {
     "name": "stdout",
     "output_type": "stream",
     "text": [
      "0.820764676384304\n",
      "0.8185250992360322\n",
      "0.7882213203803352\n",
      "0.6126753506453141\n",
      "0.6138697357281394\n"
     ]
    }
   ],
   "source": [
    "for i in predictions:\n",
    "    print(i.score)"
   ]
  },
  {
   "cell_type": "code",
   "execution_count": 9,
   "id": "84ba8eee-2743-4f39-8592-b7875e80622d",
   "metadata": {},
   "outputs": [],
   "source": [
    "url = \"http://121.155.53.218:5000/stream?src=0\"\n",
    "cap = cv2.VideoCapture(url)\n",
    "prev = 0\n",
    "FPS = 10"
   ]
  },
  {
   "cell_type": "code",
   "execution_count": 10,
   "id": "1358f0dd-d066-4fec-86c3-38101aa99147",
   "metadata": {},
   "outputs": [
    {
     "name": "stdout",
     "output_type": "stream",
     "text": [
      "['admin', 'config', 'local', 'mydb']\n"
     ]
    }
   ],
   "source": [
    "client = MongoClient(host='114.70.235.37', port=27017)\n",
    "print(client.list_database_names())"
   ]
  },
  {
   "cell_type": "code",
   "execution_count": 11,
   "id": "a3e4f9b1-6a6e-480f-b646-825f95448688",
   "metadata": {},
   "outputs": [],
   "source": [
    "def calcul_xy(xy):\n",
    "    result = []\n",
    "    \n",
    "    neck = [((xy[5][0]+xy[6][0])/2 + xy[0][0]) / 2, ((xy[5][1]+xy[6][1])/2 + xy[0][1]) / 2]\n",
    "    hip = [(xy[11][0]+xy[12][0])/2, (xy[11][1]+xy[12][1])/2]\n",
    "    \n",
    "    result.append((xy[0][0] - neck[0]).item())\n",
    "    result.append((xy[0][1] - neck[1]).item())\n",
    "    \n",
    "    result.append((neck[0] - xy[7][0]).item())\n",
    "    result.append((neck[1] - xy[7][1]).item())\n",
    "    \n",
    "    result.append((neck[0] - xy[8][0]).item())\n",
    "    result.append((neck[1] - xy[8][1]).item())\n",
    "    \n",
    "    result.append((xy[7][0] - xy[9][0]).item())\n",
    "    result.append((xy[7][1] - xy[9][1]).item())\n",
    "    \n",
    "    result.append((xy[8][0] - xy[10][0]).item())\n",
    "    result.append((xy[8][1] - xy[10][1]).item())\n",
    "    \n",
    "    # v5 neck - hip\n",
    "    result.append((neck[0] - hip[0]).item())\n",
    "    result.append((neck[1] - hip[1]).item())\n",
    "    \n",
    "    result.append((hip[0] - xy[13][0]).item())\n",
    "    result.append((hip[1] - xy[13][1]).item())\n",
    "    \n",
    "    result.append((hip[0] - xy[14][0]).item())\n",
    "    result.append((hip[1] - xy[14][1]).item())\n",
    "    \n",
    "    result.append((xy[13][0] - xy[15][0]).item())\n",
    "    result.append((xy[13][1] - xy[15][1]).item())\n",
    "    \n",
    "    result.append((xy[14][0] - xy[16][0]).item())\n",
    "    result.append((xy[14][1] - xy[16][1]).item())\n",
    "    \n",
    "    return result    "
   ]
  },
  {
   "cell_type": "code",
   "execution_count": 12,
   "id": "11686f32-e452-461f-914c-95ad77673c70",
   "metadata": {},
   "outputs": [],
   "source": [
    "\n",
    "db = client['mydb']\n",
    "db = db.xy\n",
    "\n",
    "def input_db(db, data):\n",
    "    input_data = dict()\n",
    "    \n",
    "    input_data['date'] = datetime.now()\n",
    "    \n",
    "    for i in range(10):\n",
    "        \n",
    "        for j in range(2):\n",
    "            index = \"v\" + str(i)\n",
    "            if j%2 == 0:\n",
    "                index += 'x'\n",
    "            else:\n",
    "                index += 'y'\n",
    "            \n",
    "            input_data[index] = data[i*2 + j]\n",
    "    \n",
    "    #print(type(input_data['v0x']))\n",
    "    db.insert_one(input_data)\n",
    "            "
   ]
  },
  {
   "cell_type": "code",
   "execution_count": 13,
   "id": "440e2f4d-a86c-4364-8602-5d0cd5211933",
   "metadata": {},
   "outputs": [
    {
     "name": "stdout",
     "output_type": "stream",
     "text": [
      "100\n",
      "200\n",
      "300\n",
      "400\n",
      "500\n",
      "600\n",
      "700\n",
      "800\n",
      "900\n",
      "1000\n",
      "1100\n",
      "1200\n",
      "1300\n",
      "1400\n",
      "1500\n",
      "1600\n",
      "1700\n",
      "1800\n",
      "1900\n",
      "2000\n"
     ]
    },
    {
     "ename": "TypeError",
     "evalue": "a bytes-like object is required, not 'Image'",
     "output_type": "error",
     "traceback": [
      "\u001b[0;31m---------------------------------------------------------------------------\u001b[0m",
      "\u001b[0;31mTypeError\u001b[0m                                 Traceback (most recent call last)",
      "Input \u001b[0;32mIn [13]\u001b[0m, in \u001b[0;36m<cell line: 1>\u001b[0;34m()\u001b[0m\n\u001b[1;32m      6\u001b[0m cnt \u001b[38;5;241m=\u001b[39m \u001b[38;5;241m0\u001b[39m\n\u001b[1;32m      8\u001b[0m \u001b[38;5;28;01mwhile\u001b[39;00m ret:\n\u001b[1;32m      9\u001b[0m     \u001b[38;5;66;03m#img = cv2.cvtColor(img, cv2.COLOR_BGR2RGB)\u001b[39;00m\n\u001b[1;32m     10\u001b[0m     \u001b[38;5;66;03m#print(type(img))\u001b[39;00m\n\u001b[0;32m---> 11\u001b[0m     img \u001b[38;5;241m=\u001b[39m \u001b[43mImage\u001b[49m\u001b[38;5;241;43m.\u001b[39;49m\u001b[43mfromarray\u001b[49m\u001b[43m(\u001b[49m\u001b[43mimg\u001b[49m\u001b[43m)\u001b[49m\n\u001b[1;32m     13\u001b[0m     predictions, gt_anns, image_meta \u001b[38;5;241m=\u001b[39m predictor\u001b[38;5;241m.\u001b[39mpil_image(img)\n\u001b[1;32m     15\u001b[0m     \u001b[38;5;28;01mif\u001b[39;00m \u001b[38;5;28mlen\u001b[39m(predictions) \u001b[38;5;241m<\u001b[39m \u001b[38;5;241m1\u001b[39m:\n",
      "File \u001b[0;32m/tools/anaconda3/envs/project/lib/python3.8/site-packages/PIL/Image.py:2974\u001b[0m, in \u001b[0;36mfromarray\u001b[0;34m(obj, mode)\u001b[0m\n\u001b[1;32m   2971\u001b[0m     \u001b[38;5;28;01melse\u001b[39;00m:\n\u001b[1;32m   2972\u001b[0m         obj \u001b[38;5;241m=\u001b[39m obj\u001b[38;5;241m.\u001b[39mtostring()\n\u001b[0;32m-> 2974\u001b[0m \u001b[38;5;28;01mreturn\u001b[39;00m \u001b[43mfrombuffer\u001b[49m\u001b[43m(\u001b[49m\u001b[43mmode\u001b[49m\u001b[43m,\u001b[49m\u001b[43m \u001b[49m\u001b[43msize\u001b[49m\u001b[43m,\u001b[49m\u001b[43m \u001b[49m\u001b[43mobj\u001b[49m\u001b[43m,\u001b[49m\u001b[43m \u001b[49m\u001b[38;5;124;43m\"\u001b[39;49m\u001b[38;5;124;43mraw\u001b[39;49m\u001b[38;5;124;43m\"\u001b[39;49m\u001b[43m,\u001b[49m\u001b[43m \u001b[49m\u001b[43mrawmode\u001b[49m\u001b[43m,\u001b[49m\u001b[43m \u001b[49m\u001b[38;5;241;43m0\u001b[39;49m\u001b[43m,\u001b[49m\u001b[43m \u001b[49m\u001b[38;5;241;43m1\u001b[39;49m\u001b[43m)\u001b[49m\n",
      "File \u001b[0;32m/tools/anaconda3/envs/project/lib/python3.8/site-packages/PIL/Image.py:2901\u001b[0m, in \u001b[0;36mfrombuffer\u001b[0;34m(mode, size, data, decoder_name, *args)\u001b[0m\n\u001b[1;32m   2898\u001b[0m         im\u001b[38;5;241m.\u001b[39mreadonly \u001b[38;5;241m=\u001b[39m \u001b[38;5;241m1\u001b[39m\n\u001b[1;32m   2899\u001b[0m         \u001b[38;5;28;01mreturn\u001b[39;00m im\n\u001b[0;32m-> 2901\u001b[0m \u001b[38;5;28;01mreturn\u001b[39;00m \u001b[43mfrombytes\u001b[49m\u001b[43m(\u001b[49m\u001b[43mmode\u001b[49m\u001b[43m,\u001b[49m\u001b[43m \u001b[49m\u001b[43msize\u001b[49m\u001b[43m,\u001b[49m\u001b[43m \u001b[49m\u001b[43mdata\u001b[49m\u001b[43m,\u001b[49m\u001b[43m \u001b[49m\u001b[43mdecoder_name\u001b[49m\u001b[43m,\u001b[49m\u001b[43m \u001b[49m\u001b[43margs\u001b[49m\u001b[43m)\u001b[49m\n",
      "File \u001b[0;32m/tools/anaconda3/envs/project/lib/python3.8/site-packages/PIL/Image.py:2843\u001b[0m, in \u001b[0;36mfrombytes\u001b[0;34m(mode, size, data, decoder_name, *args)\u001b[0m\n\u001b[1;32m   2840\u001b[0m     args \u001b[38;5;241m=\u001b[39m mode\n\u001b[1;32m   2842\u001b[0m im \u001b[38;5;241m=\u001b[39m new(mode, size)\n\u001b[0;32m-> 2843\u001b[0m \u001b[43mim\u001b[49m\u001b[38;5;241;43m.\u001b[39;49m\u001b[43mfrombytes\u001b[49m\u001b[43m(\u001b[49m\u001b[43mdata\u001b[49m\u001b[43m,\u001b[49m\u001b[43m \u001b[49m\u001b[43mdecoder_name\u001b[49m\u001b[43m,\u001b[49m\u001b[43m \u001b[49m\u001b[43margs\u001b[49m\u001b[43m)\u001b[49m\n\u001b[1;32m   2844\u001b[0m \u001b[38;5;28;01mreturn\u001b[39;00m im\n",
      "File \u001b[0;32m/tools/anaconda3/envs/project/lib/python3.8/site-packages/PIL/Image.py:795\u001b[0m, in \u001b[0;36mImage.frombytes\u001b[0;34m(self, data, decoder_name, *args)\u001b[0m\n\u001b[1;32m    793\u001b[0m d \u001b[38;5;241m=\u001b[39m _getdecoder(\u001b[38;5;28mself\u001b[39m\u001b[38;5;241m.\u001b[39mmode, decoder_name, args)\n\u001b[1;32m    794\u001b[0m d\u001b[38;5;241m.\u001b[39msetimage(\u001b[38;5;28mself\u001b[39m\u001b[38;5;241m.\u001b[39mim)\n\u001b[0;32m--> 795\u001b[0m s \u001b[38;5;241m=\u001b[39m \u001b[43md\u001b[49m\u001b[38;5;241;43m.\u001b[39;49m\u001b[43mdecode\u001b[49m\u001b[43m(\u001b[49m\u001b[43mdata\u001b[49m\u001b[43m)\u001b[49m\n\u001b[1;32m    797\u001b[0m \u001b[38;5;28;01mif\u001b[39;00m s[\u001b[38;5;241m0\u001b[39m] \u001b[38;5;241m>\u001b[39m\u001b[38;5;241m=\u001b[39m \u001b[38;5;241m0\u001b[39m:\n\u001b[1;32m    798\u001b[0m     \u001b[38;5;28;01mraise\u001b[39;00m \u001b[38;5;167;01mValueError\u001b[39;00m(\u001b[38;5;124m\"\u001b[39m\u001b[38;5;124mnot enough image data\u001b[39m\u001b[38;5;124m\"\u001b[39m)\n",
      "\u001b[0;31mTypeError\u001b[0m: a bytes-like object is required, not 'Image'"
     ]
    }
   ],
   "source": [
    "if cap.isOpened(): \n",
    "    ret, img = cap.read()\n",
    "    cur = time.time() - prev\n",
    "    prepre = None\n",
    "    \n",
    "    cnt = 0\n",
    "    \n",
    "    while ret:\n",
    "        #img = cv2.cvtColor(img, cv2.COLOR_BGR2RGB)\n",
    "        #print(type(img))\n",
    "        img = Image.fromarray(img)\n",
    "        \n",
    "        predictions, gt_anns, image_meta = predictor.pil_image(img)\n",
    "        \n",
    "        if len(predictions) < 1:\n",
    "            continue\n",
    "            \n",
    "        xy = predictions[0].data\n",
    "        \n",
    "        result = calcul_xy(xy)\n",
    "        input_db(db, result)\n",
    "        \n",
    "        ret, img = cap.read()\n",
    "        cur = time.time() - prev\n",
    "        cnt+=1\n",
    "        \n",
    "        if cnt%100 == 0:\n",
    "            print(cnt)\n",
    "else:\n",
    "    print(\"url is not opened!!\")"
   ]
  },
  {
   "cell_type": "code",
   "execution_count": 3,
   "id": "2f169c5e-63d6-4620-8d6b-686e67092946",
   "metadata": {},
   "outputs": [
    {
     "name": "stdout",
     "output_type": "stream",
     "text": [
      "/bin/bash: conda: command not found\n"
     ]
    }
   ],
   "source": []
  },
  {
   "cell_type": "code",
   "execution_count": null,
   "id": "412d004a-60db-482e-84c3-4fd410137891",
   "metadata": {},
   "outputs": [],
   "source": []
  }
 ],
 "metadata": {
  "kernelspec": {
   "display_name": "project",
   "language": "python",
   "name": "project"
  },
  "language_info": {
   "codemirror_mode": {
    "name": "ipython",
    "version": 3
   },
   "file_extension": ".py",
   "mimetype": "text/x-python",
   "name": "python",
   "nbconvert_exporter": "python",
   "pygments_lexer": "ipython3",
   "version": "3.8.12"
  }
 },
 "nbformat": 4,
 "nbformat_minor": 5
}
