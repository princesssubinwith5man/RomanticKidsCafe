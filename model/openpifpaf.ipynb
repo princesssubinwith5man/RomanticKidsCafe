{
 "cells": [
  {
   "cell_type": "code",
   "execution_count": 1,
   "id": "ce951965-9f6f-4e18-a5f5-5431b23fe434",
   "metadata": {},
   "outputs": [
    {
     "name": "stdout",
     "output_type": "stream",
     "text": [
      "OpenPifPaf version 0.13.4\n",
      "PyTorch version 1.11.0\n"
     ]
    }
   ],
   "source": [
    "import io\n",
    "import numpy as np\n",
    "import PIL\n",
    "import requests\n",
    "import openpifpaf\n",
    "import torch\n",
    "import cv2\n",
    "import json\n",
    "import time\n",
    "from PIL import Image\n",
    "from pymongo import MongoClient\n",
    "from datetime import datetime\n",
    "\n",
    "print('OpenPifPaf version', openpifpaf.__version__)\n",
    "print('PyTorch version', torch.__version__)"
   ]
  },
  {
   "cell_type": "code",
   "execution_count": 2,
   "id": "1a4bccbe-e171-420b-9934-8f265f590df9",
   "metadata": {},
   "outputs": [],
   "source": [
    "url = \"http://121.155.53.218:5000/stream?src=0\"\n",
    "prev = 0\n",
    "FPS = 10\n",
    "predictor = openpifpaf.Predictor(checkpoint='shufflenetv2k16')"
   ]
  },
  {
   "cell_type": "code",
   "execution_count": 4,
   "id": "1757947d-17fd-40ae-b717-f405627a303d",
   "metadata": {},
   "outputs": [],
   "source": [
    "def cv2_to_pil(img):\n",
    "    return Image.fromarray(cv2.cvtColor(img, cv2.COLOR_BGR2RGB))\n",
    "\n",
    "def pil_to_cv2(img):\n",
    "    return cv2.cvtColor(np.array(img), cv2.COLOR_RGB2BGR)"
   ]
  },
  {
   "cell_type": "code",
   "execution_count": 7,
   "id": "d2a2b590-5bd3-458b-a4b6-c339fb2585ed",
   "metadata": {},
   "outputs": [
    {
     "ename": "AssertionError",
     "evalue": "color_connections",
     "output_type": "error",
     "traceback": [
      "\u001b[0;31m---------------------------------------------------------------------------\u001b[0m",
      "\u001b[0;31mAssertionError\u001b[0m                            Traceback (most recent call last)",
      "Input \u001b[0;32mIn [7]\u001b[0m, in \u001b[0;36m<cell line: 8>\u001b[0;34m()\u001b[0m\n\u001b[1;32m      3\u001b[0m data \u001b[38;5;241m=\u001b[39m openpifpaf\u001b[38;5;241m.\u001b[39mdatasets\u001b[38;5;241m.\u001b[39mPilImageList(pil_img)\n\u001b[1;32m      4\u001b[0m loader \u001b[38;5;241m=\u001b[39m torch\u001b[38;5;241m.\u001b[39mutils\u001b[38;5;241m.\u001b[39mdata\u001b[38;5;241m.\u001b[39mDataLoader(\n\u001b[1;32m      5\u001b[0m   data, batch_size\u001b[38;5;241m=\u001b[39m\u001b[38;5;241m1\u001b[39m, pin_memory\u001b[38;5;241m=\u001b[39m\u001b[38;5;28;01mTrue\u001b[39;00m, \n\u001b[1;32m      6\u001b[0m   collate_fn\u001b[38;5;241m=\u001b[39mopenpifpaf\u001b[38;5;241m.\u001b[39mdatasets\u001b[38;5;241m.\u001b[39mcollate_images_anns_meta)\n\u001b[0;32m----> 8\u001b[0m keypoint_painter \u001b[38;5;241m=\u001b[39m \u001b[43mopenpifpaf\u001b[49m\u001b[38;5;241;43m.\u001b[39;49m\u001b[43mshow\u001b[49m\u001b[38;5;241;43m.\u001b[39;49m\u001b[43mKeypointPainter\u001b[49m\u001b[43m(\u001b[49m\u001b[43mcolor_connections\u001b[49m\u001b[38;5;241;43m=\u001b[39;49m\u001b[38;5;28;43;01mFalse\u001b[39;49;00m\u001b[43m,\u001b[49m\u001b[43m \u001b[49m\u001b[43mlinewidth\u001b[49m\u001b[38;5;241;43m=\u001b[39;49m\u001b[38;5;241;43m6\u001b[39;49m\u001b[43m)\u001b[49m\n\u001b[1;32m     10\u001b[0m \u001b[38;5;28;01mfor\u001b[39;00m images_batch, _, __ \u001b[38;5;129;01min\u001b[39;00m loader:\n\u001b[1;32m     11\u001b[0m   predictions \u001b[38;5;241m=\u001b[39m processor\u001b[38;5;241m.\u001b[39mbatch(net, images_batch, device\u001b[38;5;241m=\u001b[39mdevice)[\u001b[38;5;241m0\u001b[39m]\n",
      "File \u001b[0;32m/tools/anaconda3/envs/project/lib/python3.8/site-packages/openpifpaf/show/painters.py:161\u001b[0m, in \u001b[0;36mKeypointPainter.__init__\u001b[0;34m(self, xy_scale, highlight, highlight_invisible, **kwargs)\u001b[0m\n\u001b[1;32m    156\u001b[0m \u001b[38;5;28;01mdef\u001b[39;00m \u001b[38;5;21m__init__\u001b[39m(\u001b[38;5;28mself\u001b[39m, \u001b[38;5;241m*\u001b[39m,\n\u001b[1;32m    157\u001b[0m              xy_scale\u001b[38;5;241m=\u001b[39m\u001b[38;5;241m1.0\u001b[39m,\n\u001b[1;32m    158\u001b[0m              highlight\u001b[38;5;241m=\u001b[39m\u001b[38;5;28;01mNone\u001b[39;00m,\n\u001b[1;32m    159\u001b[0m              highlight_invisible\u001b[38;5;241m=\u001b[39m\u001b[38;5;28;01mFalse\u001b[39;00m,\n\u001b[1;32m    160\u001b[0m              \u001b[38;5;241m*\u001b[39m\u001b[38;5;241m*\u001b[39mkwargs):\n\u001b[0;32m--> 161\u001b[0m     \u001b[38;5;28;43msuper\u001b[39;49m\u001b[43m(\u001b[49m\u001b[43m)\u001b[49m\u001b[38;5;241;43m.\u001b[39;49m\u001b[38;5;21;43m__init__\u001b[39;49m\u001b[43m(\u001b[49m\u001b[38;5;241;43m*\u001b[39;49m\u001b[38;5;241;43m*\u001b[39;49m\u001b[43mkwargs\u001b[49m\u001b[43m)\u001b[49m\n\u001b[1;32m    163\u001b[0m     \u001b[38;5;28mself\u001b[39m\u001b[38;5;241m.\u001b[39mxy_scale \u001b[38;5;241m=\u001b[39m xy_scale\n\u001b[1;32m    164\u001b[0m     \u001b[38;5;28mself\u001b[39m\u001b[38;5;241m.\u001b[39mhighlight \u001b[38;5;241m=\u001b[39m highlight\n",
      "File \u001b[0;32m/tools/anaconda3/envs/project/lib/python3.8/site-packages/openpifpaf/configurable.py:41\u001b[0m, in \u001b[0;36mConfigurable.__init__\u001b[0;34m(self, **kwargs)\u001b[0m\n\u001b[1;32m     38\u001b[0m \u001b[38;5;28;01mdef\u001b[39;00m \u001b[38;5;21m__init__\u001b[39m(\u001b[38;5;28mself\u001b[39m, \u001b[38;5;241m*\u001b[39m\u001b[38;5;241m*\u001b[39mkwargs):\n\u001b[1;32m     39\u001b[0m     \u001b[38;5;66;03m# use kwargs to set instance attributes to overwrite class attributes\u001b[39;00m\n\u001b[1;32m     40\u001b[0m     \u001b[38;5;28;01mfor\u001b[39;00m key, value \u001b[38;5;129;01min\u001b[39;00m kwargs\u001b[38;5;241m.\u001b[39mitems():\n\u001b[0;32m---> 41\u001b[0m         \u001b[38;5;28;01massert\u001b[39;00m \u001b[38;5;28mhasattr\u001b[39m(\u001b[38;5;28mself\u001b[39m, key), key\n\u001b[1;32m     42\u001b[0m         \u001b[38;5;28msetattr\u001b[39m(\u001b[38;5;28mself\u001b[39m, key, value)\n",
      "\u001b[0;31mAssertionError\u001b[0m: color_connections"
     ]
    }
   ],
   "source": [
    "img = cv2.imread('./real_image.png')\n",
    "pil_img = cv2_to_pil(img)\n",
    "data = openpifpaf.datasets.PilImageList(pil_img)\n",
    "loader = torch.utils.data.DataLoader(\n",
    "  data, batch_size=1, pin_memory=True, \n",
    "  collate_fn=openpifpaf.datasets.collate_images_anns_meta)\n",
    "\n",
    "keypoint_painter = openpifpaf.show.KeypointPainter(color_connections=False, linewidth=6)\n",
    "\n",
    "for images_batch, _, __ in loader:\n",
    "  predictions = processor.batch(net, images_batch, device=device)[0]\n",
    "  with openpifpaf.show.image_canvas(im) as ax:\n",
    "    keypoint_painter.annotations(ax, predictions)"
   ]
  },
  {
   "cell_type": "code",
   "execution_count": 8,
   "id": "521480a6-186f-4a6d-8087-8cdb281d3a01",
   "metadata": {},
   "outputs": [
    {
     "name": "stderr",
     "output_type": "stream",
     "text": [
      "[tcp @ 0x555e8426d2c0] Connection to tcp://121.155.53.218:5000 failed: Connection timed out\n"
     ]
    },
    {
     "ename": "NameError",
     "evalue": "name 'widgets' is not defined",
     "output_type": "error",
     "traceback": [
      "\u001b[0;31m---------------------------------------------------------------------------\u001b[0m",
      "\u001b[0;31mNameError\u001b[0m                                 Traceback (most recent call last)",
      "Input \u001b[0;32mIn [8]\u001b[0m, in \u001b[0;36m<cell line: 5>\u001b[0;34m()\u001b[0m\n\u001b[1;32m      2\u001b[0m prev \u001b[38;5;241m=\u001b[39m \u001b[38;5;241m0\u001b[39m\n\u001b[1;32m      3\u001b[0m FPS \u001b[38;5;241m=\u001b[39m \u001b[38;5;241m10\u001b[39m\n\u001b[0;32m----> 5\u001b[0m wImg \u001b[38;5;241m=\u001b[39m \u001b[43mwidgets\u001b[49m\u001b[38;5;241m.\u001b[39mImage( \n\u001b[1;32m      6\u001b[0m     layout \u001b[38;5;241m=\u001b[39m widgets\u001b[38;5;241m.\u001b[39mLayout(border\u001b[38;5;241m=\u001b[39m\u001b[38;5;124m\"\u001b[39m\u001b[38;5;124msolid\u001b[39m\u001b[38;5;124m\"\u001b[39m) \n\u001b[1;32m      7\u001b[0m ) \n\u001b[1;32m      8\u001b[0m display(wImg)\n\u001b[1;32m     10\u001b[0m \u001b[38;5;28;01mif\u001b[39;00m cap\u001b[38;5;241m.\u001b[39misOpened(): \n",
      "\u001b[0;31mNameError\u001b[0m: name 'widgets' is not defined"
     ]
    }
   ],
   "source": [
    "cap = cv2.VideoCapture(url)\n",
    "prev = 0\n",
    "FPS = 10\n",
    "\n",
    "wImg = widgets.Image( \n",
    "    layout = widgets.Layout(border=\"solid\") \n",
    ") \n",
    "display(wImg)\n",
    "\n",
    "if cap.isOpened(): \n",
    "    ret, img = cap.read()\n",
    "    cur = time.time() - prev\n",
    "    while ret:\n",
    "        img = Image.fromarray(img)\n",
    "\n",
    "        \n",
    "        ret, img = cap.read()\n",
    "else:\n",
    "    print(\"not opened\")\n",
    "cap.release()"
   ]
  },
  {
   "cell_type": "code",
   "execution_count": null,
   "id": "81bb632a-4afa-43c1-adb1-2a1cdcdb7b55",
   "metadata": {},
   "outputs": [],
   "source": []
  }
 ],
 "metadata": {
  "kernelspec": {
   "display_name": "project",
   "language": "python",
   "name": "project"
  },
  "language_info": {
   "codemirror_mode": {
    "name": "ipython",
    "version": 3
   },
   "file_extension": ".py",
   "mimetype": "text/x-python",
   "name": "python",
   "nbconvert_exporter": "python",
   "pygments_lexer": "ipython3",
   "version": "3.8.12"
  }
 },
 "nbformat": 4,
 "nbformat_minor": 5
}
