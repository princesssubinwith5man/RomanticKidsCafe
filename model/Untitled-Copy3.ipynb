{
 "cells": [
  {
   "cell_type": "code",
   "execution_count": 1,
   "id": "cbbc531d-5414-4001-b915-56b823830739",
   "metadata": {},
   "outputs": [
    {
     "name": "stdout",
     "output_type": "stream",
     "text": [
      "OpenPifPaf version 0.13.4\n",
      "PyTorch version 1.11.0\n"
     ]
    }
   ],
   "source": [
    "import io\n",
    "import numpy as np\n",
    "import PIL\n",
    "import requests\n",
    "import openpifpaf\n",
    "import torch\n",
    "import cv2\n",
    "import json\n",
    "import time\n",
    "from PIL import Image\n",
    "from pymongo import MongoClient\n",
    "from datetime import datetime\n",
    "\n",
    "print('OpenPifPaf version', openpifpaf.__version__)\n",
    "print('PyTorch version', torch.__version__)"
   ]
  },
  {
   "cell_type": "code",
   "execution_count": 2,
   "id": "ddeccc61-73d2-4a87-b050-a63342da74de",
   "metadata": {},
   "outputs": [],
   "source": [
    "predictor = openpifpaf.Predictor(checkpoint='shufflenetv2k16')\n",
    "#predictions, gt_anns, image_meta = predictor.pil_image(pil_im)"
   ]
  },
  {
   "cell_type": "code",
   "execution_count": 9,
   "id": "84ba8eee-2743-4f39-8592-b7875e80622d",
   "metadata": {},
   "outputs": [],
   "source": [
    "url = \"http://121.155.53.218:5000/stream?src=0\"\n",
    "cap = cv2.VideoCapture(url)\n",
    "prev = 0\n",
    "FPS = 10"
   ]
  },
  {
   "cell_type": "code",
   "execution_count": 4,
   "id": "1358f0dd-d066-4fec-86c3-38101aa99147",
   "metadata": {},
   "outputs": [
    {
     "name": "stdout",
     "output_type": "stream",
     "text": [
      "['admin', 'config', 'local', 'mydb']\n"
     ]
    }
   ],
   "source": [
    "client = MongoClient(host='114.70.235.37', port=27017)\n",
    "print(client.list_database_names())"
   ]
  },
  {
   "cell_type": "code",
   "execution_count": 5,
   "id": "a3e4f9b1-6a6e-480f-b646-825f95448688",
   "metadata": {},
   "outputs": [],
   "source": [
    "def calcul_xy(xy):\n",
    "    result = []\n",
    "    \n",
    "    neck = [((xy[5][0]+xy[6][0])/2 + xy[0][0]) / 2, ((xy[5][1]+xy[6][1])/2 + xy[0][1]) / 2]\n",
    "    hip = [(xy[11][0]+xy[12][0])/2, (xy[11][1]+xy[12][1])/2]\n",
    "    \n",
    "    result.append((xy[0][0] - neck[0]).item())\n",
    "    result.append((xy[0][1] - neck[1]).item())\n",
    "    \n",
    "    result.append((neck[0] - xy[7][0]).item())\n",
    "    result.append((neck[1] - xy[7][1]).item())\n",
    "    \n",
    "    result.append((neck[0] - xy[8][0]).item())\n",
    "    result.append((neck[1] - xy[8][1]).item())\n",
    "    \n",
    "    result.append((xy[7][0] - xy[9][0]).item())\n",
    "    result.append((xy[7][1] - xy[9][1]).item())\n",
    "    \n",
    "    result.append((xy[8][0] - xy[10][0]).item())\n",
    "    result.append((xy[8][1] - xy[10][1]).item())\n",
    "    \n",
    "    # v5 neck - hip\n",
    "    result.append((neck[0] - hip[0]).item())\n",
    "    result.append((neck[1] - hip[1]).item())\n",
    "    \n",
    "    result.append((hip[0] - xy[13][0]).item())\n",
    "    result.append((hip[1] - xy[13][1]).item())\n",
    "    \n",
    "    result.append((hip[0] - xy[14][0]).item())\n",
    "    result.append((hip[1] - xy[14][1]).item())\n",
    "    \n",
    "    result.append((xy[13][0] - xy[15][0]).item())\n",
    "    result.append((xy[13][1] - xy[15][1]).item())\n",
    "    \n",
    "    result.append((xy[14][0] - xy[16][0]).item())\n",
    "    result.append((xy[14][1] - xy[16][1]).item())\n",
    "    \n",
    "    return result    "
   ]
  },
  {
   "cell_type": "code",
   "execution_count": 6,
   "id": "11686f32-e452-461f-914c-95ad77673c70",
   "metadata": {},
   "outputs": [],
   "source": [
    "\n",
    "db = client['mydb']\n",
    "db = db.xy_wj\n",
    "\n",
    "def input_db(db, data):\n",
    "    input_data = dict()\n",
    "    \n",
    "    input_data['date'] = datetime.now()\n",
    "    \n",
    "    for i in range(10):\n",
    "        \n",
    "        for j in range(2):\n",
    "            index = \"v\" + str(i)\n",
    "            if j%2 == 0:\n",
    "                index += 'x'\n",
    "            else:\n",
    "                index += 'y'\n",
    "            \n",
    "            input_data[index] = data[i*2 + j]\n",
    "    \n",
    "    #print(type(input_data['v0x']))\n",
    "    db.insert_one(input_data)\n",
    "            "
   ]
  },
  {
   "cell_type": "code",
   "execution_count": 10,
   "id": "440e2f4d-a86c-4364-8602-5d0cd5211933",
   "metadata": {},
   "outputs": [
    {
     "name": "stdout",
     "output_type": "stream",
     "text": [
      "src/openpifpaf/csrc/src/cif_hr.cpp:102: UserInfo: resizing cifhr buffer\n",
      "src/openpifpaf/csrc/src/occupancy.cpp:53: UserInfo: resizing occupancy buffer\n",
      "100\n",
      "200\n",
      "300\n",
      "400\n",
      "500\n",
      "600\n",
      "700\n",
      "800\n",
      "900\n",
      "1000\n",
      "1100\n",
      "1200\n",
      "1300\n",
      "1400\n",
      "1500\n",
      "1600\n",
      "1700\n",
      "1800\n",
      "Frame exception\n",
      "Frame exception\n"
     ]
    },
    {
     "name": "stderr",
     "output_type": "stream",
     "text": [
      "[tcp @ 0x559a359e1e40] Connection to tcp://121.155.53.218:5000 failed: Connection timed out\n"
     ]
    },
    {
     "name": "stdout",
     "output_type": "stream",
     "text": [
      "Frame exception\n"
     ]
    },
    {
     "name": "stderr",
     "output_type": "stream",
     "text": [
      "[tcp @ 0x559a34e70480] Connection to tcp://121.155.53.218:5000 failed: Connection timed out\n"
     ]
    },
    {
     "name": "stdout",
     "output_type": "stream",
     "text": [
      "Frame exception\n"
     ]
    },
    {
     "name": "stderr",
     "output_type": "stream",
     "text": [
      "[tcp @ 0x559a359e4100] Connection to tcp://121.155.53.218:5000 failed: Connection timed out\n"
     ]
    },
    {
     "name": "stdout",
     "output_type": "stream",
     "text": [
      "Frame exception\n"
     ]
    },
    {
     "name": "stderr",
     "output_type": "stream",
     "text": [
      "[tcp @ 0x559a34e6c840] Connection to tcp://121.155.53.218:5000 failed: Connection timed out\n"
     ]
    },
    {
     "name": "stdout",
     "output_type": "stream",
     "text": [
      "Frame exception\n"
     ]
    },
    {
     "name": "stderr",
     "output_type": "stream",
     "text": [
      "[tcp @ 0x559a359e1880] Connection to tcp://121.155.53.218:5000 failed: Connection timed out\n"
     ]
    },
    {
     "name": "stdout",
     "output_type": "stream",
     "text": [
      "Frame exception\n"
     ]
    },
    {
     "name": "stderr",
     "output_type": "stream",
     "text": [
      "[tcp @ 0x559a359e4100] Connection to tcp://121.155.53.218:5000 failed: Connection timed out\n"
     ]
    },
    {
     "name": "stdout",
     "output_type": "stream",
     "text": [
      "Frame exception\n",
      "Frame exception\n"
     ]
    },
    {
     "name": "stderr",
     "output_type": "stream",
     "text": [
      "[tcp @ 0x559a34e70480] Connection to tcp://121.155.53.218:5000 failed: Connection timed out\n",
      "[tcp @ 0x559a359e1e40] Connection to tcp://121.155.53.218:5000 failed: Connection timed out\n"
     ]
    },
    {
     "name": "stdout",
     "output_type": "stream",
     "text": [
      "Frame exception\n"
     ]
    },
    {
     "name": "stderr",
     "output_type": "stream",
     "text": [
      "[tcp @ 0x559a34e6c840] Connection to tcp://121.155.53.218:5000 failed: Connection timed out\n"
     ]
    },
    {
     "name": "stdout",
     "output_type": "stream",
     "text": [
      "Frame exception\n"
     ]
    },
    {
     "name": "stderr",
     "output_type": "stream",
     "text": [
      "[tcp @ 0x559a359e1880] Connection to tcp://121.155.53.218:5000 failed: Connection timed out\n"
     ]
    },
    {
     "name": "stdout",
     "output_type": "stream",
     "text": [
      "Frame exception\n"
     ]
    },
    {
     "name": "stderr",
     "output_type": "stream",
     "text": [
      "[tcp @ 0x559a359e4100] Connection to tcp://121.155.53.218:5000 failed: Connection timed out\n"
     ]
    },
    {
     "name": "stdout",
     "output_type": "stream",
     "text": [
      "Frame exception\n"
     ]
    },
    {
     "name": "stderr",
     "output_type": "stream",
     "text": [
      "[tcp @ 0x559a34e70480] Connection to tcp://121.155.53.218:5000 failed: Connection timed out\n"
     ]
    },
    {
     "name": "stdout",
     "output_type": "stream",
     "text": [
      "Frame exception\n"
     ]
    },
    {
     "name": "stderr",
     "output_type": "stream",
     "text": [
      "[tcp @ 0x559a359e4100] Connection to tcp://121.155.53.218:5000 failed: Connection timed out\n"
     ]
    },
    {
     "name": "stdout",
     "output_type": "stream",
     "text": [
      "Frame exception\n"
     ]
    },
    {
     "name": "stderr",
     "output_type": "stream",
     "text": [
      "[tcp @ 0x559a34e70480] Connection to tcp://121.155.53.218:5000 failed: Connection timed out\n"
     ]
    },
    {
     "name": "stdout",
     "output_type": "stream",
     "text": [
      "Frame exception\n"
     ]
    },
    {
     "name": "stderr",
     "output_type": "stream",
     "text": [
      "[tcp @ 0x559a34e6c840] Connection to tcp://121.155.53.218:5000 failed: Connection timed out\n"
     ]
    },
    {
     "name": "stdout",
     "output_type": "stream",
     "text": [
      "Frame exception\n"
     ]
    },
    {
     "name": "stderr",
     "output_type": "stream",
     "text": [
      "[tcp @ 0x559a359e1e40] Connection to tcp://121.155.53.218:5000 failed: Connection timed out\n"
     ]
    },
    {
     "ename": "KeyboardInterrupt",
     "evalue": "",
     "output_type": "error",
     "traceback": [
      "\u001b[0;31m---------------------------------------------------------------------------\u001b[0m",
      "\u001b[0;31mTypeError\u001b[0m                                 Traceback (most recent call last)",
      "Input \u001b[0;32mIn [10]\u001b[0m, in \u001b[0;36m<cell line: 1>\u001b[0;34m()\u001b[0m\n\u001b[1;32m     10\u001b[0m \u001b[38;5;28;01mtry\u001b[39;00m:\n\u001b[1;32m     11\u001b[0m     \u001b[38;5;66;03m#img = cv2.cvtColor(img, cv2.COLOR_BGR2RGB)\u001b[39;00m\n\u001b[1;32m     12\u001b[0m     \u001b[38;5;66;03m#print(type(img))\u001b[39;00m\n\u001b[0;32m---> 13\u001b[0m     img \u001b[38;5;241m=\u001b[39m \u001b[43mImage\u001b[49m\u001b[38;5;241;43m.\u001b[39;49m\u001b[43mfromarray\u001b[49m\u001b[43m(\u001b[49m\u001b[43mimg\u001b[49m\u001b[43m)\u001b[49m\n\u001b[1;32m     15\u001b[0m     predictions, gt_anns, image_meta \u001b[38;5;241m=\u001b[39m predictor\u001b[38;5;241m.\u001b[39mpil_image(img)\n",
      "File \u001b[0;32m/tools/anaconda3/envs/project/lib/python3.8/site-packages/PIL/Image.py:2974\u001b[0m, in \u001b[0;36mfromarray\u001b[0;34m(obj, mode)\u001b[0m\n\u001b[1;32m   2972\u001b[0m         obj \u001b[38;5;241m=\u001b[39m obj\u001b[38;5;241m.\u001b[39mtostring()\n\u001b[0;32m-> 2974\u001b[0m \u001b[38;5;28;01mreturn\u001b[39;00m \u001b[43mfrombuffer\u001b[49m\u001b[43m(\u001b[49m\u001b[43mmode\u001b[49m\u001b[43m,\u001b[49m\u001b[43m \u001b[49m\u001b[43msize\u001b[49m\u001b[43m,\u001b[49m\u001b[43m \u001b[49m\u001b[43mobj\u001b[49m\u001b[43m,\u001b[49m\u001b[43m \u001b[49m\u001b[38;5;124;43m\"\u001b[39;49m\u001b[38;5;124;43mraw\u001b[39;49m\u001b[38;5;124;43m\"\u001b[39;49m\u001b[43m,\u001b[49m\u001b[43m \u001b[49m\u001b[43mrawmode\u001b[49m\u001b[43m,\u001b[49m\u001b[43m \u001b[49m\u001b[38;5;241;43m0\u001b[39;49m\u001b[43m,\u001b[49m\u001b[43m \u001b[49m\u001b[38;5;241;43m1\u001b[39;49m\u001b[43m)\u001b[49m\n",
      "File \u001b[0;32m/tools/anaconda3/envs/project/lib/python3.8/site-packages/PIL/Image.py:2901\u001b[0m, in \u001b[0;36mfrombuffer\u001b[0;34m(mode, size, data, decoder_name, *args)\u001b[0m\n\u001b[1;32m   2899\u001b[0m         \u001b[38;5;28;01mreturn\u001b[39;00m im\n\u001b[0;32m-> 2901\u001b[0m \u001b[38;5;28;01mreturn\u001b[39;00m \u001b[43mfrombytes\u001b[49m\u001b[43m(\u001b[49m\u001b[43mmode\u001b[49m\u001b[43m,\u001b[49m\u001b[43m \u001b[49m\u001b[43msize\u001b[49m\u001b[43m,\u001b[49m\u001b[43m \u001b[49m\u001b[43mdata\u001b[49m\u001b[43m,\u001b[49m\u001b[43m \u001b[49m\u001b[43mdecoder_name\u001b[49m\u001b[43m,\u001b[49m\u001b[43m \u001b[49m\u001b[43margs\u001b[49m\u001b[43m)\u001b[49m\n",
      "File \u001b[0;32m/tools/anaconda3/envs/project/lib/python3.8/site-packages/PIL/Image.py:2843\u001b[0m, in \u001b[0;36mfrombytes\u001b[0;34m(mode, size, data, decoder_name, *args)\u001b[0m\n\u001b[1;32m   2842\u001b[0m im \u001b[38;5;241m=\u001b[39m new(mode, size)\n\u001b[0;32m-> 2843\u001b[0m \u001b[43mim\u001b[49m\u001b[38;5;241;43m.\u001b[39;49m\u001b[43mfrombytes\u001b[49m\u001b[43m(\u001b[49m\u001b[43mdata\u001b[49m\u001b[43m,\u001b[49m\u001b[43m \u001b[49m\u001b[43mdecoder_name\u001b[49m\u001b[43m,\u001b[49m\u001b[43m \u001b[49m\u001b[43margs\u001b[49m\u001b[43m)\u001b[49m\n\u001b[1;32m   2844\u001b[0m \u001b[38;5;28;01mreturn\u001b[39;00m im\n",
      "File \u001b[0;32m/tools/anaconda3/envs/project/lib/python3.8/site-packages/PIL/Image.py:795\u001b[0m, in \u001b[0;36mImage.frombytes\u001b[0;34m(self, data, decoder_name, *args)\u001b[0m\n\u001b[1;32m    794\u001b[0m d\u001b[38;5;241m.\u001b[39msetimage(\u001b[38;5;28mself\u001b[39m\u001b[38;5;241m.\u001b[39mim)\n\u001b[0;32m--> 795\u001b[0m s \u001b[38;5;241m=\u001b[39m \u001b[43md\u001b[49m\u001b[38;5;241;43m.\u001b[39;49m\u001b[43mdecode\u001b[49m\u001b[43m(\u001b[49m\u001b[43mdata\u001b[49m\u001b[43m)\u001b[49m\n\u001b[1;32m    797\u001b[0m \u001b[38;5;28;01mif\u001b[39;00m s[\u001b[38;5;241m0\u001b[39m] \u001b[38;5;241m>\u001b[39m\u001b[38;5;241m=\u001b[39m \u001b[38;5;241m0\u001b[39m:\n",
      "\u001b[0;31mTypeError\u001b[0m: a bytes-like object is required, not 'Image'",
      "\nDuring handling of the above exception, another exception occurred:\n",
      "\u001b[0;31mKeyboardInterrupt\u001b[0m                         Traceback (most recent call last)",
      "Input \u001b[0;32mIn [10]\u001b[0m, in \u001b[0;36m<cell line: 1>\u001b[0;34m()\u001b[0m\n\u001b[1;32m     45\u001b[0m             \u001b[38;5;28mprint\u001b[39m(\u001b[38;5;124m\"\u001b[39m\u001b[38;5;124mFrame exception\u001b[39m\u001b[38;5;124m\"\u001b[39m)\n\u001b[1;32m     46\u001b[0m             cap\u001b[38;5;241m.\u001b[39mrelease()\n\u001b[0;32m---> 47\u001b[0m             cap \u001b[38;5;241m=\u001b[39m \u001b[43mcv2\u001b[49m\u001b[38;5;241;43m.\u001b[39;49m\u001b[43mVideoCapture\u001b[49m\u001b[43m(\u001b[49m\u001b[43murl\u001b[49m\u001b[43m)\u001b[49m\n\u001b[1;32m     48\u001b[0m \u001b[38;5;28;01melse\u001b[39;00m:\n\u001b[1;32m     49\u001b[0m     \u001b[38;5;28mprint\u001b[39m(\u001b[38;5;124m\"\u001b[39m\u001b[38;5;124murl is not opened!!\u001b[39m\u001b[38;5;124m\"\u001b[39m)\n",
      "\u001b[0;31mKeyboardInterrupt\u001b[0m: "
     ]
    }
   ],
   "source": [
    "if cap.isOpened(): \n",
    "    ret, img = cap.read()\n",
    "    cur = time.time() - prev\n",
    "    before_xy = None\n",
    "    before_chk = False\n",
    "    \n",
    "    cnt = 0\n",
    "    \n",
    "    while ret:\n",
    "        try:\n",
    "            #img = cv2.cvtColor(img, cv2.COLOR_BGR2RGB)\n",
    "            #print(type(img))\n",
    "            img = Image.fromarray(img)\n",
    "\n",
    "            predictions, gt_anns, image_meta = predictor.pil_image(img)\n",
    "\n",
    "            if len(predictions) < 1:\n",
    "                ret, img = cap.read()\n",
    "                cur = time.time() - prev\n",
    "                continue\n",
    "\n",
    "            xy = predictions[0].data\n",
    "            \n",
    "            \n",
    "            ## 좌표 중 0으로 출력되는 포인트를 인식하지 못한 부분은 이전 값으로 채우기\n",
    "            if before_chk:\n",
    "                for i in range(len(xy)):\n",
    "                    if xy[i][0] == 0:\n",
    "                        xy[i][0], xy[i][1] = before_xy[i][0], before_xy[i][1]\n",
    "            \n",
    "            before_xy = xy\n",
    "            before_chk = True\n",
    "            \n",
    "            result = calcul_xy(xy)\n",
    "            input_db(db, result)\n",
    "\n",
    "            ret, img = cap.read()\n",
    "            cur = time.time() - prev\n",
    "            cnt+=1\n",
    "\n",
    "            if cnt%100 == 0:\n",
    "                print(cnt)\n",
    "                \n",
    "        except:\n",
    "            print(\"Frame exception\")\n",
    "            cap.release()\n",
    "            cap = cv2.VideoCapture(url)\n",
    "else:\n",
    "    print(\"url is not opened!!\")"
   ]
  },
  {
   "cell_type": "code",
   "execution_count": null,
   "id": "2f169c5e-63d6-4620-8d6b-686e67092946",
   "metadata": {},
   "outputs": [],
   "source": []
  },
  {
   "cell_type": "code",
   "execution_count": null,
   "id": "412d004a-60db-482e-84c3-4fd410137891",
   "metadata": {},
   "outputs": [],
   "source": []
  }
 ],
 "metadata": {
  "kernelspec": {
   "display_name": "project",
   "language": "python",
   "name": "project"
  },
  "language_info": {
   "codemirror_mode": {
    "name": "ipython",
    "version": 3
   },
   "file_extension": ".py",
   "mimetype": "text/x-python",
   "name": "python",
   "nbconvert_exporter": "python",
   "pygments_lexer": "ipython3",
   "version": "3.8.12"
  }
 },
 "nbformat": 4,
 "nbformat_minor": 5
}
