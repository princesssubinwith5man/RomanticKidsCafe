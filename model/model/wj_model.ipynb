{
 "cells": [
  {
   "cell_type": "code",
   "execution_count": 1,
   "metadata": {
    "tags": []
   },
   "outputs": [],
   "source": [
    "import os\n",
    "import json\n",
    "from tqdm import trange\n",
    "\n",
    "from tqdm import tqdm"
   ]
  },
  {
   "cell_type": "code",
   "execution_count": 12,
   "metadata": {},
   "outputs": [],
   "source": [
    "import chardet"
   ]
  },
  {
   "cell_type": "code",
   "execution_count": 63,
   "metadata": {
    "collapsed": false,
    "jupyter": {
     "outputs_hidden": false
    },
    "pycharm": {
     "name": "#%%\n"
    }
   },
   "outputs": [],
   "source": [
    "path_dir = '/home/stu1/RomanticKidsCafe/data/annotation/2D'\n",
    "file_list1 = os.listdir(path_dir)"
   ]
  },
  {
   "cell_type": "code",
   "execution_count": 64,
   "metadata": {},
   "outputs": [
    {
     "name": "stdout",
     "output_type": "stream",
     "text": [
      "{'encoding': 'ascii', 'confidence': 1.0, 'language': ''}\n"
     ]
    }
   ],
   "source": [
    "dir = '/project/annotation/2D/1-1/1-1_004-C10_2D.json'\n",
    "with open(dir, 'r') as f:\n",
    "    json_data = json.load(f)\n",
    "print(chardet.detect(dir.encode()))"
   ]
  },
  {
   "cell_type": "code",
   "execution_count": 67,
   "metadata": {
    "collapsed": false,
    "jupyter": {
     "outputs_hidden": false
    },
    "pycharm": {
     "name": "#%%\n"
    }
   },
   "outputs": [
    {
     "name": "stderr",
     "output_type": "stream",
     "text": [
      " 80%|████████  | 561/697 [01:38<00:23,  5.68it/s]\n"
     ]
    },
    {
     "ename": "FileNotFoundError",
     "evalue": "[Errno 2] No such file or directory: '/home/stu1/RomanticKidsCafe/data/annotation/2D/1-1/.DS_Store'",
     "output_type": "error",
     "traceback": [
      "\u001b[0;31m---------------------------------------------------------------------------\u001b[0m",
      "\u001b[0;31mFileNotFoundError\u001b[0m                         Traceback (most recent call last)",
      "Input \u001b[0;32mIn [67]\u001b[0m, in \u001b[0;36m<cell line: 6>\u001b[0;34m()\u001b[0m\n\u001b[1;32m     38\u001b[0m     file_name2 \u001b[38;5;241m=\u001b[39m file_name2[\u001b[38;5;241m2\u001b[39m:]\n\u001b[1;32m     39\u001b[0m read_file_path \u001b[38;5;241m=\u001b[39m file_path \u001b[38;5;241m+\u001b[39m \u001b[38;5;124m'\u001b[39m\u001b[38;5;124m/\u001b[39m\u001b[38;5;124m'\u001b[39m \u001b[38;5;241m+\u001b[39m file_name2\n\u001b[0;32m---> 42\u001b[0m \u001b[38;5;28;01mwith\u001b[39;00m \u001b[38;5;28;43mopen\u001b[39;49m\u001b[43m(\u001b[49m\u001b[43mread_file_path\u001b[49m\u001b[43m,\u001b[49m\u001b[43m \u001b[49m\u001b[38;5;124;43m'\u001b[39;49m\u001b[38;5;124;43mr\u001b[39;49m\u001b[38;5;124;43m'\u001b[39;49m\u001b[43m)\u001b[49m \u001b[38;5;28;01mas\u001b[39;00m f:\n\u001b[1;32m     43\u001b[0m     json_data \u001b[38;5;241m=\u001b[39m json\u001b[38;5;241m.\u001b[39mload(f)\n\u001b[1;32m     44\u001b[0m     \u001b[38;5;66;03m#print(json_data.keys())\u001b[39;00m\n",
      "\u001b[0;31mFileNotFoundError\u001b[0m: [Errno 2] No such file or directory: '/home/stu1/RomanticKidsCafe/data/annotation/2D/1-1/.DS_Store'"
     ]
    }
   ],
   "source": [
    "false_data = list()\n",
    "true_data = list()\n",
    "\n",
    "true_name = list()\n",
    "\n",
    "for file_name1 in tqdm(file_list1):\n",
    "    if(file_name1[0] == '.'):\n",
    "        file_name1 = file_name1[2:]\n",
    "    #print(file_name1)\n",
    "    file_path = path_dir + '/' + file_name1\n",
    "\n",
    "    file_list2 = os.listdir(file_path)\n",
    "\n",
    "    if file_name1[0] == '6': # 쓰러짐 영상\n",
    "        for file_name2 in file_list2:\n",
    "            if(file_name2 == '.DS_Store'):\n",
    "                continue\n",
    "            if(file_name2[0] == '.'):\n",
    "                file_name2 = file_name2[2:]\n",
    "            read_file_path = file_path + '/' + file_name2\n",
    "            true_name.append(file_name2)\n",
    "\n",
    "            with open(read_file_path, 'r') as f:\n",
    "                json_data = json.load(f)\n",
    "                #print(json_data.keys())\n",
    "                tmpList = list()\n",
    "\n",
    "                for data in json_data['annotations']:\n",
    "                    tmpList.append(data['keypoints'])\n",
    "\n",
    "                true_data.append(tmpList)\n",
    "\n",
    "    else: # 기타 영상\n",
    "        for file_name2 in file_list2:\n",
    "            if(file_name2 == '/.DS_Store'):\n",
    "                continue\n",
    "            if(file_name2[0] == '.'):\n",
    "                file_name2 = file_name2[2:]\n",
    "            read_file_path = file_path + '/' + file_name2\n",
    "\n",
    "    \n",
    "            with open(read_file_path, 'r') as f:\n",
    "                json_data = json.load(f)\n",
    "                #print(json_data.keys())\n",
    "                tmpList = list()\n",
    "                for data in json_data['annotations']:\n",
    "                    tmpList.append(data['keypoints'])\n",
    "\n",
    "                false_data.append(tmpList)"
   ]
  },
  {
   "cell_type": "code",
   "execution_count": null,
   "metadata": {
    "collapsed": false,
    "jupyter": {
     "outputs_hidden": false
    },
    "pycharm": {
     "name": "#%%\n"
    }
   },
   "outputs": [],
   "source": [
    "import numpy as np"
   ]
  },
  {
   "cell_type": "code",
   "execution_count": 11,
   "metadata": {
    "collapsed": false,
    "jupyter": {
     "outputs_hidden": false
    },
    "pycharm": {
     "name": "#%%\n"
    }
   },
   "outputs": [],
   "source": [
    "true_np = np.array(true_data, dtype=object)\n",
    "false_np = np.array(false_data, dtype=object)"
   ]
  },
  {
   "cell_type": "code",
   "execution_count": 12,
   "metadata": {
    "collapsed": false,
    "jupyter": {
     "outputs_hidden": false
    },
    "pycharm": {
     "name": "#%%\n"
    }
   },
   "outputs": [
    {
     "name": "stdout",
     "output_type": "stream",
     "text": [
      "(198335,)\n",
      "(3831,)\n"
     ]
    }
   ],
   "source": [
    "print(false_np.shape)\n",
    "print(true_np.shape)"
   ]
  },
  {
   "cell_type": "code",
   "execution_count": 15,
   "metadata": {
    "collapsed": false,
    "jupyter": {
     "outputs_hidden": false
    },
    "pycharm": {
     "name": "#%%\n"
    }
   },
   "outputs": [
    {
     "name": "stdout",
     "output_type": "stream",
     "text": [
      "21\n",
      "198335\n"
     ]
    }
   ],
   "source": [
    "print(len(true_data[2]))\n",
    "print(len(false_data))"
   ]
  },
  {
   "cell_type": "code",
   "execution_count": 31,
   "metadata": {
    "collapsed": false,
    "jupyter": {
     "outputs_hidden": false
    },
    "pycharm": {
     "name": "#%%\n"
    }
   },
   "outputs": [
    {
     "name": "stderr",
     "output_type": "stream",
     "text": [
      " 66%|██████▌   | 230/348 [02:26<01:15,  1.57it/s]\n"
     ]
    },
    {
     "ename": "IndexError",
     "evalue": "list index out of range",
     "output_type": "error",
     "traceback": [
      "\u001b[1;31m---------------------------------------------------------------------------\u001b[0m",
      "\u001b[1;31mIndexError\u001b[0m                                Traceback (most recent call last)",
      "Input \u001b[1;32mIn [31]\u001b[0m, in \u001b[0;36m<cell line: 6>\u001b[1;34m()\u001b[0m\n\u001b[0;32m     18\u001b[0m json_data \u001b[38;5;241m=\u001b[39m json\u001b[38;5;241m.\u001b[39mload(f)\n\u001b[0;32m     19\u001b[0m tmpList \u001b[38;5;241m=\u001b[39m \u001b[38;5;28mlist\u001b[39m()\n\u001b[1;32m---> 21\u001b[0m data \u001b[38;5;241m=\u001b[39m \u001b[43mjson_data\u001b[49m\u001b[43m[\u001b[49m\u001b[38;5;124;43m'\u001b[39;49m\u001b[38;5;124;43mannotations\u001b[39;49m\u001b[38;5;124;43m'\u001b[39;49m\u001b[43m]\u001b[49m\u001b[43m[\u001b[49m\u001b[38;5;241;43m0\u001b[39;49m\u001b[43m]\u001b[49m\n\u001b[0;32m     22\u001b[0m \u001b[38;5;28;01mif\u001b[39;00m \u001b[38;5;28mlen\u001b[39m(data[\u001b[38;5;124m'\u001b[39m\u001b[38;5;124mkeypoints\u001b[39m\u001b[38;5;124m'\u001b[39m])\u001b[38;5;241m>\u001b[39m\u001b[38;5;241m48\u001b[39m:\n\u001b[0;32m     23\u001b[0m     \u001b[38;5;28mprint\u001b[39m(file_name2)\n",
      "\u001b[1;31mIndexError\u001b[0m: list index out of range"
     ]
    }
   ],
   "source": [
    "\n",
    "false_data = list()\n",
    "true_data = list()\n",
    "\n",
    "true_name = list()\n",
    "\n",
    "for file_name1 in tqdm(file_list1):\n",
    "    #print(file_name1)\n",
    "    file_path = path_dir + '/' + file_name1\n",
    "\n",
    "    file_list2 = os.listdir(file_path)\n",
    "\n",
    "\n",
    "    for file_name2 in file_list2:\n",
    "        read_file_path = file_path + '/' + file_name2\n",
    "        true_name.append(file_name2)\n",
    "\n",
    "        with open(read_file_path, 'r') as f:\n",
    "            json_data = json.load(f)\n",
    "            tmpList = list()\n",
    "\n",
    "            data = json_data['annotations'][0]\n",
    "            if len(data['keypoints'])>48:\n",
    "                print(file_name2)\n",
    "                break\n",
    "\n"
   ]
  },
  {
   "cell_type": "code",
   "execution_count": 32,
   "metadata": {
    "collapsed": false,
    "jupyter": {
     "outputs_hidden": false
    },
    "pycharm": {
     "name": "#%%\n"
    }
   },
   "outputs": [
    {
     "data": {
      "text/plain": [
       "(3831,)"
      ]
     },
     "execution_count": 32,
     "metadata": {},
     "output_type": "execute_result"
    }
   ],
   "source": [
    "true_np.shape\n"
   ]
  },
  {
   "cell_type": "code",
   "execution_count": 39,
   "metadata": {
    "collapsed": false,
    "jupyter": {
     "outputs_hidden": false
    },
    "pycharm": {
     "name": "#%%\n"
    }
   },
   "outputs": [
    {
     "data": {
      "text/plain": [
       "float"
      ]
     },
     "execution_count": 39,
     "metadata": {},
     "output_type": "execute_result"
    }
   ],
   "source": [
    "type(false_np[0][0][0])\n"
   ]
  },
  {
   "cell_type": "code",
   "execution_count": null,
   "metadata": {
    "collapsed": false,
    "jupyter": {
     "outputs_hidden": false
    },
    "pycharm": {
     "name": "#%%\n"
    }
   },
   "outputs": [],
   "source": []
  }
 ],
 "metadata": {
  "kernelspec": {
   "display_name": "project",
   "language": "python",
   "name": "project"
  },
  "language_info": {
   "codemirror_mode": {
    "name": "ipython",
    "version": 3
   },
   "file_extension": ".py",
   "mimetype": "text/x-python",
   "name": "python",
   "nbconvert_exporter": "python",
   "pygments_lexer": "ipython3",
   "version": "3.8.12"
  }
 },
 "nbformat": 4,
 "nbformat_minor": 4
}
