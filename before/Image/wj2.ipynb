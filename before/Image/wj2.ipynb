{
 "cells": [
  {
   "cell_type": "code",
   "execution_count": 1,
   "id": "c5cdb737-16ec-4852-9212-ad29189dfcd5",
   "metadata": {},
   "outputs": [],
   "source": [
    "from ipywebrtc import VideoStream"
   ]
  },
  {
   "cell_type": "code",
   "execution_count": 6,
   "id": "4c7f7bf5-8ed3-44af-a158-206470560694",
   "metadata": {},
   "outputs": [
    {
     "data": {
      "application/vnd.jupyter.widget-view+json": {
       "model_id": "ac0ede6dbd1441749aaac573b16dc1e9",
       "version_major": 2,
       "version_minor": 0
      },
      "text/plain": [
       "VideoStream(video=Video(value=b'\\x00\\x00\\x00\\x1cftypisom\\x00\\x00\\x02\\x00isomiso2mp41\\x00\\x01#smoov\\x00\\x00\\x00…"
      ]
     },
     "metadata": {},
     "output_type": "display_data"
    }
   ],
   "source": [
    "VideoStream.from_file('/home/stu1/RomanticKidsCafe/before/Image/1.mp4')"
   ]
  },
  {
   "cell_type": "code",
   "execution_count": 5,
   "id": "5a8279ea-cf42-44e0-906b-b368030d4bd5",
   "metadata": {},
   "outputs": [
    {
     "name": "stdout",
     "output_type": "stream",
     "text": [
      "/home/stu1/RomanticKidsCafe/before/Image\n"
     ]
    }
   ],
   "source": [
    "import os\n",
    "print(os.getcwd())"
   ]
  },
  {
   "cell_type": "code",
   "execution_count": 16,
   "id": "5bd59a1f-661a-4967-94dc-71ae38ed18e2",
   "metadata": {},
   "outputs": [],
   "source": [
    "import io\n",
    "import base64\n",
    "from IPython.display import HTML"
   ]
  },
  {
   "cell_type": "code",
   "execution_count": 21,
   "id": "a54dbea1-342e-42fc-b65e-b6bb8c5d79ab",
   "metadata": {},
   "outputs": [
    {
     "data": {
      "application/vnd.jupyter.widget-view+json": {
       "model_id": "561fe33e72964c85ab5fc6aeef5711eb",
       "version_major": 2,
       "version_minor": 0
      },
      "text/plain": [
       "Image(value=b'', layout=\"Layout(border='solid')\")"
      ]
     },
     "metadata": {},
     "output_type": "display_data"
    },
    {
     "name": "stderr",
     "output_type": "stream",
     "text": [
      "/tmp/ipykernel_65613/1794314642.py:15: DeprecationWarning: tostring() is deprecated. Use tobytes() instead.\n",
      "  tmpStream = cv2.imencode(\".jpeg\", img)[1].tostring()\n"
     ]
    }
   ],
   "source": [
    "import cv2 \n",
    "import time \n",
    "import ipywidgets as widgets \n",
    "import IPython.display as display \n",
    "import copy\n",
    "cap = cv2.VideoCapture('2.mp4') \n",
    "wImg = widgets.Image( \n",
    "    layout = widgets.Layout(border=\"solid\") \n",
    ") \n",
    "display.display( wImg) \n",
    "if cap.isOpened(): \n",
    "    ret, img = cap.read() \n",
    "    while ret: \n",
    "        # 동영상 파일에서 캡쳐된 이미지를 이미지 파일 스트림으로 다시 인코딩을 한다. \n",
    "        tmpStream = cv2.imencode(\".jpeg\", img)[1].tostring() \n",
    "        wImg.value = tmpStream \n",
    "        # 20 프레임이 되기 위한 딜레이 다만, 실제로 입력한 것보다 조금 더 딜레이가 있다 \n",
    "        ret, img = cap.read() \n",
    "cap.release()"
   ]
  },
  {
   "cell_type": "code",
   "execution_count": null,
   "id": "170f177a-c656-4cb8-9e00-b081fa4b4ce3",
   "metadata": {},
   "outputs": [
    {
     "name": "stdout",
     "output_type": "stream",
     "text": [
      "frame_size= (1920, 1080)\n"
     ]
    },
    {
     "data": {
      "application/vnd.jupyter.widget-view+json": {
       "model_id": "579990988c4344039848d28d74c6ea2c",
       "version_major": 2,
       "version_minor": 0
      },
      "text/plain": [
       "Image(value=b'', layout=\"Layout(border='solid')\")"
      ]
     },
     "metadata": {},
     "output_type": "display_data"
    }
   ],
   "source": [
    "#비디오 객체 생성\n",
    "cap = cv2.VideoCapture('2.mp4') \n",
    "#비디오 객체 정보 획득\n",
    "frame_size = (int(cap.get(cv2.CAP_PROP_FRAME_WIDTH)),int(cap.get(cv2.CAP_PROP_FRAME_HEIGHT)))\n",
    "print('frame_size=',frame_size)\n",
    "\n",
    "#Jupyter notebook에서 Widget 생성\n",
    "wImg = widgets.Image(layout = widgets.Layout(border=\"solid\") ) \n",
    "display.display(wImg) \n",
    "\n",
    "#비디오 객체 있을시\n",
    "if cap.isOpened(): \n",
    "    #비디오 객체의 정보를 얻어옴\n",
    "    ret, img = cap.read() \n",
    "    while ret: \n",
    "        try:\n",
    "            # 동영상 파일에서 캡쳐된 이미지를 이미지 파일 스트림으로 다시 인코딩을 한다. \n",
    "            tmpStream = cv2.imencode(\".jpeg\", img)[1].tostring() \n",
    "            wImg.value = tmpStream \n",
    "            # 20 프레임이 되기 위한 딜레이 다만, 실제로 입력한 것보다 조금 더 딜레이가 있다 \n",
    "            ret, img = cap.read()\n",
    "        except KeyboardInterrupt:\n",
    "            break\n",
    "\n",
    "#비디오 객체 해제\n",
    "cap.release()"
   ]
  },
  {
   "cell_type": "code",
   "execution_count": null,
   "id": "5e4edc0d-50d2-450e-a0b7-624de85e000a",
   "metadata": {},
   "outputs": [],
   "source": []
  }
 ],
 "metadata": {
  "kernelspec": {
   "display_name": "project",
   "language": "python",
   "name": "project"
  },
  "language_info": {
   "codemirror_mode": {
    "name": "ipython",
    "version": 3
   },
   "file_extension": ".py",
   "mimetype": "text/x-python",
   "name": "python",
   "nbconvert_exporter": "python",
   "pygments_lexer": "ipython3",
   "version": "3.8.12"
  }
 },
 "nbformat": 4,
 "nbformat_minor": 5
}
