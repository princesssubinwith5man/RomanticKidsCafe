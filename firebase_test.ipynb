{
 "cells": [
  {
   "cell_type": "code",
   "execution_count": 1,
   "id": "66ffd0d9-a0e1-4265-8633-d29305cbed8a",
   "metadata": {},
   "outputs": [],
   "source": [
    "#pip install firebase_admin"
   ]
  },
  {
   "cell_type": "code",
   "execution_count": 15,
   "id": "f220f156-1831-45d0-a112-3e8de1de0a04",
   "metadata": {},
   "outputs": [],
   "source": [
    "import firebase_admin\n",
    "from firebase_admin import credentials\n",
    "from firebase_admin import db\n",
    "import time\n",
    "import datetime\n",
    "from pyfcm import FCMNotification"
   ]
  },
  {
   "cell_type": "code",
   "execution_count": 16,
   "id": "f4e3832b-b8ea-4b05-bb33-8f032ac8638d",
   "metadata": {},
   "outputs": [],
   "source": [
    "APIKEY = \"AAAAu1lLfgk:APA91bGm97mlyM7ZNInkEDMKmP_qBD5ndwodlwkV_5Lq0-UUQa9LD6iUzBgrKY1IC2jo063Q43WmepjL0Stk3tBipttq4sKza3T64pAH_zLWw291YlvHpzWdlOWJJ1cWvwFkxNlLPnpp\"\n",
    "TOKEN = \"\"\n",
    "push_service = FCMNotification(APIKEY)"
   ]
  },
  {
   "cell_type": "code",
   "execution_count": 4,
   "id": "1b3d02d7-822d-4b6e-87c1-89dc422eae4d",
   "metadata": {},
   "outputs": [
    {
     "data": {
      "text/plain": [
       "<firebase_admin.App at 0x7f9b383aa5b0>"
      ]
     },
     "execution_count": 4,
     "metadata": {},
     "output_type": "execute_result"
    }
   ],
   "source": [
    "# 처음 한번만 실행하세요. 다시 실행해야 한다면 커널 리스타트 하고 하세요\n",
    "db_url = 'https://princesssuvin6dwarf.firebaseio.com/'\n",
    "\n",
    "cred = credentials.Certificate(\"/home/lwjeong/RomanticKidsCafe/princesssuvinand6dwarf-firebase-adminsdk-ef7wr-73a48d4bb7.json\")\n",
    "firebase_admin.initialize_app(cred, {\n",
    "    #'projectId': 'princesssuvinand6dwarf-default-rtdb',\n",
    "    'databaseURL' : 'https://princesssuvinand6dwarf-default-rtdb.asia-southeast1.firebasedatabase.app/'\n",
    "})\n"
   ]
  },
  {
   "cell_type": "code",
   "execution_count": 27,
   "id": "d49c9d7c-6c0e-438f-9945-780961d28851",
   "metadata": {},
   "outputs": [],
   "source": [
    "def sendMessage(body):\n",
    "    data_message = {\n",
    "        \"body\" : body\n",
    "    }\n",
    "    \n",
    "    result = push_service.notify_topic_subscribers(topic_name=\"falldown\", data_message=data_message)\n",
    "    \n",
    "    print(result)"
   ]
  },
  {
   "cell_type": "code",
   "execution_count": 37,
   "id": "2ec72bc2-3362-4924-acd0-bc7d0f248ac4",
   "metadata": {},
   "outputs": [
    {
     "name": "stdout",
     "output_type": "stream",
     "text": [
      ".\n",
      "{'multicast_ids': [], 'success': 1, 'failure': 0, 'canonical_ids': 0, 'results': [], 'topic_message_id': 4239494820989404698}\n",
      ".\n",
      "{'multicast_ids': [], 'success': 1, 'failure': 0, 'canonical_ids': 0, 'results': [], 'topic_message_id': 8557279077758948414}\n",
      ".\n",
      "{'multicast_ids': [], 'success': 1, 'failure': 0, 'canonical_ids': 0, 'results': [], 'topic_message_id': 8041150239013297440}\n",
      ".\n",
      "{'multicast_ids': [], 'success': 1, 'failure': 0, 'canonical_ids': 0, 'results': [], 'topic_message_id': 719397309440420788}\n",
      ".\n",
      "{'multicast_ids': [], 'success': 1, 'failure': 0, 'canonical_ids': 0, 'results': [], 'topic_message_id': 7481795703534822198}\n"
     ]
    }
   ],
   "source": [
    "#realtime datatbase에 데이터 저장하기\n",
    "i=5\n",
    "while(i>0):\n",
    "    ref = db.reference('fall_down/test')\n",
    "    ref.update({'name': '홍이삭', 'falldown': False, 'girlfriend':True,'date':str(datetime.datetime.now())})\n",
    "    print('.')\n",
    "    sendMessage('[속보] 홍이삭 여친 생김')\n",
    "    time.sleep(7);\n",
    "    i-=1\n",
    "\n",
    "# 테스트용 파이어스토어에 데이터 저장하기\n",
    "#doc_ref = db.collection(u'test').document(u'test01')\n",
    "#doc_ref.set({\n",
    "#    u'name': '홍이삭',\n",
    "#    u'girlfriend': False,\n",
    "#    u'넘어졌나': False,\n",
    "#    u'time': str(datetime.datetime.now())\n",
    "#})\n",
    "#print(datetime.datetime.now())"
   ]
  },
  {
   "cell_type": "code",
   "execution_count": 26,
   "id": "c17243e9-f8d8-4fc3-943f-8eecc1f82c95",
   "metadata": {},
   "outputs": [
    {
     "name": "stdout",
     "output_type": "stream",
     "text": [
      "홍이삭은(는) 여자친구가 있습니다.\n",
      "{'girlfriend': True, 'name': '홍이삭', '넘어졌나': False}\n"
     ]
    }
   ],
   "source": [
    "# 테스트용 파이어스토어에 데이터 불러오기\n",
    "users_ref = db.collection(u'test')\n",
    "docs = users_ref.stream()\n",
    "\n",
    "for doc in docs:\n",
    "    data = doc.to_dict()\n",
    "    if data['girlfriend'] == False:\n",
    "        print('{}은(는) 여자친구가 없습니다.'.format(data['name']))\n",
    "        doc_ref.set({\n",
    "            u'name': '홍이삭',\n",
    "            u'girlfriend': True,\n",
    "            u'넘어졌나': False\n",
    "        })\n",
    "    else:\n",
    "        print('{}은(는) 여자친구가 있습니다.'.format(data['name']))\n",
    "    print(data)"
   ]
  },
  {
   "cell_type": "code",
   "execution_count": null,
   "id": "fe5c9dd4-9393-4363-9c3b-dd506528f799",
   "metadata": {},
   "outputs": [],
   "source": []
  },
  {
   "cell_type": "code",
   "execution_count": null,
   "id": "acc6a854-2309-4fe1-9664-0b9018c7beab",
   "metadata": {},
   "outputs": [],
   "source": []
  }
 ],
 "metadata": {
  "kernelspec": {
   "display_name": "project",
   "language": "python",
   "name": "project"
  },
  "language_info": {
   "codemirror_mode": {
    "name": "ipython",
    "version": 3
   },
   "file_extension": ".py",
   "mimetype": "text/x-python",
   "name": "python",
   "nbconvert_exporter": "python",
   "pygments_lexer": "ipython3",
   "version": "3.9.7"
  }
 },
 "nbformat": 4,
 "nbformat_minor": 5
}
