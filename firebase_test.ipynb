{
 "cells": [
  {
   "cell_type": "code",
   "execution_count": 2,
   "id": "66ffd0d9-a0e1-4265-8633-d29305cbed8a",
   "metadata": {},
   "outputs": [
    {
     "name": "stdout",
     "output_type": "stream",
     "text": [
      "Collecting firebase_admin\n",
      "  Downloading firebase_admin-5.2.0-py3-none-any.whl (115 kB)\n",
      "\u001b[K     |████████████████████████████████| 115 kB 7.8 MB/s eta 0:00:01\n",
      "\u001b[?25hCollecting cachecontrol>=0.12.6\n",
      "  Downloading CacheControl-0.12.10-py2.py3-none-any.whl (20 kB)\n",
      "Collecting google-api-core[grpc]<3.0.0dev,>=1.22.1\n",
      "  Downloading google_api_core-2.7.1-py3-none-any.whl (114 kB)\n",
      "\u001b[K     |████████████████████████████████| 114 kB 10.6 MB/s eta 0:00:01\n",
      "\u001b[?25hCollecting google-api-python-client>=1.7.8\n",
      "  Downloading google_api_python_client-2.42.0-py2.py3-none-any.whl (8.3 MB)\n",
      "\u001b[K     |████████████████████████████████| 8.3 MB 10.7 MB/s eta 0:00:01\n",
      "\u001b[?25hCollecting google-cloud-storage>=1.37.1\n",
      "  Downloading google_cloud_storage-2.2.1-py2.py3-none-any.whl (107 kB)\n",
      "\u001b[K     |████████████████████████████████| 107 kB 11.5 MB/s eta 0:00:01\n",
      "\u001b[?25hCollecting google-cloud-firestore>=2.1.0\n",
      "  Downloading google_cloud_firestore-2.4.0-py2.py3-none-any.whl (243 kB)\n",
      "\u001b[K     |████████████████████████████████| 243 kB 11.0 MB/s eta 0:00:01\n",
      "\u001b[?25hRequirement already satisfied: msgpack>=0.5.2 in /tools/anaconda3/lib/python3.9/site-packages (from cachecontrol>=0.12.6->firebase_admin) (1.0.2)\n",
      "Requirement already satisfied: requests in /tools/anaconda3/lib/python3.9/site-packages (from cachecontrol>=0.12.6->firebase_admin) (2.27.1)\n",
      "Collecting google-auth<3.0dev,>=1.25.0\n",
      "  Downloading google_auth-2.6.2-py2.py3-none-any.whl (156 kB)\n",
      "\u001b[K     |████████████████████████████████| 156 kB 10.9 MB/s eta 0:00:01\n",
      "\u001b[?25hCollecting googleapis-common-protos<2.0dev,>=1.52.0\n",
      "  Downloading googleapis_common_protos-1.56.0-py2.py3-none-any.whl (241 kB)\n",
      "\u001b[K     |████████████████████████████████| 241 kB 11.0 MB/s eta 0:00:01\n",
      "\u001b[?25hRequirement already satisfied: protobuf>=3.12.0 in /tools/anaconda3/lib/python3.9/site-packages (from google-api-core[grpc]<3.0.0dev,>=1.22.1->firebase_admin) (3.19.4)\n",
      "Collecting grpcio-status<2.0dev,>=1.33.2\n",
      "  Downloading grpcio_status-1.45.0-py3-none-any.whl (10.0 kB)\n",
      "Collecting grpcio<2.0dev,>=1.33.2\n",
      "  Downloading grpcio-1.44.0-cp39-cp39-manylinux_2_17_x86_64.manylinux2014_x86_64.whl (4.3 MB)\n",
      "\u001b[K     |████████████████████████████████| 4.3 MB 11.0 MB/s eta 0:00:01\n",
      "\u001b[?25hCollecting uritemplate<5,>=3.0.1\n",
      "  Downloading uritemplate-4.1.1-py2.py3-none-any.whl (10 kB)\n",
      "Collecting httplib2<1dev,>=0.15.0\n",
      "  Downloading httplib2-0.20.4-py3-none-any.whl (96 kB)\n",
      "\u001b[K     |████████████████████████████████| 96 kB 897 kB/s  eta 0:00:01\n",
      "\u001b[?25hCollecting google-auth-httplib2>=0.1.0\n",
      "  Downloading google_auth_httplib2-0.1.0-py2.py3-none-any.whl (9.3 kB)\n",
      "Collecting rsa<5,>=3.1.4\n",
      "  Downloading rsa-4.8-py3-none-any.whl (39 kB)\n",
      "Collecting cachetools<6.0,>=2.0.0\n",
      "  Downloading cachetools-5.0.0-py3-none-any.whl (9.1 kB)\n",
      "Collecting pyasn1-modules>=0.2.1\n",
      "  Downloading pyasn1_modules-0.2.8-py2.py3-none-any.whl (155 kB)\n",
      "\u001b[K     |████████████████████████████████| 155 kB 11.0 MB/s eta 0:00:01\n",
      "\u001b[?25hRequirement already satisfied: six>=1.9.0 in /tools/anaconda3/lib/python3.9/site-packages (from google-auth<3.0dev,>=1.25.0->google-api-core[grpc]<3.0.0dev,>=1.22.1->firebase_admin) (1.16.0)\n",
      "Collecting google-cloud-core<3.0.0dev,>=1.4.1\n",
      "  Downloading google_cloud_core-2.2.3-py2.py3-none-any.whl (29 kB)\n",
      "Collecting proto-plus>=1.10.0\n",
      "  Downloading proto_plus-1.20.3-py3-none-any.whl (46 kB)\n",
      "\u001b[K     |████████████████████████████████| 46 kB 617 kB/s  eta 0:00:01\n",
      "\u001b[?25hCollecting google-resumable-media>=2.3.2\n",
      "  Downloading google_resumable_media-2.3.2-py2.py3-none-any.whl (76 kB)\n",
      "\u001b[K     |████████████████████████████████| 76 kB 492 kB/s  eta 0:00:01\n",
      "\u001b[?25hCollecting google-crc32c<2.0dev,>=1.0\n",
      "  Downloading google_crc32c-1.3.0-cp39-cp39-manylinux_2_12_x86_64.manylinux2010_x86_64.whl (36 kB)\n",
      "Collecting grpcio<2.0dev,>=1.33.2\n",
      "  Downloading grpcio-1.45.0-cp39-cp39-manylinux_2_17_x86_64.manylinux2014_x86_64.whl (4.4 MB)\n",
      "\u001b[K     |████████████████████████████████| 4.4 MB 11.1 MB/s eta 0:00:01\n",
      "\u001b[?25hRequirement already satisfied: pyparsing!=3.0.0,!=3.0.1,!=3.0.2,!=3.0.3,<4,>=2.4.2 in /tools/anaconda3/lib/python3.9/site-packages (from httplib2<1dev,>=0.15.0->google-api-python-client>=1.7.8->firebase_admin) (3.0.4)\n",
      "Collecting pyasn1<0.5.0,>=0.4.6\n",
      "  Downloading pyasn1-0.4.8-py2.py3-none-any.whl (77 kB)\n",
      "\u001b[K     |████████████████████████████████| 77 kB 406 kB/s  eta 0:00:01\n",
      "\u001b[?25hRequirement already satisfied: charset-normalizer~=2.0.0 in /tools/anaconda3/lib/python3.9/site-packages (from requests->cachecontrol>=0.12.6->firebase_admin) (2.0.4)\n",
      "Requirement already satisfied: idna<4,>=2.5 in /tools/anaconda3/lib/python3.9/site-packages (from requests->cachecontrol>=0.12.6->firebase_admin) (3.3)\n",
      "Requirement already satisfied: certifi>=2017.4.17 in /tools/anaconda3/lib/python3.9/site-packages (from requests->cachecontrol>=0.12.6->firebase_admin) (2021.10.8)\n",
      "Requirement already satisfied: urllib3<1.27,>=1.21.1 in /tools/anaconda3/lib/python3.9/site-packages (from requests->cachecontrol>=0.12.6->firebase_admin) (1.26.8)\n",
      "\u001b[33mWARNING: The candidate selected for download or install is a yanked version: 'grpcio' candidate (version 1.45.0 at https://files.pythonhosted.org/packages/7e/16/8ba5fd3289e0a75244689a25ae96f9055af2f6489abcaf430bb0256a8789/grpcio-1.45.0-cp39-cp39-manylinux_2_17_x86_64.manylinux2014_x86_64.whl#sha256=0fe6acb1439127e0bee773f8a9a3ece290cb4cac4fe8d46b10bc8dda250a990c (from https://pypi.org/simple/grpcio/) (requires-python:>=3.6))\n",
      "Reason for being yanked: Segfaults\u001b[0m\n",
      "Installing collected packages: pyasn1, rsa, pyasn1-modules, cachetools, grpcio, googleapis-common-protos, google-auth, httplib2, grpcio-status, google-crc32c, google-api-core, uritemplate, proto-plus, google-resumable-media, google-cloud-core, google-auth-httplib2, google-cloud-storage, google-cloud-firestore, google-api-python-client, cachecontrol, firebase-admin\n",
      "Successfully installed cachecontrol-0.12.10 cachetools-5.0.0 firebase-admin-5.2.0 google-api-core-2.7.1 google-api-python-client-2.42.0 google-auth-2.6.2 google-auth-httplib2-0.1.0 google-cloud-core-2.2.3 google-cloud-firestore-2.4.0 google-cloud-storage-2.2.1 google-crc32c-1.3.0 google-resumable-media-2.3.2 googleapis-common-protos-1.56.0 grpcio-1.45.0 grpcio-status-1.45.0 httplib2-0.20.4 proto-plus-1.20.3 pyasn1-0.4.8 pyasn1-modules-0.2.8 rsa-4.8 uritemplate-4.1.1\n",
      "Note: you may need to restart the kernel to use updated packages.\n"
     ]
    }
   ],
   "source": [
    "#pip install firebase_admin"
   ]
  },
  {
   "cell_type": "code",
   "execution_count": 2,
   "id": "f220f156-1831-45d0-a112-3e8de1de0a04",
   "metadata": {},
   "outputs": [],
   "source": [
    "import firebase_admin\n",
    "from firebase_admin import credentials\n",
    "from firebase_admin import db\n",
    "import time\n",
    "import datetime"
   ]
  },
  {
   "cell_type": "code",
   "execution_count": 3,
   "id": "1b3d02d7-822d-4b6e-87c1-89dc422eae4d",
   "metadata": {},
   "outputs": [
    {
     "data": {
      "text/plain": [
       "<firebase_admin.App at 0x7f8f0819afa0>"
      ]
     },
     "execution_count": 3,
     "metadata": {},
     "output_type": "execute_result"
    }
   ],
   "source": [
    "# 처음 한번만 실행하세요. 다시 실행해야 한다면 커널 리스타트 하고 하세요\n",
    "db_url = 'https://princesssuvin6dwarf.firebaseio.com/'\n",
    "\n",
    "cred = credentials.Certificate(\"/home/lwjeong/RomanticKidsCafe/princesssuvinand6dwarf-firebase-adminsdk-ef7wr-73a48d4bb7.json\")\n",
    "firebase_admin.initialize_app(cred, {\n",
    "    #'projectId': 'princesssuvinand6dwarf-default-rtdb',\n",
    "    'databaseURL' : 'https://princesssuvinand6dwarf-default-rtdb.asia-southeast1.firebasedatabase.app/'\n",
    "})\n"
   ]
  },
  {
   "cell_type": "code",
   "execution_count": 8,
   "id": "2ec72bc2-3362-4924-acd0-bc7d0f248ac4",
   "metadata": {},
   "outputs": [
    {
     "name": "stdout",
     "output_type": "stream",
     "text": [
      ".\n",
      ".\n",
      ".\n",
      ".\n",
      ".\n",
      ".\n",
      ".\n",
      ".\n"
     ]
    },
    {
     "ename": "KeyboardInterrupt",
     "evalue": "",
     "output_type": "error",
     "traceback": [
      "\u001b[0;31m---------------------------------------------------------------------------\u001b[0m",
      "\u001b[0;31mKeyboardInterrupt\u001b[0m                         Traceback (most recent call last)",
      "Input \u001b[0;32mIn [8]\u001b[0m, in \u001b[0;36m<cell line: 3>\u001b[0;34m()\u001b[0m\n\u001b[1;32m      4\u001b[0m ref\u001b[38;5;241m.\u001b[39mupdate({\u001b[38;5;124m'\u001b[39m\u001b[38;5;124mname\u001b[39m\u001b[38;5;124m'\u001b[39m: \u001b[38;5;124m'\u001b[39m\u001b[38;5;124m홍이삭\u001b[39m\u001b[38;5;124m'\u001b[39m, \u001b[38;5;124m'\u001b[39m\u001b[38;5;124mfalldown\u001b[39m\u001b[38;5;124m'\u001b[39m: \u001b[38;5;28;01mFalse\u001b[39;00m, \u001b[38;5;124m'\u001b[39m\u001b[38;5;124mgirlfriend\u001b[39m\u001b[38;5;124m'\u001b[39m:\u001b[38;5;28;01mTrue\u001b[39;00m,\u001b[38;5;124m'\u001b[39m\u001b[38;5;124mdate\u001b[39m\u001b[38;5;124m'\u001b[39m:\u001b[38;5;28mstr\u001b[39m(datetime\u001b[38;5;241m.\u001b[39mdatetime\u001b[38;5;241m.\u001b[39mnow())})\n\u001b[1;32m      5\u001b[0m \u001b[38;5;28mprint\u001b[39m(\u001b[38;5;124m'\u001b[39m\u001b[38;5;124m.\u001b[39m\u001b[38;5;124m'\u001b[39m)\n\u001b[0;32m----> 6\u001b[0m \u001b[43mtime\u001b[49m\u001b[38;5;241;43m.\u001b[39;49m\u001b[43msleep\u001b[49m\u001b[43m(\u001b[49m\u001b[38;5;241;43m20\u001b[39;49m\u001b[43m)\u001b[49m\n",
      "\u001b[0;31mKeyboardInterrupt\u001b[0m: "
     ]
    }
   ],
   "source": [
    "#realtime datatbase에 데이터 저장하기\n",
    "i=5\n",
    "while(i>0):\n",
    "    ref = db.reference('fall_down/test')\n",
    "    ref.update({'name': '홍이삭', 'falldown': False, 'girlfriend':True,'date':str(datetime.datetime.now())})\n",
    "    print('.')\n",
    "    time.sleep(20);\n",
    "    i-=1\n",
    "\n",
    "# 테스트용 파이어스토어에 데이터 저장하기\n",
    "#doc_ref = db.collection(u'test').document(u'test01')\n",
    "#doc_ref.set({\n",
    "#    u'name': '홍이삭',\n",
    "#    u'girlfriend': False,\n",
    "#    u'넘어졌나': False,\n",
    "#    u'time': str(datetime.datetime.now())\n",
    "#})\n",
    "#print(datetime.datetime.now())"
   ]
  },
  {
   "cell_type": "code",
   "execution_count": 26,
   "id": "c17243e9-f8d8-4fc3-943f-8eecc1f82c95",
   "metadata": {},
   "outputs": [
    {
     "name": "stdout",
     "output_type": "stream",
     "text": [
      "홍이삭은(는) 여자친구가 있습니다.\n",
      "{'girlfriend': True, 'name': '홍이삭', '넘어졌나': False}\n"
     ]
    }
   ],
   "source": [
    "# 테스트용 파이어스토어에 데이터 불러오기\n",
    "users_ref = db.collection(u'test')\n",
    "docs = users_ref.stream()\n",
    "\n",
    "for doc in docs:\n",
    "    data = doc.to_dict()\n",
    "    if data['girlfriend'] == False:\n",
    "        print('{}은(는) 여자친구가 없습니다.'.format(data['name']))\n",
    "        doc_ref.set({\n",
    "            u'name': '홍이삭',\n",
    "            u'girlfriend': True,\n",
    "            u'넘어졌나': False\n",
    "        })\n",
    "    else:\n",
    "        print('{}은(는) 여자친구가 있습니다.'.format(data['name']))\n",
    "    print(data)"
   ]
  },
  {
   "cell_type": "code",
   "execution_count": null,
   "id": "fe5c9dd4-9393-4363-9c3b-dd506528f799",
   "metadata": {},
   "outputs": [],
   "source": []
  },
  {
   "cell_type": "code",
   "execution_count": null,
   "id": "acc6a854-2309-4fe1-9664-0b9018c7beab",
   "metadata": {},
   "outputs": [],
   "source": []
  }
 ],
 "metadata": {
  "kernelspec": {
   "display_name": "project",
   "language": "python",
   "name": "project"
  },
  "language_info": {
   "codemirror_mode": {
    "name": "ipython",
    "version": 3
   },
   "file_extension": ".py",
   "mimetype": "text/x-python",
   "name": "python",
   "nbconvert_exporter": "python",
   "pygments_lexer": "ipython3",
   "version": "3.9.7"
  }
 },
 "nbformat": 4,
 "nbformat_minor": 5
}
