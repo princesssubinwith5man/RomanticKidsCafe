{
 "cells": [
  {
   "cell_type": "code",
   "execution_count": null,
   "id": "a532dbf7",
   "metadata": {},
   "outputs": [],
   "source": [
    "#폐기 합니다."
   ]
  },
  {
   "cell_type": "code",
   "execution_count": 9,
   "id": "a1573f85",
   "metadata": {},
   "outputs": [],
   "source": [
    "import cv2\n",
    "import time\n",
    "import ipywidgets as widgets\n",
    "import IPython.display as display\n",
    "import copy\n",
    "import os\n",
    "import mediapipe as mp\n",
    "import numpy as np\n",
    "mp_drawing = mp.solutions.drawing_utils\n",
    "mp_drawing_styles = mp.solutions.drawing_styles\n",
    "mp_hands = mp.solutions.hands"
   ]
  },
  {
   "cell_type": "code",
   "execution_count": 10,
   "id": "d53a0063",
   "metadata": {},
   "outputs": [],
   "source": [
    "dirs = os.getcwd() \n",
    "dirs = dirs + '/' + 'Image' + '/' '1.mp4'"
   ]
  },
  {
   "cell_type": "code",
   "execution_count": 11,
   "id": "5393964f",
   "metadata": {},
   "outputs": [
    {
     "name": "stdout",
     "output_type": "stream",
     "text": [
      "Collecting package metadata (current_repodata.json): done\n",
      "Solving environment: done\n",
      "\n",
      "# All requested packages already installed.\n",
      "\n",
      "\n",
      "Note: you may need to restart the kernel to use updated packages.\n"
     ]
    }
   ],
   "source": [
    "conda install pyqt"
   ]
  },
  {
   "cell_type": "code",
   "execution_count": null,
   "id": "58c106d4",
   "metadata": {},
   "outputs": [],
   "source": []
  },
  {
   "cell_type": "code",
   "execution_count": null,
   "id": "e7a1bbd8",
   "metadata": {},
   "outputs": [],
   "source": [
    "cap = cv2.VideoCapture(dirs)\n",
    "xyzs = []\n",
    "with mp_hands.Hands(\n",
    "    min_detection_confidence=0.5,\n",
    "    max_num_hands=1,\n",
    "    min_tracking_confidence=0.5) as hands:\n",
    "    while cap.isOpened():\n",
    "        success, image = cap.read()\n",
    "        if not success:\n",
    "            print(\"Ignoring empty camera frame.\")\n",
    "            # If loading a video, use 'break' instead of 'continue'.\n",
    "            break\n",
    "\n",
    "        # To improve performance, optionally mark the image as not writeable to\n",
    "        # pass by reference.\n",
    "        image.flags.writeable = False\n",
    "        image = cv2.cvtColor(image, cv2.COLOR_BGR2RGB)\n",
    "        results = hands.process(image)\n",
    "\n",
    "        # Draw the hand annotations on the image.\n",
    "        image.flags.writeable = True\n",
    "        image = cv2.cvtColor(image, cv2.COLOR_RGB2BGR)\n",
    "        if results.multi_hand_landmarks:\n",
    "            for hand_landmarks in results.multi_hand_landmarks:\n",
    "                x = list(map(lambda x: x.x, hand_landmarks.landmark))\n",
    "                y = list(map(lambda x: x.y, hand_landmarks.landmark))\n",
    "                z = list(map(lambda x: x.z, hand_landmarks.landmark))\n",
    "                xyz = np.stack([x, y, z], axis=-1)\n",
    "                xyzs.append(xyz)\n",
    "                mp_drawing.draw_landmarks(\n",
    "                    image,\n",
    "                    hand_landmarks,\n",
    "                    mp_hands.HAND_CONNECTIONS,\n",
    "                    mp_drawing_styles.get_default_hand_landmarks_style(),\n",
    "                    mp_drawing_styles.get_default_hand_connections_style())\n",
    "            # Flip the image horizontally for a selfie-view display.\n",
    "            cv2.imshow('MediaPipe Hands', cv2.flip(image, 1))\n",
    "            if cv2.waitKey(5) & 0xFF == 27:\n",
    "                break\n",
    "fig = plt.figure()\n",
    "ax = fig.add_subplot(projection='3d')\n",
    "xyzs = np.array(xyzs)\n",
    "np.savez_compressed('3dpos', xyz=xyzs)"
   ]
  },
  {
   "cell_type": "code",
   "execution_count": null,
   "id": "aee907f3",
   "metadata": {},
   "outputs": [],
   "source": [
    "print('hello')"
   ]
  },
  {
   "cell_type": "code",
   "execution_count": null,
   "id": "49a6f745",
   "metadata": {},
   "outputs": [],
   "source": []
  },
  {
   "cell_type": "code",
   "execution_count": null,
   "id": "3139af32",
   "metadata": {},
   "outputs": [],
   "source": []
  }
 ],
 "metadata": {
  "kernelspec": {
   "display_name": "Python 3 (ipykernel)",
   "language": "python",
   "name": "python3"
  },
  "language_info": {
   "codemirror_mode": {
    "name": "ipython",
    "version": 3
   },
   "file_extension": ".py",
   "mimetype": "text/x-python",
   "name": "python",
   "nbconvert_exporter": "python",
   "pygments_lexer": "ipython3",
   "version": "3.9.7"
  }
 },
 "nbformat": 4,
 "nbformat_minor": 5
}
