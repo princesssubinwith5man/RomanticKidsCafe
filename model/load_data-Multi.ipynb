{
 "cells": [
  {
   "cell_type": "code",
   "execution_count": 1,
   "id": "67dc6a8c-a46c-419f-871e-e23f496faf91",
   "metadata": {},
   "outputs": [],
   "source": [
    "from pymongo import MongoClient\n",
    "import pymongo\n",
    "import datetime\n",
    "import numpy as np\n",
    "import time\n",
    "import torch\n",
    "import torch.nn as nn\n",
    "from torch.utils.data import TensorDataset, DataLoader\n",
    "\n",
    "from tqdm import tqdm\n",
    "from untitled import FirebaseMsg"
   ]
  },
  {
   "cell_type": "code",
   "execution_count": 2,
   "id": "0c350869-f89f-40ac-80f0-e23846cb3eed",
   "metadata": {},
   "outputs": [],
   "source": [
    "import torch, gc # 쿠다 캐시 비우기\n",
    "gc.collect()\n",
    "torch.cuda.empty_cache()"
   ]
  },
  {
   "cell_type": "code",
   "execution_count": 3,
   "id": "893da140-e1df-47c5-a09b-38b042f7c126",
   "metadata": {},
   "outputs": [
    {
     "name": "stdout",
     "output_type": "stream",
     "text": [
      "['admin', 'config', 'local', 'mydb', 'test']\n"
     ]
    }
   ],
   "source": [
    "client = MongoClient(host='114.70.235.37', port=27017)\n",
    "print(client.list_database_names())\n",
    "db = client['mydb'].xy_wj"
   ]
  },
  {
   "cell_type": "code",
   "execution_count": 4,
   "id": "3fe5fdf7-ac14-4292-a62b-a19d507dab8b",
   "metadata": {},
   "outputs": [],
   "source": [
    "tmp_data= db.find().sort([(\"date\", pymongo.DESCENDING)]).limit(2)\n",
    "data = list(tmp_data)[0]\n",
    "start_date = data[\"date\"] - datetime.timedelta(seconds=5)"
   ]
  },
  {
   "cell_type": "code",
   "execution_count": 5,
   "id": "897690fd-0a0b-4067-a031-06bf0dce7cce",
   "metadata": {},
   "outputs": [
    {
     "name": "stdout",
     "output_type": "stream",
     "text": [
      "23\n",
      "{'_id': ObjectId('62d4d20609ce8b922931f257'), 'date': datetime.datetime(2022, 7, 18, 12, 22, 46, 826000), 'human_index': 0, 'v0x': 64.87140655517578, 'v0y': -44.68992614746094, 'v1x': 280.3585433959961, 'v1y': 306.9558868408203, 'v2x': 280.3585433959961, 'v2y': 306.9558868408203, 'v3x': 0.0, 'v3y': 0.0, 'v4x': 0.0, 'v4y': 0.0, 'v5x': 280.3585433959961, 'v5y': 306.9558868408203, 'v6x': 0.0, 'v6y': 0.0, 'v7x': 0.0, 'v7y': 0.0, 'v8x': 0.0, 'v8y': 0.0, 'v9x': 0.0, 'v9y': 0.0}\n",
      "0\n"
     ]
    }
   ],
   "source": [
    "test = db.find({\"date\": {'$gte' : start_date, '$lt' : data[\"date\"]}}).sort(\"human_index\",pymongo.DESCENDING)\n",
    "k = list(test)[0]\n",
    "print(len(k))\n",
    "print(k)\n",
    "k = k[\"human_index\"]\n",
    "print(k)"
   ]
  },
  {
   "cell_type": "code",
   "execution_count": 6,
   "id": "29b4855c-1bda-4116-917f-c3d41bf955b5",
   "metadata": {},
   "outputs": [],
   "source": [
    "for i in range(k+1):\n",
    "    result= db.find({\"human_index\":i}).sort([(\"date\", pymongo.DESCENDING)]).limit(2)"
   ]
  },
  {
   "cell_type": "code",
   "execution_count": 7,
   "id": "5f66d3db-efb7-474e-9c77-ec1110e8bb85",
   "metadata": {},
   "outputs": [
    {
     "name": "stdout",
     "output_type": "stream",
     "text": [
      "{'_id': ObjectId('62d4d20c09ce8b922931f2a6'), 'date': datetime.datetime(2022, 7, 18, 12, 22, 52, 87000), 'human_index': 0, 'v0x': 67.8636474609375, 'v0y': -41.53831481933594, 'v1x': 289.7591552734375, 'v1y': 309.82508850097656, 'v2x': 289.7591552734375, 'v2y': 309.82508850097656, 'v3x': 0.0, 'v3y': 0.0, 'v4x': 0.0, 'v4y': 0.0, 'v5x': 289.7591552734375, 'v5y': 309.82508850097656, 'v6x': 0.0, 'v6y': 0.0, 'v7x': 0.0, 'v7y': 0.0, 'v8x': 0.0, 'v8y': 0.0, 'v9x': 0.0, 'v9y': 0.0}\n"
     ]
    }
   ],
   "source": [
    "print(list(result)[0])"
   ]
  },
  {
   "cell_type": "code",
   "execution_count": 8,
   "id": "a6062931-3d40-4767-89c6-32ae0c68f328",
   "metadata": {},
   "outputs": [],
   "source": [
    "def make_input():\n",
    "    \n",
    "    tmp_data= db.find().sort([(\"date\", pymongo.DESCENDING)]).limit(2)\n",
    "    data = list(tmp_data)[0]\n",
    "    start_date = data[\"date\"] - datetime.timedelta(seconds=5)\n",
    "    \n",
    "    max_people = db.find({\"date\": {'$gte' : start_date, '$lt' : data[\"date\"]}}).sort(\"human_index\",pymongo.DESCENDING).limit(2)\n",
    "    k = list(max_people)[0]\n",
    "    k = k[\"human_index\"]\n",
    "    tmp_loader = []\n",
    "    for i in range(k+1):    \n",
    "        result= db.find({\"human_index\":i}).sort([(\"date\", pymongo.DESCENDING)]).limit(2)\n",
    "    \n",
    "        data = list(result)[0]\n",
    "        start_date = data[\"date\"] - datetime.timedelta(seconds=5)\n",
    "        seq = list(db.find({\"date\": {'$gte' : start_date, '$lt' : data[\"date\"]}}))\n",
    "    \n",
    "    \n",
    "        list_data = list()\n",
    "    \n",
    "        for j in seq:\n",
    "            del j['date']\n",
    "            del j['_id']\n",
    "            del j['human_index']\n",
    "            \n",
    "            list_data.append(list(j.values()))\n",
    "        \n",
    "        if(len(list_data) < 30):\n",
    "            return\n",
    "            \n",
    "        index = list(range(5, len(list_data)-1, int(len(list_data)/30)))\n",
    "        list_data = np.array(list_data, dtype=np.float32)\n",
    "    \n",
    "        y_false = np.array([0])\n",
    "        list_data = list_data[index]\n",
    "        list_data = np.array([list_data])\n",
    "    \n",
    "        tmp_data = TensorDataset(torch.from_numpy(list_data), torch.from_numpy(y_false))\n",
    "        tmp_loader.append(DataLoader(tmp_data, shuffle=False, batch_size=batch_size))\n",
    "    \n",
    "    return tmp_loader"
   ]
  },
  {
   "cell_type": "code",
   "execution_count": 9,
   "id": "0b033cd7-5962-4f6f-944e-b8727bcc2145",
   "metadata": {},
   "outputs": [],
   "source": [
    "# dataloaders\n",
    "batch_size = 32\n",
    "device='cuda'\n",
    "\n",
    "class SentimentLSTM(nn.Module):\n",
    "\n",
    "    def __init__(self, seq_size, output_size, hidden_dim, n_layers):\n",
    "        \n",
    "        super(SentimentLSTM, self).__init__()\n",
    "\n",
    "        self.output_size = output_size\n",
    "        self.n_layers = n_layers\n",
    "        self.hidden_dim = hidden_dim\n",
    "\n",
    "        # embedding and LSTM layers\n",
    "        self.lstm = nn.LSTM(seq_size, hidden_dim, n_layers, batch_first=True, dropout=0.2)\n",
    "        \n",
    "        # linear and sigmoid layer\n",
    "        self.fc = nn.Linear(hidden_dim, output_size)\n",
    "        self.sig = nn.Sigmoid()\n",
    "\n",
    "    def forward(self, x):\n",
    "        batch_size = x.size(0)\n",
    "        \n",
    "        lstm_out, hidden = self.lstm(x)\n",
    "        ## lstm_out.shape [batch, seq_len, hidden_dim]\n",
    "        ## hidden [batch, hidden_dim]\n",
    "\n",
    "        # fully connected layer        \n",
    "        out = self.fc(lstm_out[:, -1, :])\n",
    "        ## out.shape: [n_layer * n_direction, batch, output_size]\n",
    "\n",
    "        # sigmoid function\n",
    "        sig_out = self.sig(out)\n",
    "        \n",
    "        # return last sigmoid output and hidden state\n",
    "        return sig_out, out"
   ]
  },
  {
   "cell_type": "code",
   "execution_count": 10,
   "id": "9bbe1f2a-6b88-4010-afab-9cd7ebfc9934",
   "metadata": {},
   "outputs": [],
   "source": [
    "def init_weights(m):\n",
    "    for name, param in m.named_parameters():\n",
    "        nn.init.uniform_(param.data, -0.08, 0.08)\n",
    "        # nn.init.uniform_(param.data, -0.1, 0.1)"
   ]
  },
  {
   "cell_type": "code",
   "execution_count": 11,
   "id": "a16414ae-a0da-400c-a821-f2ba4a663dc9",
   "metadata": {},
   "outputs": [
    {
     "data": {
      "text/plain": [
       "SentimentLSTM(\n",
       "  (lstm): LSTM(20, 512, num_layers=4, batch_first=True, dropout=0.2)\n",
       "  (fc): Linear(in_features=512, out_features=1, bias=True)\n",
       "  (sig): Sigmoid()\n",
       ")"
      ]
     },
     "execution_count": 11,
     "metadata": {},
     "output_type": "execute_result"
    }
   ],
   "source": [
    "hidden_dim = 512\n",
    "n_layers = 4\n",
    "lr = 0.01\n",
    "output_size = 1\n",
    "\n",
    "model = SentimentLSTM(20, output_size, hidden_dim, n_layers)\n",
    "model.to('cuda')"
   ]
  },
  {
   "cell_type": "code",
   "execution_count": 12,
   "id": "8e9e89c5-ab0a-435c-8846-4786c3b236ea",
   "metadata": {},
   "outputs": [
    {
     "data": {
      "text/plain": [
       "<All keys matched successfully>"
      ]
     },
     "execution_count": 12,
     "metadata": {},
     "output_type": "execute_result"
    }
   ],
   "source": [
    "model.load_state_dict(torch.load(\"model_weight.pth\"))"
   ]
  },
  {
   "cell_type": "code",
   "execution_count": 13,
   "id": "b6e1b8cb-a16d-4e87-9f45-3ba6cb6f0aff",
   "metadata": {},
   "outputs": [],
   "source": [
    "def predict(model, test_loader, sequence_length=30):\n",
    "    \n",
    "    model.eval()\n",
    "    \n",
    "    batch_size = 32\n",
    "    acc_list = list()\n",
    "    \n",
    "    for inputs, labels in test_loader:\n",
    "        inputs, labels = inputs.cuda(), labels.cuda()\n",
    "        \n",
    "        output, h = model(inputs)\n",
    "        \n",
    "        pred = torch.round(output.squeeze())\n",
    "        \n",
    "        accuracy = (pred==labels).sum().item() / 32\n",
    "        acc_list.append(accuracy)\n",
    "\n",
    "        #print('Prediction value, pre-rounding: ', output.item())\n",
    "\n",
    "        # print custom response based on whether test_review is pos/neg\n",
    "    print(acc_list)\n",
    "    print(np.mean(acc_list))"
   ]
  },
  {
   "cell_type": "code",
   "execution_count": 14,
   "id": "6e8ef06e-6006-4a9a-9c58-11a00b273a7d",
   "metadata": {},
   "outputs": [],
   "source": [
    "def model_run(model, data_loader_list, sequence_length=30):\n",
    "    \n",
    "    model.eval()\n",
    "    \n",
    "    batch_size = 32\n",
    "    acc_list = list()\n",
    "    \n",
    "    for data_loader in data_loader_list:\n",
    "        for inputs, labels in data_loader:\n",
    "            inputs, labels = inputs.cuda(), labels.cuda()\n",
    "\n",
    "            output, h = model(inputs)\n",
    "\n",
    "            pred = torch.round(output.squeeze())\n",
    "\n",
    "\n",
    "            if int(pred) != 0:\n",
    "                return True\n",
    "            else:\n",
    "                return False"
   ]
  },
  {
   "cell_type": "code",
   "execution_count": 15,
   "id": "11b01d50-a62e-415b-8ba8-a733c166a323",
   "metadata": {},
   "outputs": [],
   "source": [
    "fb_msg = FirebaseMsg()"
   ]
  },
  {
   "cell_type": "code",
   "execution_count": 18,
   "id": "970975e9-cf3d-4114-b11a-f5682a7147af",
   "metadata": {},
   "outputs": [],
   "source": [
    "def run(model, fb_msg, url):\n",
    "    while True:\n",
    "        data_loader_list = make_input()\n",
    "        if data_loader_list is None:\n",
    "            continue\n",
    "        \n",
    "        if model_run(model, data_loader_list):\n",
    "            print(\"넘어짐 발생\")\n",
    "            fb_msg.falldown(url)\n",
    "            time.sleep(3)"
   ]
  },
  {
   "cell_type": "code",
   "execution_count": null,
   "id": "9a487605-1d30-4f9c-9691-ed4fdfad4a35",
   "metadata": {},
   "outputs": [
    {
     "name": "stdout",
     "output_type": "stream",
     "text": [
      "넘어짐 발생\n",
      "{'multicast_ids': [], 'success': 1, 'failure': 0, 'canonical_ids': 0, 'results': [], 'topic_message_id': 7876370032170001120}\n",
      "넘어짐 발생\n",
      "{'multicast_ids': [], 'success': 1, 'failure': 0, 'canonical_ids': 0, 'results': [], 'topic_message_id': 3221410308354969337}\n"
     ]
    }
   ],
   "source": [
    "run(model, fb_msg, \"http://222.120.21.20:5000/stream?src=0\")"
   ]
  },
  {
   "cell_type": "code",
   "execution_count": null,
   "id": "561312d8-6ecb-446d-813c-09d981aa4b5d",
   "metadata": {},
   "outputs": [],
   "source": []
  },
  {
   "cell_type": "code",
   "execution_count": null,
   "id": "f06ce15a-27b1-42c9-bc7c-fd74dc2d1c3b",
   "metadata": {},
   "outputs": [],
   "source": []
  }
 ],
 "metadata": {
  "kernelspec": {
   "display_name": "project",
   "language": "python",
   "name": "project"
  },
  "language_info": {
   "codemirror_mode": {
    "name": "ipython",
    "version": 3
   },
   "file_extension": ".py",
   "mimetype": "text/x-python",
   "name": "python",
   "nbconvert_exporter": "python",
   "pygments_lexer": "ipython3",
   "version": "3.9.7"
  }
 },
 "nbformat": 4,
 "nbformat_minor": 5
}
