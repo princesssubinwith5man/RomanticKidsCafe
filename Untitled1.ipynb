{
 "cells": [
  {
   "cell_type": "code",
   "execution_count": 6,
   "id": "822ae65a-e215-4e6c-9772-05d3d6e52b93",
   "metadata": {},
   "outputs": [],
   "source": [
    "import yolo"
   ]
  },
  {
   "cell_type": "code",
   "execution_count": 7,
   "id": "661fa88f-6ad4-4690-a55c-bab0446d7d81",
   "metadata": {},
   "outputs": [
    {
     "name": "stdout",
     "output_type": "stream",
     "text": [
      "yolo2\n"
     ]
    }
   ],
   "source": [
    "print('yolo2')"
   ]
  },
  {
   "cell_type": "code",
   "execution_count": null,
   "id": "fb908c09-1636-44ef-928a-1d5164b926cf",
   "metadata": {},
   "outputs": [],
   "source": []
  }
 ],
 "metadata": {
  "kernelspec": {
   "display_name": "Python 3 (ipykernel)",
   "language": "python",
   "name": "python3"
  },
  "language_info": {
   "codemirror_mode": {
    "name": "ipython",
    "version": 3
   },
   "file_extension": ".py",
   "mimetype": "text/x-python",
   "name": "python",
   "nbconvert_exporter": "python",
   "pygments_lexer": "ipython3",
   "version": "3.9.7"
  }
 },
 "nbformat": 4,
 "nbformat_minor": 5
}
