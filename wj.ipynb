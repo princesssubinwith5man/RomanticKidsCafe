{
 "cells": [
  {
   "cell_type": "code",
   "execution_count": 7,
   "id": "432bebc4-b2f4-429c-a768-a49a007cb374",
   "metadata": {},
   "outputs": [],
   "source": [
    "from IPython.display import clear_output, Image, display, HTML\n",
    "import time\n",
    "import cv2\n",
    "import base64"
   ]
  },
  {
   "cell_type": "code",
   "execution_count": null,
   "id": "c5cdb737-16ec-4852-9212-ad29189dfcd5",
   "metadata": {},
   "outputs": [
    {
     "data": {
      "application/vnd.jupyter.widget-view+json": {
       "model_id": "d8100ca9461b4f639f60ea890b84b65c",
       "version_major": 2,
       "version_minor": 0
      },
      "text/plain": [
       "Image(value=b'', layout=\"Layout(border='solid')\")"
      ]
     },
     "metadata": {},
     "output_type": "display_data"
    },
    {
     "name": "stderr",
     "output_type": "stream",
     "text": [
      "/tmp/ipykernel_50866/715057604.py:15: DeprecationWarning: tostring() is deprecated. Use tobytes() instead.\n",
      "  tmpStream = cv2.imencode(\".jpeg\", img)[1].tostring()\n"
     ]
    }
   ],
   "source": [
    "import cv2 \n",
    "import time \n",
    "import ipywidgets as widgets \n",
    "import IPython.display as display \n",
    "import copy\n",
    "cap = cv2.VideoCapture('/home/lwjeong/RomanticKidsCafe/before/Image/1.mp4') \n",
    "wImg = widgets.Image( \n",
    "    layout = widgets.Layout(border=\"solid\") \n",
    ") \n",
    "display.display(wImg) \n",
    "if cap.isOpened(): \n",
    "    ret, img = cap.read() \n",
    "    while ret: \n",
    "        # 동영상 파일에서 캡쳐된 이미지를 이미지 파일 스트림으로 다시 인코딩을 한다. \n",
    "        tmpStream = cv2.imencode(\".jpeg\", img)[1].tostring() \n",
    "        wImg.value = tmpStream \n",
    "        # 20 프레임이 되기 위한 딜레이 다만, 실제로 입력한 것보다 조금 더 딜레이가 있다 \n",
    "        \n",
    "        ret, img = cap.read() \n",
    "cap.release()"
   ]
  },
  {
   "cell_type": "code",
   "execution_count": 5,
   "id": "bcfe7c6a-36f2-48c6-a43b-c35fa7011292",
   "metadata": {},
   "outputs": [],
   "source": [
    "from IPython.display import display, HTML\n",
    "from base64 import b64encode\n",
    "\n",
    "def display_video(path):\n",
    "  mp4 = open(path,'rb').read()\n",
    "  data_url = \"data:video/mp4;base64,\" + b64encode(mp4).decode()\n",
    "  display(\n",
    "    HTML(\n",
    "      \"\"\"\n",
    "          <video width=400 controls>\n",
    "                <source src=\"%s\" type=\"video/mp4\">\n",
    "          </video>\n",
    "      \"\"\" % data_url\n",
    "    )\n",
    "  )"
   ]
  },
  {
   "cell_type": "code",
   "execution_count": null,
   "id": "9da22c43-5fb2-42d6-b0d5-94d5ad89cd77",
   "metadata": {},
   "outputs": [],
   "source": [
    "print(\"hi\")"
   ]
  },
  {
   "cell_type": "code",
   "execution_count": null,
   "id": "6f65faec-2be9-4c93-9081-66ffba6c0706",
   "metadata": {},
   "outputs": [],
   "source": []
  }
 ],
 "metadata": {
  "kernelspec": {
   "display_name": "Python 3 (ipykernel)",
   "language": "python",
   "name": "python3"
  },
  "language_info": {
   "codemirror_mode": {
    "name": "ipython",
    "version": 3
   },
   "file_extension": ".py",
   "mimetype": "text/x-python",
   "name": "python",
   "nbconvert_exporter": "python",
   "pygments_lexer": "ipython3",
   "version": "3.9.7"
  }
 },
 "nbformat": 4,
 "nbformat_minor": 5
}
