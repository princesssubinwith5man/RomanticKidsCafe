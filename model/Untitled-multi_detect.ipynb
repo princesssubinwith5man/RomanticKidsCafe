{
 "cells": [
  {
   "cell_type": "code",
   "execution_count": 1,
   "id": "cbbc531d-5414-4001-b915-56b823830739",
   "metadata": {},
   "outputs": [
    {
     "name": "stdout",
     "output_type": "stream",
     "text": [
      "OpenPifPaf version 0.13.4\n",
      "PyTorch version 1.11.0\n"
     ]
    }
   ],
   "source": [
    "import io\n",
    "import numpy as np\n",
    "import PIL\n",
    "import requests\n",
    "import openpifpaf\n",
    "import torch\n",
    "import cv2\n",
    "import json\n",
    "import time\n",
    "from PIL import Image\n",
    "from pymongo import MongoClient\n",
    "from datetime import datetime\n",
    "\n",
    "print('OpenPifPaf version', openpifpaf.__version__)\n",
    "print('PyTorch version', torch.__version__)"
   ]
  },
  {
   "cell_type": "code",
   "execution_count": 2,
   "id": "ddeccc61-73d2-4a87-b050-a63342da74de",
   "metadata": {},
   "outputs": [],
   "source": [
    "predictor = openpifpaf.Predictor(checkpoint='shufflenetv2k16')\n",
    "#predictions, gt_anns, image_meta = predictor.pil_image(pil_im)"
   ]
  },
  {
   "cell_type": "code",
   "execution_count": 23,
   "id": "84ba8eee-2743-4f39-8592-b7875e80622d",
   "metadata": {},
   "outputs": [],
   "source": [
    "url = \"http://121.155.53.218:5000/stream?src=0\"\n",
    "cap = cv2.VideoCapture(url)\n",
    "prev = 0\n",
    "FPS = 10"
   ]
  },
  {
   "cell_type": "code",
   "execution_count": 5,
   "id": "1358f0dd-d066-4fec-86c3-38101aa99147",
   "metadata": {},
   "outputs": [
    {
     "name": "stdout",
     "output_type": "stream",
     "text": [
      "['admin', 'config', 'local', 'mydb', 'test']\n"
     ]
    }
   ],
   "source": [
    "client = MongoClient(host='114.70.235.37', port=27017)\n",
    "print(client.list_database_names())"
   ]
  },
  {
   "cell_type": "code",
   "execution_count": 6,
   "id": "a3e4f9b1-6a6e-480f-b646-825f95448688",
   "metadata": {},
   "outputs": [],
   "source": [
    "def calcul_xy(xy):\n",
    "    result = []\n",
    "    \n",
    "    neck = [((xy[5][0]+xy[6][0])/2 + xy[0][0]) / 2, ((xy[5][1]+xy[6][1])/2 + xy[0][1]) / 2]\n",
    "    hip = [(xy[11][0]+xy[12][0])/2, (xy[11][1]+xy[12][1])/2]\n",
    "    \n",
    "    result.append((xy[0][0] - neck[0]).item())\n",
    "    result.append((xy[0][1] - neck[1]).item())\n",
    "    \n",
    "    result.append((neck[0] - xy[7][0]).item())\n",
    "    result.append((neck[1] - xy[7][1]).item())\n",
    "    \n",
    "    result.append((neck[0] - xy[8][0]).item())\n",
    "    result.append((neck[1] - xy[8][1]).item())\n",
    "    \n",
    "    result.append((xy[7][0] - xy[9][0]).item())\n",
    "    result.append((xy[7][1] - xy[9][1]).item())\n",
    "    \n",
    "    result.append((xy[8][0] - xy[10][0]).item())\n",
    "    result.append((xy[8][1] - xy[10][1]).item())\n",
    "    \n",
    "    # v5 neck - hip\n",
    "    result.append((neck[0] - hip[0]).item())\n",
    "    result.append((neck[1] - hip[1]).item())\n",
    "    \n",
    "    result.append((hip[0] - xy[13][0]).item())\n",
    "    result.append((hip[1] - xy[13][1]).item())\n",
    "    \n",
    "    result.append((hip[0] - xy[14][0]).item())\n",
    "    result.append((hip[1] - xy[14][1]).item())\n",
    "    \n",
    "    result.append((xy[13][0] - xy[15][0]).item())\n",
    "    result.append((xy[13][1] - xy[15][1]).item())\n",
    "    \n",
    "    result.append((xy[14][0] - xy[16][0]).item())\n",
    "    result.append((xy[14][1] - xy[16][1]).item())\n",
    "    \n",
    "    return result    "
   ]
  },
  {
   "cell_type": "code",
   "execution_count": 7,
   "id": "11686f32-e452-461f-914c-95ad77673c70",
   "metadata": {},
   "outputs": [],
   "source": [
    "db = client['mydb']\n",
    "db = db.xy_wj\n",
    "\n",
    "def input_db(db, data, human_index):\n",
    "    input_data = dict()\n",
    "    \n",
    "    input_data['date'] = datetime.now()\n",
    "    input_data['human_index'] = human_index\n",
    "    for i in range(10):\n",
    "        \n",
    "        for j in range(2):\n",
    "            index = \"v\" + str(i)\n",
    "            if j%2 == 0:\n",
    "                index += 'x'\n",
    "            else:\n",
    "                index += 'y'\n",
    "            \n",
    "            input_data[index] = data[i*2 + j]\n",
    "\n",
    "    #print(type(input_data['v0x']))\n",
    "    db.insert_one(input_data)\n",
    "            "
   ]
  },
  {
   "cell_type": "code",
   "execution_count": 1,
   "id": "2f169c5e-63d6-4620-8d6b-686e67092946",
   "metadata": {},
   "outputs": [
    {
     "ename": "NameError",
     "evalue": "name 'cap' is not defined",
     "output_type": "error",
     "traceback": [
      "\u001b[0;31m---------------------------------------------------------------------------\u001b[0m",
      "\u001b[0;31mNameError\u001b[0m                                 Traceback (most recent call last)",
      "Input \u001b[0;32mIn [1]\u001b[0m, in \u001b[0;36m<cell line: 1>\u001b[0;34m()\u001b[0m\n\u001b[0;32m----> 1\u001b[0m \u001b[38;5;28;01mif\u001b[39;00m \u001b[43mcap\u001b[49m\u001b[38;5;241m.\u001b[39misOpened(): \n\u001b[1;32m      2\u001b[0m     ret, img \u001b[38;5;241m=\u001b[39m cap\u001b[38;5;241m.\u001b[39mread()\n\u001b[1;32m      3\u001b[0m     cur \u001b[38;5;241m=\u001b[39m time\u001b[38;5;241m.\u001b[39mtime() \u001b[38;5;241m-\u001b[39m prev\n",
      "\u001b[0;31mNameError\u001b[0m: name 'cap' is not defined"
     ]
    }
   ],
   "source": [
    "if cap.isOpened(): \n",
    "    ret, img = cap.read()\n",
    "    cur = time.time() - prev\n",
    "    before_chk = False\n",
    "    \n",
    "    chk_xy = [0] * 10\n",
    "    xy = [0] * 10\n",
    "    points = [0] * 10\n",
    "    before_xy = None\n",
    "    human_index = 0\n",
    "    max_human_num = 0\n",
    "    cnt = 0\n",
    "    \n",
    "    while ret:\n",
    "                    #img = cv2.cvtColor(img, cv2.COLOR_BGR2RGB)\n",
    "            #print(type(img))\n",
    "        img = Image.fromarray(img)\n",
    "\n",
    "        predictions, gt_anns, image_meta = predictor.pil_image(img)\n",
    "\n",
    "        if len(predictions) < 1: #사람없음\n",
    "            ret, img = cap.read()\n",
    "            cur = time.time() - prev\n",
    "                \n",
    "            continue\n",
    "        \n",
    "        #xy 좌표추가 \n",
    "        human_cnt = len(predictions) # 현재 사람 명수\n",
    "        max_human_num = max(max_human_num, human_cnt)\n",
    "                        \n",
    "        for i in range(human_cnt):\n",
    "            tmp_data = predictions[i].data\n",
    "            # 중심점        \n",
    "            point = int(((tmp_data[5][0]+tmp_data[6][0])/2 + tmp_data[0][0]) / 2) # hip 좌표\n",
    "    \n",
    "            if points[i] == 0: # 중심점 없을시\n",
    "                points[human_index] = point\n",
    "                xy[human_index] = predictions[i].data\n",
    "                #db 값넣기\n",
    "                result = calcul_xy(xy[human_index])\n",
    "                input_db(db, result, human_index)\n",
    "                human_index+=1   \n",
    "            else:\n",
    "                #저장된 중심점중 제일 가까운 값과 인덱스\n",
    "                min_val = min(points, key=lambda x:abs(x-point))\n",
    "                min_index = points.index(min_val)\n",
    "                xy[min_index] = predictions[i].data\n",
    "                #db 값넣기\n",
    "                result = calcul_xy(xy[min_index])\n",
    "                input_db(db, result, min_index)\n",
    "        \n",
    "        # 값 0인지 체크\n",
    "        if before_chk:\n",
    "            for idx in range(max_human_num):\n",
    "                for i in range(len(xy[idx])):\n",
    "                    ## 좌표 중 0으로 출력되는 포인트를 인식하지 못한 부분은 이전 값으로 채우기\n",
    "                    print(xy[idx])\n",
    "                    if xy[idx][i][0] == 0:\n",
    "                        xy[idx][i][0], xy[idx][i][1] = before_xy[idx][i][0], before_xy[idx][i][1]\n",
    "              \n",
    "        before_xy = xy\n",
    "        before_chk = True\n",
    "        \n",
    "\n",
    "        ret, img = cap.read()\n",
    "        cur = time.time() - prev\n",
    "        cnt+=1\n",
    "\n",
    "        if cnt%100 == 0:\n",
    "            print(cnt)\n",
    "            print(human_cnt)\n",
    "\n",
    "\n",
    "else:\n",
    "    print(\"url is not opened!!\")"
   ]
  },
  {
   "cell_type": "code",
   "execution_count": null,
   "id": "412d004a-60db-482e-84c3-4fd410137891",
   "metadata": {},
   "outputs": [],
   "source": []
  },
  {
   "cell_type": "code",
   "execution_count": null,
   "id": "4a31a264-69fd-4cf7-a6db-e9e43a01fd07",
   "metadata": {},
   "outputs": [],
   "source": []
  }
 ],
 "metadata": {
  "kernelspec": {
   "display_name": "project",
   "language": "python",
   "name": "project"
  },
  "language_info": {
   "codemirror_mode": {
    "name": "ipython",
    "version": 3
   },
   "file_extension": ".py",
   "mimetype": "text/x-python",
   "name": "python",
   "nbconvert_exporter": "python",
   "pygments_lexer": "ipython3",
   "version": "3.8.12"
  }
 },
 "nbformat": 4,
 "nbformat_minor": 5
}
