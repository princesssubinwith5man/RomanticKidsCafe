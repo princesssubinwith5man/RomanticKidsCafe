{
 "cells": [
  {
   "cell_type": "code",
   "execution_count": 42,
   "id": "67dc6a8c-a46c-419f-871e-e23f496faf91",
   "metadata": {},
   "outputs": [],
   "source": [
    "from pymongo import MongoClient\n",
    "import pymongo\n",
    "import datetime\n",
    "import numpy as np\n",
    "\n",
    "import torch\n",
    "import torch.nn as nn\n",
    "from torch.utils.data import TensorDataset, DataLoader\n",
    "\n",
    "from tqdm import tqdm"
   ]
  },
  {
   "cell_type": "code",
   "execution_count": 43,
   "id": "842d6336-963c-4cef-bff1-1621457f1437",
   "metadata": {},
   "outputs": [
    {
     "name": "stdout",
     "output_type": "stream",
     "text": [
      "['admin', 'config', 'local', 'mydb']\n"
     ]
    }
   ],
   "source": [
    "client = MongoClient(host='114.70.235.37', port=27017)\n",
    "print(client.list_database_names())"
   ]
  },
  {
   "cell_type": "code",
   "execution_count": 84,
   "id": "a6062931-3d40-4767-89c6-32ae0c68f328",
   "metadata": {},
   "outputs": [],
   "source": [
    "db = client['mydb'].xy\n",
    "result= db.find().sort([(\"date\", pymongo.DESCENDING)]).limit(2)\n",
    "\n",
    "data = list(result)[0]\n",
    "start_date = data[\"date\"] - datetime.timedelta(seconds=5)\n",
    "seq = list(db.find({\"date\": {'$gte' : start_date, '$lt' : data[\"date\"]}}))"
   ]
  },
  {
   "cell_type": "code",
   "execution_count": 85,
   "id": "c6025d2c-aeef-4deb-92dc-b6f9db32eb37",
   "metadata": {},
   "outputs": [],
   "source": [
    "list_data = list()\n",
    "for j in seq:\n",
    "    del j['date']\n",
    "    del j['_id']\n",
    "    \n",
    "    list_data.append(list(j.values()))"
   ]
  },
  {
   "cell_type": "code",
   "execution_count": 86,
   "id": "3b4b95ea-1070-4e47-990a-ab2006cc2ed0",
   "metadata": {},
   "outputs": [],
   "source": [
    "k = int(len(list_data)/30)\n",
    "list_2 = []\n",
    "for i in range(1,31):\n",
    "    list_2.append(list_data[k*i])"
   ]
  },
  {
   "cell_type": "code",
   "execution_count": 87,
   "id": "7dde7f9a-93df-4a72-9bfa-80086c559113",
   "metadata": {},
   "outputs": [],
   "source": [
    "list_data = np.array(list_2, dtype=np.float32)\n",
    "list_data = np.expand_dims(list_data, axis=0)"
   ]
  },
  {
   "cell_type": "code",
   "execution_count": 88,
   "id": "ef85e5f1-6501-475f-ab54-dccfc0d096a2",
   "metadata": {},
   "outputs": [
    {
     "name": "stdout",
     "output_type": "stream",
     "text": [
      "[0]\n",
      "(1, 30, 20)\n",
      "(1,)\n"
     ]
    }
   ],
   "source": [
    "y_false = np.array([0 for w in range(len(list_data))])\n",
    "print(y_false)\n",
    "print(list_data.shape)\n",
    "print(y_false.shape)"
   ]
  },
  {
   "cell_type": "code",
   "execution_count": 89,
   "id": "0b033cd7-5962-4f6f-944e-b8727bcc2145",
   "metadata": {},
   "outputs": [],
   "source": [
    "# dataloaders\n",
    "batch_size = 32\n",
    "device='cuda'\n",
    "\n",
    "class SentimentLSTM(nn.Module):\n",
    "\n",
    "    def __init__(self, seq_size, output_size, hidden_dim, n_layers):\n",
    "        \n",
    "        super(SentimentLSTM, self).__init__()\n",
    "\n",
    "        self.output_size = output_size\n",
    "        self.n_layers = n_layers\n",
    "        self.hidden_dim = hidden_dim\n",
    "\n",
    "        # embedding and LSTM layers\n",
    "        self.lstm = nn.LSTM(seq_size, hidden_dim, n_layers, batch_first=True, dropout=0.2)\n",
    "        \n",
    "        # linear and sigmoid layer\n",
    "        self.fc = nn.Linear(hidden_dim, output_size)\n",
    "        self.sig = nn.Sigmoid()\n",
    "\n",
    "    def forward(self, x):\n",
    "        batch_size = x.size(0)\n",
    "        \n",
    "        lstm_out, hidden = self.lstm(x)\n",
    "        ## lstm_out.shape [batch, seq_len, hidden_dim]\n",
    "        ## hidden [batch, hidden_dim]\n",
    "\n",
    "        # fully connected layer        \n",
    "        out = self.fc(lstm_out[:, -1, :])\n",
    "        ## out.shape: [n_layer * n_direction, batch, output_size]\n",
    "\n",
    "        # sigmoid function\n",
    "        sig_out = self.sig(out)\n",
    "        \n",
    "        # return last sigmoid output and hidden state\n",
    "        return sig_out, out"
   ]
  },
  {
   "cell_type": "code",
   "execution_count": 90,
   "id": "9bbe1f2a-6b88-4010-afab-9cd7ebfc9934",
   "metadata": {},
   "outputs": [],
   "source": [
    "def init_weights(m):\n",
    "    for name, param in m.named_parameters():\n",
    "        nn.init.uniform_(param.data, -0.08, 0.08)\n",
    "        # nn.init.uniform_(param.data, -0.1, 0.1)"
   ]
  },
  {
   "cell_type": "code",
   "execution_count": 91,
   "id": "a16414ae-a0da-400c-a821-f2ba4a663dc9",
   "metadata": {},
   "outputs": [
    {
     "data": {
      "text/plain": [
       "SentimentLSTM(\n",
       "  (lstm): LSTM(20, 512, num_layers=4, batch_first=True, dropout=0.2)\n",
       "  (fc): Linear(in_features=512, out_features=1, bias=True)\n",
       "  (sig): Sigmoid()\n",
       ")"
      ]
     },
     "execution_count": 91,
     "metadata": {},
     "output_type": "execute_result"
    }
   ],
   "source": [
    "hidden_dim = 512\n",
    "n_layers = 4\n",
    "lr = 0.01\n",
    "output_size = 1\n",
    "\n",
    "model = SentimentLSTM(20, output_size, hidden_dim, n_layers)\n",
    "model.to('cuda')"
   ]
  },
  {
   "cell_type": "code",
   "execution_count": 92,
   "id": "8e9e89c5-ab0a-435c-8846-4786c3b236ea",
   "metadata": {},
   "outputs": [
    {
     "data": {
      "text/plain": [
       "<All keys matched successfully>"
      ]
     },
     "execution_count": 92,
     "metadata": {},
     "output_type": "execute_result"
    }
   ],
   "source": [
    "model.load_state_dict(torch.load(\"model_weight.pth\"))"
   ]
  },
  {
   "cell_type": "code",
   "execution_count": 93,
   "id": "b6e1b8cb-a16d-4e87-9f45-3ba6cb6f0aff",
   "metadata": {},
   "outputs": [],
   "source": [
    "def predict(model, test_loader, sequence_length=30):\n",
    "    \n",
    "    model.eval()\n",
    "    \n",
    "    batch_size = 32\n",
    "    acc_list = list()\n",
    "    \n",
    "    for inputs, labels in test_loader:\n",
    "        inputs, labels = inputs.cuda(), labels.cuda()\n",
    "        \n",
    "        output, h = model(inputs)\n",
    "        \n",
    "        pred = torch.round(output.squeeze())\n",
    "        \n",
    "        accuracy = (pred==labels).sum().item() / 32\n",
    "        acc_list.append(accuracy)\n",
    "\n",
    "        #print('Prediction value, pre-rounding: ', output.item())\n",
    "\n",
    "        # print custom response based on whether test_review is pos/neg\n",
    "        \n",
    "    print(np.mean(acc_list))"
   ]
  },
  {
   "cell_type": "code",
   "execution_count": 94,
   "id": "809ff3bd-8e4d-4a02-8bd6-95eb68d93e7c",
   "metadata": {},
   "outputs": [],
   "source": [
    "test_data = torch.load('/project/annotation/test_v2.pt')\n",
    "test_loader = DataLoader(test_data, shuffle=False, batch_size=batch_size)\n",
    "tmp_data = TensorDataset(torch.from_numpy(list_data), torch.from_numpy(y_false))\n",
    "tmp_loader = DataLoader(tmp_data, shuffle=False, batch_size=batch_size)\n",
    "\n"
   ]
  },
  {
   "cell_type": "code",
   "execution_count": 95,
   "id": "970975e9-cf3d-4114-b11a-f5682a7147af",
   "metadata": {},
   "outputs": [
    {
     "name": "stdout",
     "output_type": "stream",
     "text": [
      "0.03125\n"
     ]
    }
   ],
   "source": [
    "predict(model, tmp_loader)"
   ]
  },
  {
   "cell_type": "code",
   "execution_count": 96,
   "id": "9a487605-1d30-4f9c-9691-ed4fdfad4a35",
   "metadata": {},
   "outputs": [
    {
     "data": {
      "text/plain": [
       "(tensor([[ 3.1322e-01, -3.1059e+01, -1.8854e+02, -1.4704e+02,  2.1160e+02,\n",
       "          -1.4212e+02,  4.4922e+02,  3.4480e+02,  4.9078e+01,  3.3988e+02,\n",
       "           2.6068e+02,  1.9776e+02,  0.0000e+00,  0.0000e+00,  0.0000e+00,\n",
       "           0.0000e+00,  0.0000e+00,  0.0000e+00,  0.0000e+00,  0.0000e+00],\n",
       "         [ 1.8242e+00, -3.1912e+01, -1.8679e+02, -1.4732e+02,  2.1102e+02,\n",
       "          -1.4065e+02,  4.4860e+02,  3.4591e+02,  5.0787e+01,  3.3924e+02,\n",
       "           2.6181e+02,  1.9859e+02,  0.0000e+00,  0.0000e+00,  0.0000e+00,\n",
       "           0.0000e+00,  0.0000e+00,  0.0000e+00,  0.0000e+00,  0.0000e+00],\n",
       "         [ 2.6270e+00, -3.1728e+01, -1.8643e+02, -1.4756e+02,  2.1111e+02,\n",
       "          -1.3972e+02,  4.4892e+02,  3.4659e+02,  5.1374e+01,  3.3875e+02,\n",
       "           2.6249e+02,  1.9903e+02,  0.0000e+00,  0.0000e+00,  0.0000e+00,\n",
       "           0.0000e+00,  0.0000e+00,  0.0000e+00,  0.0000e+00,  0.0000e+00],\n",
       "         [ 2.7519e+00, -3.1083e+01, -1.8550e+02, -1.4611e+02,  2.1271e+02,\n",
       "          -1.3869e+02,  4.4948e+02,  3.4636e+02,  5.1269e+01,  3.3894e+02,\n",
       "           2.6398e+02,  2.0025e+02,  0.0000e+00,  0.0000e+00,  0.0000e+00,\n",
       "           0.0000e+00,  0.0000e+00,  0.0000e+00,  0.0000e+00,  0.0000e+00],\n",
       "         [ 3.8656e+00, -3.1270e+01, -1.8565e+02, -1.4519e+02,  2.1357e+02,\n",
       "          -1.3941e+02,  4.4962e+02,  3.4624e+02,  5.0401e+01,  3.4046e+02,\n",
       "           2.6397e+02,  2.0105e+02,  0.0000e+00,  0.0000e+00,  0.0000e+00,\n",
       "           0.0000e+00,  0.0000e+00,  0.0000e+00,  0.0000e+00,  0.0000e+00],\n",
       "         [ 4.0323e+00, -3.0437e+01, -1.8501e+02, -1.4443e+02,  2.1375e+02,\n",
       "          -1.3943e+02,  4.4998e+02,  3.4509e+02,  5.1219e+01,  3.4009e+02,\n",
       "           2.6497e+02,  2.0066e+02,  0.0000e+00,  0.0000e+00,  0.0000e+00,\n",
       "           0.0000e+00,  0.0000e+00,  0.0000e+00,  0.0000e+00,  0.0000e+00],\n",
       "         [ 4.2883e+00, -3.1348e+01, -1.8280e+02, -1.4312e+02,  2.1551e+02,\n",
       "          -1.4020e+02,  4.4789e+02,  3.4409e+02,  4.9572e+01,  3.4117e+02,\n",
       "           2.6509e+02,  2.0096e+02,  0.0000e+00,  0.0000e+00,  0.0000e+00,\n",
       "           0.0000e+00,  0.0000e+00,  0.0000e+00,  0.0000e+00,  0.0000e+00],\n",
       "         [ 5.1291e+00, -3.0201e+01, -1.8019e+02, -1.4187e+02,  2.1589e+02,\n",
       "          -1.4161e+02,  4.4511e+02,  3.4218e+02,  4.9028e+01,  3.4192e+02,\n",
       "           2.6492e+02,  2.0030e+02,  0.0000e+00,  0.0000e+00,  0.0000e+00,\n",
       "           0.0000e+00,  0.0000e+00,  0.0000e+00,  0.0000e+00,  0.0000e+00],\n",
       "         [ 5.0396e+00, -3.0621e+01, -1.8452e+02, -1.4475e+02,  2.1548e+02,\n",
       "          -1.3900e+02,  4.5005e+02,  3.4546e+02,  5.0054e+01,  3.3971e+02,\n",
       "           2.6554e+02,  2.0071e+02,  0.0000e+00,  0.0000e+00,  0.0000e+00,\n",
       "           0.0000e+00,  0.0000e+00,  0.0000e+00,  0.0000e+00,  0.0000e+00],\n",
       "         [ 5.6695e+00, -3.0325e+01, -1.8024e+02, -1.4271e+02,  2.1384e+02,\n",
       "          -1.3975e+02,  4.4552e+02,  3.4311e+02,  5.1441e+01,  3.4015e+02,\n",
       "           2.6528e+02,  2.0040e+02,  0.0000e+00,  0.0000e+00,  0.0000e+00,\n",
       "           0.0000e+00,  0.0000e+00,  0.0000e+00,  0.0000e+00,  0.0000e+00],\n",
       "         [ 5.4455e+00, -3.0527e+01, -1.8390e+02, -1.4514e+02,  2.1392e+02,\n",
       "          -1.3846e+02,  4.4955e+02,  3.4646e+02,  5.1724e+01,  3.3978e+02,\n",
       "           2.6565e+02,  2.0132e+02,  0.0000e+00,  0.0000e+00,  0.0000e+00,\n",
       "           0.0000e+00,  0.0000e+00,  0.0000e+00,  0.0000e+00,  0.0000e+00],\n",
       "         [ 5.3467e+00, -3.0769e+01, -1.8148e+02, -1.4564e+02,  2.1719e+02,\n",
       "          -1.4006e+02,  4.4766e+02,  3.4672e+02,  4.8989e+01,  3.4114e+02,\n",
       "           2.6618e+02,  2.0108e+02,  0.0000e+00,  0.0000e+00,  0.0000e+00,\n",
       "           0.0000e+00,  0.0000e+00,  0.0000e+00,  0.0000e+00,  0.0000e+00],\n",
       "         [ 5.3633e+00, -3.1090e+01, -1.8012e+02, -1.4523e+02,  2.1807e+02,\n",
       "          -1.4028e+02,  4.4784e+02,  3.4608e+02,  4.9653e+01,  3.4114e+02,\n",
       "           2.6772e+02,  2.0086e+02,  0.0000e+00,  0.0000e+00,  0.0000e+00,\n",
       "           0.0000e+00,  0.0000e+00,  0.0000e+00,  0.0000e+00,  0.0000e+00],\n",
       "         [ 6.1589e+00, -3.0995e+01, -1.7960e+02, -1.4669e+02,  2.1806e+02,\n",
       "          -1.4089e+02,  4.4747e+02,  3.4708e+02,  4.9814e+01,  3.4128e+02,\n",
       "           2.6787e+02,  2.0039e+02,  0.0000e+00,  0.0000e+00,  0.0000e+00,\n",
       "           0.0000e+00,  0.0000e+00,  0.0000e+00,  0.0000e+00,  0.0000e+00],\n",
       "         [ 5.7970e+00, -3.0664e+01, -1.8121e+02, -1.4564e+02,  2.1729e+02,\n",
       "          -1.3817e+02,  4.4861e+02,  3.4732e+02,  5.0108e+01,  3.3985e+02,\n",
       "           2.6740e+02,  2.0168e+02,  0.0000e+00,  0.0000e+00,  0.0000e+00,\n",
       "           0.0000e+00,  0.0000e+00,  0.0000e+00,  0.0000e+00,  0.0000e+00],\n",
       "         [ 5.7174e+00, -3.0723e+01, -1.8205e+02, -1.4549e+02,  2.1590e+02,\n",
       "          -1.3858e+02,  4.4937e+02,  3.4687e+02,  5.1414e+01,  3.3996e+02,\n",
       "           2.6732e+02,  2.0138e+02,  0.0000e+00,  0.0000e+00,  0.0000e+00,\n",
       "           0.0000e+00,  0.0000e+00,  0.0000e+00,  0.0000e+00,  0.0000e+00],\n",
       "         [ 5.8020e+00, -3.0831e+01, -1.8089e+02, -1.4583e+02,  2.1863e+02,\n",
       "          -1.3907e+02,  4.4885e+02,  3.4760e+02,  4.9325e+01,  3.4083e+02,\n",
       "           2.6796e+02,  2.0177e+02,  0.0000e+00,  0.0000e+00,  0.0000e+00,\n",
       "           0.0000e+00,  0.0000e+00,  0.0000e+00,  0.0000e+00,  0.0000e+00],\n",
       "         [ 6.1861e+00, -3.0989e+01, -1.7955e+02, -1.4471e+02,  2.1825e+02,\n",
       "          -1.3894e+02,  4.4807e+02,  3.4618e+02,  5.0271e+01,  3.4041e+02,\n",
       "           2.6853e+02,  2.0147e+02,  0.0000e+00,  0.0000e+00,  0.0000e+00,\n",
       "           0.0000e+00,  0.0000e+00,  0.0000e+00,  0.0000e+00,  0.0000e+00],\n",
       "         [ 6.2897e+00, -3.1358e+01, -1.8017e+02, -1.4514e+02,  2.1720e+02,\n",
       "          -1.3827e+02,  4.4867e+02,  3.4655e+02,  5.1305e+01,  3.3968e+02,\n",
       "           2.6850e+02,  2.0141e+02,  0.0000e+00,  0.0000e+00,  0.0000e+00,\n",
       "           0.0000e+00,  0.0000e+00,  0.0000e+00,  0.0000e+00,  0.0000e+00],\n",
       "         [ 5.7591e+00, -3.1193e+01, -1.8180e+02, -1.4539e+02,  2.2102e+02,\n",
       "          -1.3986e+02,  4.5049e+02,  3.4652e+02,  4.7675e+01,  3.4099e+02,\n",
       "           2.6869e+02,  2.0113e+02,  0.0000e+00,  0.0000e+00,  0.0000e+00,\n",
       "           0.0000e+00,  0.0000e+00,  0.0000e+00,  0.0000e+00,  0.0000e+00],\n",
       "         [ 6.4754e+00, -3.0307e+01, -1.7104e+02, -1.5067e+02,  2.1288e+02,\n",
       "          -1.4061e+02,  4.3988e+02,  3.4702e+02,  5.5961e+01,  3.3695e+02,\n",
       "           2.6884e+02,  1.9634e+02,  0.0000e+00,  0.0000e+00,  0.0000e+00,\n",
       "           0.0000e+00,  0.0000e+00,  0.0000e+00,  0.0000e+00,  0.0000e+00],\n",
       "         [ 1.0467e+01, -3.1045e+01, -1.4087e+02, -1.3470e+02,  1.9345e+02,\n",
       "          -1.4016e+02,  6.4051e+01, -2.6934e+01,  6.7562e+01,  3.2303e+02,\n",
       "           2.6101e+02,  1.8288e+02,  0.0000e+00,  0.0000e+00,  0.0000e+00,\n",
       "           0.0000e+00,  0.0000e+00,  0.0000e+00,  0.0000e+00,  0.0000e+00],\n",
       "         [ 7.6545e+00, -3.5341e+01, -1.2985e+02, -1.0540e+02,  1.5655e+02,\n",
       "          -1.4101e+02,  6.4367e+01, -6.5509e+01,  7.6555e+01,  2.9717e+02,\n",
       "           1.0788e+01, -1.9422e+02,  2.2232e+02,  3.5037e+02,  2.2232e+02,\n",
       "           3.5037e+02,  0.0000e+00,  0.0000e+00,  0.0000e+00,  0.0000e+00],\n",
       "         [ 6.7605e+00, -3.4076e+01, -1.2097e+02, -8.2905e+01,  1.5252e+02,\n",
       "          -1.0586e+02,  2.1464e+01, -6.4597e+01, -2.8229e+01, -6.1346e+01,\n",
       "          -1.1162e+01, -1.8551e+02,  2.1648e+02,  3.3318e+02,  2.1648e+02,\n",
       "           3.3318e+02,  0.0000e+00,  0.0000e+00,  0.0000e+00,  0.0000e+00],\n",
       "         [ 6.6107e+00, -3.5047e+01, -1.0623e+02, -9.4415e+01,  1.3250e+02,\n",
       "          -9.0555e+01, -1.8658e+01, -5.6158e+01, -2.8864e+01, -6.2891e+01,\n",
       "          -1.0450e+01, -1.8965e+02, -1.4142e+02, -1.9859e+01,  1.9707e+02,\n",
       "           3.2563e+02,  3.3849e+02,  3.4549e+02,  0.0000e+00,  0.0000e+00],\n",
       "         [ 8.6171e+00, -3.2599e+01, -1.0802e+02, -9.1371e+01,  1.4287e+02,\n",
       "          -9.7986e+01, -2.1519e+01, -7.2394e+01, -4.7773e+01, -6.9575e+01,\n",
       "          -1.0234e+01, -1.8560e+02, -1.2772e+02, -2.2104e+01,  2.0050e+02,\n",
       "           3.2291e+02,  3.2822e+02,  3.4501e+02,  0.0000e+00,  0.0000e+00],\n",
       "         [ 3.1475e+01, -1.0760e+01, -7.1565e+01, -5.8123e+01,  1.9497e+02,\n",
       "          -5.3288e+01,  2.7906e+00, -7.6415e+01, -3.8052e+01, -8.5399e+01,\n",
       "           6.1432e+01, -1.5091e+02, -1.4080e+02, -1.9346e+01,  1.9602e+02,\n",
       "           3.2473e+02,  3.3683e+02,  3.4407e+02,  0.0000e+00,  0.0000e+00],\n",
       "         [ 4.2257e+01, -1.3570e+01, -3.2725e+01, -8.0106e+01,  2.0027e+02,\n",
       "          -7.6711e+01,  1.1739e+01, -8.3541e+01,  1.8300e+01, -8.0867e+01,\n",
       "           8.8822e+01, -1.4850e+02, -1.1553e+02, -5.3578e+01,  2.2050e+02,\n",
       "           2.8272e+02,  3.3604e+02,  3.3630e+02,  0.0000e+00,  0.0000e+00],\n",
       "         [-1.4688e+02, -2.0632e+01, -1.7498e+02, -1.2794e+02, -9.1214e+00,\n",
       "          -1.1244e+02,  8.1442e+00, -9.2183e+01, -1.5284e+01, -1.2011e+02,\n",
       "          -7.8328e+01, -2.1110e+02, -7.8130e+01, -9.1536e+01,  9.2410e-01,\n",
       "          -1.2223e+02,  3.0333e+02,  3.2326e+02,  2.2428e+02,  3.5396e+02],\n",
       "         [-8.6993e+01, -6.5080e+00,  8.6993e+01,  6.5080e+00,  8.6993e+01,\n",
       "           6.5080e+00,  0.0000e+00,  0.0000e+00,  0.0000e+00,  0.0000e+00,\n",
       "          -1.6263e+02, -1.8957e+02, -3.6538e+01, -1.3005e+02,  3.4320e+01,\n",
       "          -1.4806e+02,  2.8616e+02,  3.2613e+02,  2.1530e+02,  3.4414e+02]]),\n",
       " tensor(0))"
      ]
     },
     "execution_count": 96,
     "metadata": {},
     "output_type": "execute_result"
    }
   ],
   "source": [
    "tmp_data[0]"
   ]
  },
  {
   "cell_type": "code",
   "execution_count": null,
   "id": "ed33e5c4-2d83-40d7-9b31-c05d5736e8b2",
   "metadata": {},
   "outputs": [],
   "source": []
  }
 ],
 "metadata": {
  "kernelspec": {
   "display_name": "project",
   "language": "python",
   "name": "project"
  },
  "language_info": {
   "codemirror_mode": {
    "name": "ipython",
    "version": 3
   },
   "file_extension": ".py",
   "mimetype": "text/x-python",
   "name": "python",
   "nbconvert_exporter": "python",
   "pygments_lexer": "ipython3",
   "version": "3.8.12"
  }
 },
 "nbformat": 4,
 "nbformat_minor": 5
}
