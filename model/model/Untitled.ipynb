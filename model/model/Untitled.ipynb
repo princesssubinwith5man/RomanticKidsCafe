{
 "cells": [
  {
   "cell_type": "code",
   "execution_count": 2,
   "id": "cbbc531d-5414-4001-b915-56b823830739",
   "metadata": {},
   "outputs": [
    {
     "name": "stdout",
     "output_type": "stream",
     "text": [
      "OpenPifPaf version 0.13.4\n",
      "PyTorch version 1.11.0\n"
     ]
    }
   ],
   "source": [
    "import io\n",
    "import numpy as np\n",
    "import PIL\n",
    "import requests\n",
    "import openpifpaf\n",
    "import torch\n",
    "import cv2\n",
    "import json\n",
    "import time\n",
    "from PIL import Image\n",
    "from pymongo import MongoClient\n",
    "\n",
    "print('OpenPifPaf version', openpifpaf.__version__)\n",
    "print('PyTorch version', torch.__version__)"
   ]
  },
  {
   "cell_type": "code",
   "execution_count": 3,
   "id": "db719d81-5f0b-4283-b33c-8a4c24f0a33f",
   "metadata": {},
   "outputs": [
    {
     "name": "stdout",
     "output_type": "stream",
     "text": [
      "<PIL.Image.Image image mode=RGB size=640x427 at 0x7FD3E407F040>\n",
      "<PIL.Image.Image image mode=RGB size=640x427 at 0x7FD3E407F040>\n"
     ]
    }
   ],
   "source": [
    "image_response = requests.get('https://raw.githubusercontent.com/openpifpaf/openpifpaf/main/docs/coco/000000081988.jpg')\n",
    "pil_im = PIL.Image.open(io.BytesIO(image_response.content)).convert('RGB')\n",
    "print(pil_im)\n",
    "im = np.asarray(pil_im)\n",
    "print(pil_im)\n",
    "\n",
    "with openpifpaf.show.image_canvas(im) as ax:\n",
    "    pass"
   ]
  },
  {
   "cell_type": "code",
   "execution_count": 4,
   "id": "ddeccc61-73d2-4a87-b050-a63342da74de",
   "metadata": {},
   "outputs": [],
   "source": [
    "predictor = openpifpaf.Predictor(checkpoint='shufflenetv2k16')\n",
    "predictions, gt_anns, image_meta = predictor.pil_image(pil_im)"
   ]
  },
  {
   "cell_type": "code",
   "execution_count": 5,
   "id": "5d078fdd-5d93-4abb-ad5e-58c39a653974",
   "metadata": {},
   "outputs": [],
   "source": [
    "annotation_painter = openpifpaf.show.AnnotationPainter()\n",
    "with openpifpaf.show.image_canvas(im) as ax:\n",
    "    annotation_painter.annotations(ax, predictions)"
   ]
  },
  {
   "cell_type": "code",
   "execution_count": 6,
   "id": "221f3369-fb78-42db-ba1d-222f5f3a5ce6",
   "metadata": {},
   "outputs": [
    {
     "name": "stdout",
     "output_type": "stream",
     "text": [
      "src/openpifpaf/csrc/src/cif_hr.cpp:102: UserInfo: resizing cifhr buffer\n",
      "src/openpifpaf/csrc/src/occupancy.cpp:53: UserInfo: resizing occupancy buffer\n"
     ]
    },
    {
     "data": {
      "text/plain": [
       "<openpifpaf.annotation.Annotation at 0x7fd3e3ee4b20>"
      ]
     },
     "execution_count": 6,
     "metadata": {},
     "output_type": "execute_result"
    }
   ],
   "source": [
    "predictions[0]"
   ]
  },
  {
   "cell_type": "code",
   "execution_count": 7,
   "id": "a72b444a-8bc8-43bb-81d6-299b3a921e16",
   "metadata": {},
   "outputs": [
    {
     "data": {
      "text/plain": [
       "array([[ 3.6017807e+02,  2.9964923e+02,  9.9882036e-01],\n",
       "       [ 3.6403445e+02,  2.9479434e+02,  9.5610690e-01],\n",
       "       [ 3.5507327e+02,  2.9503882e+02,  9.7656912e-01],\n",
       "       [ 3.6957373e+02,  2.9712720e+02,  8.2809377e-01],\n",
       "       [ 3.4776581e+02,  2.9803564e+02,  9.4154650e-01],\n",
       "       [ 3.8178824e+02,  3.1739838e+02,  9.3544292e-01],\n",
       "       [ 3.4123199e+02,  3.2180969e+02,  9.5377135e-01],\n",
       "       [ 3.8761176e+02,  3.4162183e+02,  6.1720490e-01],\n",
       "       [ 3.3507950e+02,  3.5091245e+02,  9.6102774e-01],\n",
       "       [ 3.7334363e+02,  3.5688348e+02,  4.3549511e-01],\n",
       "       [ 3.3581781e+02,  3.6386737e+02,  8.9594966e-01],\n",
       "       [ 3.7379706e+02,  3.6282889e+02,  8.5834831e-01],\n",
       "       [ 3.5046017e+02,  3.6485599e+02,  9.5850146e-01],\n",
       "       [ 3.8885910e+02,  3.6172214e+02,  6.5839320e-01],\n",
       "       [ 3.2807773e+02,  3.7469623e+02,  6.8844420e-01],\n",
       "       [ 3.3847122e+02,  3.8158102e+02,  3.4103760e-01],\n",
       "       [ 0.0000000e+00, -3.0000000e+00,  0.0000000e+00]], dtype=float32)"
      ]
     },
     "execution_count": 7,
     "metadata": {},
     "output_type": "execute_result"
    }
   ],
   "source": [
    "predictions[0].data"
   ]
  },
  {
   "cell_type": "code",
   "execution_count": 8,
   "id": "e1eb3a5b-e3ca-4598-82e1-da649e8f19b6",
   "metadata": {},
   "outputs": [
    {
     "name": "stdout",
     "output_type": "stream",
     "text": [
      "5\n",
      "['__class__', '__delattr__', '__dict__', '__dir__', '__doc__', '__eq__', '__format__', '__ge__', '__getattribute__', '__gt__', '__hash__', '__init__', '__init_subclass__', '__le__', '__lt__', '__module__', '__ne__', '__new__', '__reduce__', '__reduce_ex__', '__repr__', '__setattr__', '__sizeof__', '__slotnames__', '__str__', '__subclasshook__', '__weakref__', 'add', 'bbox', 'bbox_from_keypoints', 'categories', 'category', 'category_id', 'data', 'decoding_order', 'fixed_bbox', 'fixed_score', 'from_cif_meta', 'frontier_order', 'inverse_transform', 'joint_scales', 'json_data', 'keypoints', 'rescale', 'scale', 'score', 'score_weights', 'set', 'sigmas', 'skeleton', 'skeleton_m1', 'suppress_score_index']\n"
     ]
    }
   ],
   "source": [
    "print(len(predictions))\n",
    "print(dir(predictions[0]))"
   ]
  },
  {
   "cell_type": "code",
   "execution_count": 9,
   "id": "651bd454-23ad-495d-83fe-ec1b1339eb56",
   "metadata": {},
   "outputs": [
    {
     "name": "stdout",
     "output_type": "stream",
     "text": [
      "0.820764676384304\n",
      "0.8185250992360322\n",
      "0.7882213203803352\n",
      "0.6126753506453141\n",
      "0.6138697357281394\n"
     ]
    }
   ],
   "source": [
    "for i in predictions:\n",
    "    print(i.score)"
   ]
  },
  {
   "cell_type": "code",
   "execution_count": 10,
   "id": "84ba8eee-2743-4f39-8592-b7875e80622d",
   "metadata": {},
   "outputs": [],
   "source": [
    "url = \"http://114.70.235.37:5030/stream?src=0\"\n",
    "cap = cv2.VideoCapture(url)\n",
    "prev = 0\n",
    "FPS = 10"
   ]
  },
  {
   "cell_type": "code",
   "execution_count": 12,
   "id": "1358f0dd-d066-4fec-86c3-38101aa99147",
   "metadata": {},
   "outputs": [
    {
     "name": "stdout",
     "output_type": "stream",
     "text": [
      "['admin', 'config', 'local']\n"
     ]
    }
   ],
   "source": [
    "client = MongoClient(host='114.70.235.37', port=27017)\n",
    "print(client.list_database_names())"
   ]
  },
  {
   "cell_type": "code",
   "execution_count": 13,
   "id": "11686f32-e452-461f-914c-95ad77673c70",
   "metadata": {},
   "outputs": [],
   "source": [
    "db = client['mydb']"
   ]
  },
  {
   "cell_type": "code",
   "execution_count": 25,
   "id": "440e2f4d-a86c-4364-8602-5d0cd5211933",
   "metadata": {},
   "outputs": [
    {
     "name": "stdout",
     "output_type": "stream",
     "text": [
      "<class 'numpy.ndarray'>\n",
      "0.64604133\n",
      "<class 'numpy.ndarray'>\n",
      "0.64604133\n",
      "<class 'numpy.ndarray'>\n",
      "0.64604133\n",
      "<class 'numpy.ndarray'>\n",
      "0.64604133\n",
      "<class 'numpy.ndarray'>\n",
      "0.64604133\n",
      "<class 'numpy.ndarray'>\n",
      "0.64604133\n",
      "<class 'numpy.ndarray'>\n",
      "0.64604133\n",
      "<class 'numpy.ndarray'>\n",
      "0.64604133\n",
      "<class 'numpy.ndarray'>\n",
      "0.64604133\n",
      "<class 'numpy.ndarray'>\n",
      "0.64604133\n",
      "<class 'numpy.ndarray'>\n",
      "0.64604133\n",
      "<class 'numpy.ndarray'>\n",
      "0.64604133\n",
      "<class 'numpy.ndarray'>\n",
      "0.64604133\n",
      "<class 'numpy.ndarray'>\n",
      "0.64604133\n",
      "<class 'numpy.ndarray'>\n",
      "0.64604133\n",
      "<class 'numpy.ndarray'>\n",
      "0.64604133\n",
      "<class 'numpy.ndarray'>\n",
      "0.64604133\n",
      "<class 'numpy.ndarray'>\n",
      "0.64604133\n",
      "<class 'numpy.ndarray'>\n",
      "0.64604133\n",
      "<class 'numpy.ndarray'>\n",
      "0.64604133\n",
      "<class 'numpy.ndarray'>\n",
      "0.64604133\n",
      "<class 'numpy.ndarray'>\n",
      "0.64604133\n",
      "<class 'numpy.ndarray'>\n",
      "0.64604133\n",
      "<class 'numpy.ndarray'>\n",
      "0.64604133\n",
      "<class 'numpy.ndarray'>\n",
      "0.64604133\n",
      "<class 'numpy.ndarray'>\n",
      "0.64604133\n",
      "<class 'numpy.ndarray'>\n",
      "0.64604133\n",
      "<class 'numpy.ndarray'>\n",
      "0.64604133\n",
      "<class 'numpy.ndarray'>\n",
      "0.64604133\n",
      "<class 'numpy.ndarray'>\n",
      "0.64604133\n",
      "<class 'numpy.ndarray'>\n",
      "0.64604133\n",
      "<class 'numpy.ndarray'>\n",
      "0.64604133\n",
      "<class 'numpy.ndarray'>\n",
      "0.64604133\n",
      "<class 'numpy.ndarray'>\n",
      "0.64604133\n",
      "<class 'numpy.ndarray'>\n",
      "0.64604133\n",
      "<class 'numpy.ndarray'>\n",
      "0.64604133\n",
      "<class 'numpy.ndarray'>\n",
      "0.64604133\n",
      "<class 'numpy.ndarray'>\n",
      "0.64604133\n",
      "<class 'numpy.ndarray'>\n",
      "0.64604133\n",
      "<class 'numpy.ndarray'>\n",
      "0.64604133\n",
      "<class 'numpy.ndarray'>\n",
      "0.64604133\n",
      "<class 'numpy.ndarray'>\n",
      "0.64604133\n",
      "<class 'numpy.ndarray'>\n",
      "0.64604133\n",
      "<class 'numpy.ndarray'>\n",
      "0.64604133\n",
      "<class 'numpy.ndarray'>\n",
      "0.64604133\n",
      "<class 'numpy.ndarray'>\n",
      "0.64604133\n",
      "<class 'numpy.ndarray'>\n",
      "0.64604133\n",
      "<class 'numpy.ndarray'>\n",
      "0.64604133\n",
      "<class 'numpy.ndarray'>\n",
      "0.64604133\n",
      "<class 'numpy.ndarray'>\n",
      "0.64604133\n",
      "<class 'numpy.ndarray'>\n",
      "0.64604133\n",
      "<class 'numpy.ndarray'>\n",
      "0.64604133\n",
      "<class 'numpy.ndarray'>\n"
     ]
    },
    {
     "ename": "KeyboardInterrupt",
     "evalue": "",
     "output_type": "error",
     "traceback": [
      "\u001b[0;31m---------------------------------------------------------------------------\u001b[0m",
      "\u001b[0;31mKeyboardInterrupt\u001b[0m                         Traceback (most recent call last)",
      "Input \u001b[0;32mIn [25]\u001b[0m, in \u001b[0;36m<cell line: 1>\u001b[0;34m()\u001b[0m\n\u001b[1;32m      7\u001b[0m \u001b[38;5;28mprint\u001b[39m(\u001b[38;5;28mtype\u001b[39m(img))\n\u001b[1;32m      8\u001b[0m img \u001b[38;5;241m=\u001b[39m Image\u001b[38;5;241m.\u001b[39mfromarray(img)\n\u001b[0;32m---> 10\u001b[0m predictions, gt_anns, image_meta \u001b[38;5;241m=\u001b[39m \u001b[43mpredictor\u001b[49m\u001b[38;5;241;43m.\u001b[39;49m\u001b[43mpil_image\u001b[49m\u001b[43m(\u001b[49m\u001b[43mpil_im\u001b[49m\u001b[43m)\u001b[49m\n\u001b[1;32m     12\u001b[0m xy \u001b[38;5;241m=\u001b[39m predictions[\u001b[38;5;241m0\u001b[39m]\u001b[38;5;241m.\u001b[39mdata\n\u001b[1;32m     14\u001b[0m \u001b[38;5;28mprint\u001b[39m(xy[\u001b[38;5;241m13\u001b[39m][\u001b[38;5;241m2\u001b[39m])\n",
      "File \u001b[0;32m/tools/anaconda3/lib/python3.9/site-packages/openpifpaf/predictor.py:169\u001b[0m, in \u001b[0;36mPredictor.pil_image\u001b[0;34m(self, image)\u001b[0m\n\u001b[1;32m    167\u001b[0m \u001b[38;5;28;01mdef\u001b[39;00m \u001b[38;5;21mpil_image\u001b[39m(\u001b[38;5;28mself\u001b[39m, image):\n\u001b[1;32m    168\u001b[0m     \u001b[38;5;124;03m\"\"\"Predict from a Pillow image.\"\"\"\u001b[39;00m\n\u001b[0;32m--> 169\u001b[0m     \u001b[38;5;28;01mreturn\u001b[39;00m \u001b[38;5;28;43mnext\u001b[39;49m\u001b[43m(\u001b[49m\u001b[38;5;28;43miter\u001b[39;49m\u001b[43m(\u001b[49m\u001b[38;5;28;43mself\u001b[39;49m\u001b[38;5;241;43m.\u001b[39;49m\u001b[43mpil_images\u001b[49m\u001b[43m(\u001b[49m\u001b[43m[\u001b[49m\u001b[43mimage\u001b[49m\u001b[43m]\u001b[49m\u001b[43m)\u001b[49m\u001b[43m)\u001b[49m\u001b[43m)\u001b[49m\n",
      "File \u001b[0;32m/tools/anaconda3/lib/python3.9/site-packages/openpifpaf/predictor.py:175\u001b[0m, in \u001b[0;36mPredictor.pil_images\u001b[0;34m(self, pil_images, **kwargs)\u001b[0m\n\u001b[1;32m    172\u001b[0m \u001b[38;5;124;03m\"\"\"Predict from Pillow images.\"\"\"\u001b[39;00m\n\u001b[1;32m    173\u001b[0m data \u001b[38;5;241m=\u001b[39m datasets\u001b[38;5;241m.\u001b[39mPilImageList(\n\u001b[1;32m    174\u001b[0m     pil_images, preprocess\u001b[38;5;241m=\u001b[39m\u001b[38;5;28mself\u001b[39m\u001b[38;5;241m.\u001b[39mpreprocess, with_raw_image\u001b[38;5;241m=\u001b[39m\u001b[38;5;28;01mTrue\u001b[39;00m)\n\u001b[0;32m--> 175\u001b[0m \u001b[38;5;28;01myield from\u001b[39;00m \u001b[38;5;28mself\u001b[39m\u001b[38;5;241m.\u001b[39mdataset(data, \u001b[38;5;241m*\u001b[39m\u001b[38;5;241m*\u001b[39mkwargs)\n",
      "File \u001b[0;32m/tools/anaconda3/lib/python3.9/site-packages/openpifpaf/predictor.py:116\u001b[0m, in \u001b[0;36mPredictor.dataset\u001b[0;34m(self, data)\u001b[0m\n\u001b[1;32m    108\u001b[0m     loader_workers \u001b[38;5;241m=\u001b[39m \u001b[38;5;28mself\u001b[39m\u001b[38;5;241m.\u001b[39mbatch_size \u001b[38;5;28;01mif\u001b[39;00m \u001b[38;5;28mlen\u001b[39m(data) \u001b[38;5;241m>\u001b[39m \u001b[38;5;241m1\u001b[39m \u001b[38;5;28;01melse\u001b[39;00m \u001b[38;5;241m0\u001b[39m\n\u001b[1;32m    110\u001b[0m dataloader \u001b[38;5;241m=\u001b[39m torch\u001b[38;5;241m.\u001b[39mutils\u001b[38;5;241m.\u001b[39mdata\u001b[38;5;241m.\u001b[39mDataLoader(\n\u001b[1;32m    111\u001b[0m     data, batch_size\u001b[38;5;241m=\u001b[39m\u001b[38;5;28mself\u001b[39m\u001b[38;5;241m.\u001b[39mbatch_size, shuffle\u001b[38;5;241m=\u001b[39m\u001b[38;5;28;01mFalse\u001b[39;00m,\n\u001b[1;32m    112\u001b[0m     pin_memory\u001b[38;5;241m=\u001b[39m\u001b[38;5;28mself\u001b[39m\u001b[38;5;241m.\u001b[39mdevice\u001b[38;5;241m.\u001b[39mtype \u001b[38;5;241m!=\u001b[39m \u001b[38;5;124m'\u001b[39m\u001b[38;5;124mcpu\u001b[39m\u001b[38;5;124m'\u001b[39m,\n\u001b[1;32m    113\u001b[0m     num_workers\u001b[38;5;241m=\u001b[39mloader_workers,\n\u001b[1;32m    114\u001b[0m     collate_fn\u001b[38;5;241m=\u001b[39mdatasets\u001b[38;5;241m.\u001b[39mcollate_images_anns_meta)\n\u001b[0;32m--> 116\u001b[0m \u001b[38;5;28;01myield from\u001b[39;00m \u001b[38;5;28mself\u001b[39m\u001b[38;5;241m.\u001b[39mdataloader(dataloader)\n",
      "File \u001b[0;32m/tools/anaconda3/lib/python3.9/site-packages/openpifpaf/predictor.py:155\u001b[0m, in \u001b[0;36mPredictor.dataloader\u001b[0;34m(self, dataloader)\u001b[0m\n\u001b[1;32m    153\u001b[0m \u001b[38;5;28;01mdef\u001b[39;00m \u001b[38;5;21mdataloader\u001b[39m(\u001b[38;5;28mself\u001b[39m, dataloader):\n\u001b[1;32m    154\u001b[0m     \u001b[38;5;124;03m\"\"\"Predict from a dataloader.\"\"\"\u001b[39;00m\n\u001b[0;32m--> 155\u001b[0m     \u001b[38;5;28;01myield from\u001b[39;00m \u001b[38;5;28mself\u001b[39m\u001b[38;5;241m.\u001b[39menumerated_dataloader(\u001b[38;5;28menumerate\u001b[39m(dataloader))\n",
      "File \u001b[0;32m/tools/anaconda3/lib/python3.9/site-packages/openpifpaf/predictor.py:129\u001b[0m, in \u001b[0;36mPredictor.enumerated_dataloader\u001b[0;34m(self, enumerated_dataloader)\u001b[0m\n\u001b[1;32m    126\u001b[0m \u001b[38;5;28;01mif\u001b[39;00m \u001b[38;5;28mself\u001b[39m\u001b[38;5;241m.\u001b[39mvisualize_processed_image:\n\u001b[1;32m    127\u001b[0m     visualizer\u001b[38;5;241m.\u001b[39mBase\u001b[38;5;241m.\u001b[39mprocessed_image(processed_image_batch[\u001b[38;5;241m0\u001b[39m])\n\u001b[0;32m--> 129\u001b[0m pred_batch \u001b[38;5;241m=\u001b[39m \u001b[38;5;28;43mself\u001b[39;49m\u001b[38;5;241;43m.\u001b[39;49m\u001b[43mprocessor\u001b[49m\u001b[38;5;241;43m.\u001b[39;49m\u001b[43mbatch\u001b[49m\u001b[43m(\u001b[49m\u001b[38;5;28;43mself\u001b[39;49m\u001b[38;5;241;43m.\u001b[39;49m\u001b[43mmodel\u001b[49m\u001b[43m,\u001b[49m\u001b[43m \u001b[49m\u001b[43mprocessed_image_batch\u001b[49m\u001b[43m,\u001b[49m\u001b[43m \u001b[49m\u001b[43mdevice\u001b[49m\u001b[38;5;241;43m=\u001b[39;49m\u001b[38;5;28;43mself\u001b[39;49m\u001b[38;5;241;43m.\u001b[39;49m\u001b[43mdevice\u001b[49m\u001b[43m)\u001b[49m\n\u001b[1;32m    130\u001b[0m \u001b[38;5;28mself\u001b[39m\u001b[38;5;241m.\u001b[39mlast_decoder_time \u001b[38;5;241m=\u001b[39m \u001b[38;5;28mself\u001b[39m\u001b[38;5;241m.\u001b[39mprocessor\u001b[38;5;241m.\u001b[39mlast_decoder_time\n\u001b[1;32m    131\u001b[0m \u001b[38;5;28mself\u001b[39m\u001b[38;5;241m.\u001b[39mlast_nn_time \u001b[38;5;241m=\u001b[39m \u001b[38;5;28mself\u001b[39m\u001b[38;5;241m.\u001b[39mprocessor\u001b[38;5;241m.\u001b[39mlast_nn_time\n",
      "File \u001b[0;32m/tools/anaconda3/lib/python3.9/site-packages/openpifpaf/decoder/decoder.py:130\u001b[0m, in \u001b[0;36mDecoder.batch\u001b[0;34m(self, model, image_batch, device, gt_anns_batch)\u001b[0m\n\u001b[1;32m    128\u001b[0m LOG\u001b[38;5;241m.\u001b[39mdebug(\u001b[38;5;124m'\u001b[39m\u001b[38;5;124mparallel execution with worker \u001b[39m\u001b[38;5;132;01m%s\u001b[39;00m\u001b[38;5;124m'\u001b[39m, \u001b[38;5;28mself\u001b[39m\u001b[38;5;241m.\u001b[39mworker_pool)\n\u001b[1;32m    129\u001b[0m start_decoder \u001b[38;5;241m=\u001b[39m time\u001b[38;5;241m.\u001b[39mperf_counter()\n\u001b[0;32m--> 130\u001b[0m result \u001b[38;5;241m=\u001b[39m \u001b[38;5;28;43mself\u001b[39;49m\u001b[38;5;241;43m.\u001b[39;49m\u001b[43mworker_pool\u001b[49m\u001b[38;5;241;43m.\u001b[39;49m\u001b[43mstarmap\u001b[49m\u001b[43m(\u001b[49m\n\u001b[1;32m    131\u001b[0m \u001b[43m    \u001b[49m\u001b[38;5;28;43mself\u001b[39;49m\u001b[38;5;241;43m.\u001b[39;49m\u001b[43m_mappable_annotations\u001b[49m\u001b[43m,\u001b[49m\u001b[43m \u001b[49m\u001b[38;5;28;43mzip\u001b[39;49m\u001b[43m(\u001b[49m\u001b[43mfields_batch\u001b[49m\u001b[43m,\u001b[49m\u001b[43m \u001b[49m\u001b[43mimage_batch\u001b[49m\u001b[43m,\u001b[49m\u001b[43m \u001b[49m\u001b[43mgt_anns_batch\u001b[49m\u001b[43m)\u001b[49m\u001b[43m)\u001b[49m\n\u001b[1;32m    132\u001b[0m \u001b[38;5;28mself\u001b[39m\u001b[38;5;241m.\u001b[39mlast_decoder_time \u001b[38;5;241m=\u001b[39m time\u001b[38;5;241m.\u001b[39mperf_counter() \u001b[38;5;241m-\u001b[39m start_decoder\n\u001b[1;32m    134\u001b[0m LOG\u001b[38;5;241m.\u001b[39mdebug(\u001b[38;5;124m'\u001b[39m\u001b[38;5;124mtime: nn = \u001b[39m\u001b[38;5;132;01m%.1f\u001b[39;00m\u001b[38;5;124mms, dec = \u001b[39m\u001b[38;5;132;01m%.1f\u001b[39;00m\u001b[38;5;124mms\u001b[39m\u001b[38;5;124m'\u001b[39m,\n\u001b[1;32m    135\u001b[0m           \u001b[38;5;28mself\u001b[39m\u001b[38;5;241m.\u001b[39mlast_nn_time \u001b[38;5;241m*\u001b[39m \u001b[38;5;241m1000.0\u001b[39m,\n\u001b[1;32m    136\u001b[0m           \u001b[38;5;28mself\u001b[39m\u001b[38;5;241m.\u001b[39mlast_decoder_time \u001b[38;5;241m*\u001b[39m \u001b[38;5;241m1000.0\u001b[39m)\n",
      "File \u001b[0;32m/tools/anaconda3/lib/python3.9/site-packages/openpifpaf/decoder/decoder.py:18\u001b[0m, in \u001b[0;36mDummyPool.starmap\u001b[0;34m(f, iterable)\u001b[0m\n\u001b[1;32m     16\u001b[0m \u001b[38;5;129m@staticmethod\u001b[39m\n\u001b[1;32m     17\u001b[0m \u001b[38;5;28;01mdef\u001b[39;00m \u001b[38;5;21mstarmap\u001b[39m(f, iterable):\n\u001b[0;32m---> 18\u001b[0m     \u001b[38;5;28;01mreturn\u001b[39;00m [f(\u001b[38;5;241m*\u001b[39mi) \u001b[38;5;28;01mfor\u001b[39;00m i \u001b[38;5;129;01min\u001b[39;00m iterable]\n",
      "File \u001b[0;32m/tools/anaconda3/lib/python3.9/site-packages/openpifpaf/decoder/decoder.py:18\u001b[0m, in \u001b[0;36m<listcomp>\u001b[0;34m(.0)\u001b[0m\n\u001b[1;32m     16\u001b[0m \u001b[38;5;129m@staticmethod\u001b[39m\n\u001b[1;32m     17\u001b[0m \u001b[38;5;28;01mdef\u001b[39;00m \u001b[38;5;21mstarmap\u001b[39m(f, iterable):\n\u001b[0;32m---> 18\u001b[0m     \u001b[38;5;28;01mreturn\u001b[39;00m [\u001b[43mf\u001b[49m\u001b[43m(\u001b[49m\u001b[38;5;241;43m*\u001b[39;49m\u001b[43mi\u001b[49m\u001b[43m)\u001b[49m \u001b[38;5;28;01mfor\u001b[39;00m i \u001b[38;5;129;01min\u001b[39;00m iterable]\n",
      "File \u001b[0;32m/tools/anaconda3/lib/python3.9/site-packages/openpifpaf/decoder/decoder.py:145\u001b[0m, in \u001b[0;36mDecoder._mappable_annotations\u001b[0;34m(self, fields, debug_image, gt_anns)\u001b[0m\n\u001b[1;32m    142\u001b[0m \u001b[38;5;28;01mif\u001b[39;00m gt_anns \u001b[38;5;129;01mis\u001b[39;00m \u001b[38;5;129;01mnot\u001b[39;00m \u001b[38;5;28;01mNone\u001b[39;00m:\n\u001b[1;32m    143\u001b[0m     visualizer\u001b[38;5;241m.\u001b[39mBase\u001b[38;5;241m.\u001b[39mground_truth(gt_anns)\n\u001b[0;32m--> 145\u001b[0m \u001b[38;5;28;01mreturn\u001b[39;00m \u001b[38;5;28;43mself\u001b[39;49m\u001b[43m(\u001b[49m\u001b[43mfields\u001b[49m\u001b[43m)\u001b[49m\n",
      "File \u001b[0;32m/tools/anaconda3/lib/python3.9/site-packages/openpifpaf/decoder/multi.py:22\u001b[0m, in \u001b[0;36mMulti.__call__\u001b[0;34m(self, all_fields)\u001b[0m\n\u001b[1;32m     20\u001b[0m         \u001b[38;5;28;01mcontinue\u001b[39;00m\n\u001b[1;32m     21\u001b[0m     LOG\u001b[38;5;241m.\u001b[39mdebug(\u001b[38;5;124m'\u001b[39m\u001b[38;5;124mtask \u001b[39m\u001b[38;5;132;01m%d\u001b[39;00m\u001b[38;5;124m'\u001b[39m, task_i)\n\u001b[0;32m---> 22\u001b[0m     out \u001b[38;5;241m+\u001b[39m\u001b[38;5;241m=\u001b[39m \u001b[43mdecoder\u001b[49m\u001b[43m(\u001b[49m\u001b[43mall_fields\u001b[49m\u001b[43m)\u001b[49m\n\u001b[1;32m     24\u001b[0m \u001b[38;5;28;01mreturn\u001b[39;00m out\n",
      "File \u001b[0;32m/tools/anaconda3/lib/python3.9/site-packages/openpifpaf/decoder/cifcaf.py:247\u001b[0m, in \u001b[0;36mCifCaf.__call__\u001b[0;34m(self, fields, initial_annotations)\u001b[0m\n\u001b[1;32m    244\u001b[0m     vis\u001b[38;5;241m.\u001b[39mpredicted(fields[meta\u001b[38;5;241m.\u001b[39mhead_index])\n\u001b[1;32m    246\u001b[0m start \u001b[38;5;241m=\u001b[39m time\u001b[38;5;241m.\u001b[39mperf_counter()\n\u001b[0;32m--> 247\u001b[0m annotations, annotation_ids \u001b[38;5;241m=\u001b[39m \u001b[38;5;28;43mself\u001b[39;49m\u001b[38;5;241;43m.\u001b[39;49m\u001b[43mcpp_decoder\u001b[49m\u001b[38;5;241;43m.\u001b[39;49m\u001b[43mcall_with_initial_annotations\u001b[49m\u001b[43m(\u001b[49m\n\u001b[1;32m    248\u001b[0m \u001b[43m    \u001b[49m\u001b[43mfields\u001b[49m\u001b[43m[\u001b[49m\u001b[38;5;28;43mself\u001b[39;49m\u001b[38;5;241;43m.\u001b[39;49m\u001b[43mcif_metas\u001b[49m\u001b[43m[\u001b[49m\u001b[38;5;241;43m0\u001b[39;49m\u001b[43m]\u001b[49m\u001b[38;5;241;43m.\u001b[39;49m\u001b[43mhead_index\u001b[49m\u001b[43m]\u001b[49m\u001b[43m,\u001b[49m\n\u001b[1;32m    249\u001b[0m \u001b[43m    \u001b[49m\u001b[38;5;28;43mself\u001b[39;49m\u001b[38;5;241;43m.\u001b[39;49m\u001b[43mcif_metas\u001b[49m\u001b[43m[\u001b[49m\u001b[38;5;241;43m0\u001b[39;49m\u001b[43m]\u001b[49m\u001b[38;5;241;43m.\u001b[39;49m\u001b[43mstride\u001b[49m\u001b[43m,\u001b[49m\n\u001b[1;32m    250\u001b[0m \u001b[43m    \u001b[49m\u001b[43mfields\u001b[49m\u001b[43m[\u001b[49m\u001b[38;5;28;43mself\u001b[39;49m\u001b[38;5;241;43m.\u001b[39;49m\u001b[43mcaf_metas\u001b[49m\u001b[43m[\u001b[49m\u001b[38;5;241;43m0\u001b[39;49m\u001b[43m]\u001b[49m\u001b[38;5;241;43m.\u001b[39;49m\u001b[43mhead_index\u001b[49m\u001b[43m]\u001b[49m\u001b[43m,\u001b[49m\n\u001b[1;32m    251\u001b[0m \u001b[43m    \u001b[49m\u001b[38;5;28;43mself\u001b[39;49m\u001b[38;5;241;43m.\u001b[39;49m\u001b[43mcaf_metas\u001b[49m\u001b[43m[\u001b[49m\u001b[38;5;241;43m0\u001b[39;49m\u001b[43m]\u001b[49m\u001b[38;5;241;43m.\u001b[39;49m\u001b[43mstride\u001b[49m\u001b[43m,\u001b[49m\n\u001b[1;32m    252\u001b[0m \u001b[43m    \u001b[49m\u001b[43minitial_annotations_t\u001b[49m\u001b[43m,\u001b[49m\n\u001b[1;32m    253\u001b[0m \u001b[43m    \u001b[49m\u001b[43minitial_ids_t\u001b[49m\u001b[43m,\u001b[49m\n\u001b[1;32m    254\u001b[0m \u001b[43m\u001b[49m\u001b[43m)\u001b[49m\n\u001b[1;32m    255\u001b[0m LOG\u001b[38;5;241m.\u001b[39mdebug(\u001b[38;5;124m'\u001b[39m\u001b[38;5;124mcpp annotations = \u001b[39m\u001b[38;5;132;01m%d\u001b[39;00m\u001b[38;5;124m (\u001b[39m\u001b[38;5;132;01m%.1f\u001b[39;00m\u001b[38;5;124mms)\u001b[39m\u001b[38;5;124m'\u001b[39m,\n\u001b[1;32m    256\u001b[0m           \u001b[38;5;28mlen\u001b[39m(annotations),\n\u001b[1;32m    257\u001b[0m           (time\u001b[38;5;241m.\u001b[39mperf_counter() \u001b[38;5;241m-\u001b[39m start) \u001b[38;5;241m*\u001b[39m \u001b[38;5;241m1000.0\u001b[39m)\n\u001b[1;32m    258\u001b[0m \u001b[38;5;28;01mfor\u001b[39;00m vis \u001b[38;5;129;01min\u001b[39;00m \u001b[38;5;28mself\u001b[39m\u001b[38;5;241m.\u001b[39mcifhr_visualizers:\n",
      "\u001b[0;31mKeyboardInterrupt\u001b[0m: "
     ]
    }
   ],
   "source": [
    "if cap.isOpened(): \n",
    "    ret, img = cap.read()\n",
    "    cur = time.time() - prev\n",
    "    prepre = None\n",
    "    while ret:\n",
    "        #img = cv2.cvtColor(img, cv2.COLOR_BGR2RGB)\n",
    "        print(type(img))\n",
    "        img = Image.fromarray(img)\n",
    "        \n",
    "        predictions, gt_anns, image_meta = predictor.pil_image(pil_im)\n",
    "        \n",
    "        xy = predictions[0].data\n",
    "        \n",
    "        neck = [((xy[5][0]+xy[6][0])/2 + xy[0][0]) / 2, ((xy[5][1]+xy[6][1])/2 + xy[0][1]) / 2]\n",
    "        heap = [(xy[11][0]+xy[12][0])/2, (xy[11][1]+xy[12][1])/2]\n",
    "            \n",
    "        \n",
    "        \n",
    "        \n",
    "        ret, img = cap.read()\n",
    "        cur = time.time() - prev\n",
    "        "
   ]
  },
  {
   "cell_type": "code",
   "execution_count": 3,
   "id": "2f169c5e-63d6-4620-8d6b-686e67092946",
   "metadata": {},
   "outputs": [
    {
     "name": "stdout",
     "output_type": "stream",
     "text": [
      "/bin/bash: conda: command not found\n"
     ]
    }
   ],
   "source": []
  },
  {
   "cell_type": "code",
   "execution_count": null,
   "id": "412d004a-60db-482e-84c3-4fd410137891",
   "metadata": {},
   "outputs": [],
   "source": []
  }
 ],
 "metadata": {
  "kernelspec": {
   "display_name": "project",
   "language": "python",
   "name": "project"
  },
  "language_info": {
   "codemirror_mode": {
    "name": "ipython",
    "version": 3
   },
   "file_extension": ".py",
   "mimetype": "text/x-python",
   "name": "python",
   "nbconvert_exporter": "python",
   "pygments_lexer": "ipython3",
   "version": "3.8.12"
  }
 },
 "nbformat": 4,
 "nbformat_minor": 5
}
