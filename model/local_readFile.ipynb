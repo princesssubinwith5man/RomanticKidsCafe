{
 "cells": [
  {
   "cell_type": "code",
   "execution_count": 1,
   "metadata": {
    "tags": []
   },
   "outputs": [],
   "source": [
    "import os\n",
    "import json\n",
    "from tqdm import trange\n",
    "import numpy as np\n",
    "\n",
    "from tqdm import tqdm\n",
    "import os\n",
    "\n",
    "os.environ['CUDA_LAUNCH_BLOCKING'] = \"1\"\n",
    "os.environ[\"CUDA_VISIBLE_DEVICES\"] = \"0\""
   ]
  },
  {
   "cell_type": "code",
   "execution_count": 2,
   "metadata": {
    "collapsed": false,
    "jupyter": {
     "outputs_hidden": false
    },
    "pycharm": {
     "name": "#%%\n"
    }
   },
   "outputs": [],
   "source": [
    "path_dir = 'D:/사람동작 영상/annotation/2D'\n",
    "file_list1 = os.listdir(path_dir)"
   ]
  },
  {
   "cell_type": "code",
   "execution_count": null,
   "metadata": {
    "collapsed": false,
    "jupyter": {
     "outputs_hidden": false
    },
    "pycharm": {
     "name": "#%%\n"
    }
   },
   "outputs": [
    {
     "name": "stderr",
     "output_type": "stream",
     "text": [
      " 59%|█████▉    | 206/348 [05:03<02:33,  1.08s/it]"
     ]
    }
   ],
   "source": [
    "false_data = list()\n",
    "true_data = list()\n",
    "\n",
    "true_name = list()\n",
    "\n",
    "for file_name1 in tqdm(file_list1):\n",
    "    #print(file_name1)\n",
    "    file_path = path_dir + '/' + file_name1\n",
    "\n",
    "    file_list2 = os.listdir(file_path)\n",
    "\n",
    "    if file_name1[0] == '6': # 쓰러짐 영상\n",
    "        for file_name2 in file_list2:\n",
    "            read_file_path = file_path + '/' + file_name2\n",
    "            true_name.append(file_name2)\n",
    "\n",
    "            with open(read_file_path, 'r') as f:\n",
    "                json_data = json.load(f)\n",
    "                #print(json_data.keys())\n",
    "                tmpList = list()\n",
    "\n",
    "                for data in json_data['annotations']:\n",
    "                    tmpList.append(data['keypoints'])\n",
    "\n",
    "                true_data.append(tmpList)\n",
    "\n",
    "    else: # 기타 영상\n",
    "        for file_name2 in file_list2:\n",
    "            read_file_path = file_path + '/' + file_name2\n",
    "\n",
    "\n",
    "            with open(read_file_path, 'r') as f:\n",
    "                json_data = json.load(f)\n",
    "                #print(json_data.keys())\n",
    "                tmpList = list()\n",
    "                for data in json_data['annotations']:\n",
    "                    tmpList.append(data['keypoints'])\n",
    "\n",
    "                false_data.append(tmpList)"
   ]
  },
  {
   "cell_type": "code",
   "execution_count": 7,
   "metadata": {},
   "outputs": [
    {
     "name": "stdout",
     "output_type": "stream",
     "text": [
      "21.000522056904202\n"
     ]
    }
   ],
   "source": [
    "num_list = list()\n",
    "for data in true_data:\n",
    "    num_list.append(len(data))\n",
    "\n",
    "print(np.mean(num_list))"
   ]
  },
  {
   "cell_type": "code",
   "execution_count": 13,
   "metadata": {},
   "outputs": [],
   "source": [
    "for index, data in enumerate(true_data):\n",
    "    if len(data) < 30:\n",
    "        tmp_list = [[0 for w in range(48)] for h in range(30-len(data))]\n",
    "        data += tmp_list\n",
    "        true_data[index]=data\n",
    "    else:\n",
    "        true_data[index] = data[:30]"
   ]
  },
  {
   "cell_type": "code",
   "execution_count": 14,
   "metadata": {},
   "outputs": [],
   "source": [
    "for index, data in enumerate(false_data):\n",
    "    if len(data) < 30:\n",
    "        tmp_list = [[0 for w in range(48)] for h in range(30-len(data))]\n",
    "        data += tmp_list\n",
    "        false_data[index]=data\n",
    "    else:\n",
    "        false_data[index] = data[:30]"
   ]
  },
  {
   "cell_type": "code",
   "execution_count": 15,
   "metadata": {
    "collapsed": false,
    "jupyter": {
     "outputs_hidden": false
    },
    "pycharm": {
     "name": "#%%\n"
    }
   },
   "outputs": [],
   "source": [
    "true_np = np.array(true_data, dtype=np.float32)\n",
    "false_np = np.array(false_data, dtype=np.float32)"
   ]
  },
  {
   "cell_type": "code",
   "execution_count": 16,
   "metadata": {
    "collapsed": false,
    "jupyter": {
     "outputs_hidden": false
    },
    "pycharm": {
     "name": "#%%\n"
    }
   },
   "outputs": [
    {
     "name": "stdout",
     "output_type": "stream",
     "text": [
      "(198335, 30, 48)\n",
      "(3831, 30, 48)\n"
     ]
    }
   ],
   "source": [
    "print(false_np.shape)\n",
    "print(true_np.shape)"
   ]
  },
  {
   "cell_type": "code",
   "execution_count": 17,
   "metadata": {},
   "outputs": [],
   "source": [
    "index = [(3*i)-1 for i in range(1, 17)]"
   ]
  },
  {
   "cell_type": "code",
   "execution_count": 18,
   "metadata": {},
   "outputs": [],
   "source": [
    "false_np = np.delete(false_np, index, 2)\n",
    "true_np = np.delete(true_np, index, 2)"
   ]
  },
  {
   "cell_type": "code",
   "execution_count": 19,
   "metadata": {
    "collapsed": false,
    "jupyter": {
     "outputs_hidden": false
    },
    "pycharm": {
     "name": "#%%\n"
    }
   },
   "outputs": [],
   "source": [
    "import torch"
   ]
  },
  {
   "cell_type": "code",
   "execution_count": 22,
   "metadata": {},
   "outputs": [],
   "source": [
    "true_np = np.repeat(true_np, 30, axis=0)"
   ]
  },
  {
   "cell_type": "code",
   "execution_count": 23,
   "metadata": {},
   "outputs": [
    {
     "name": "stdout",
     "output_type": "stream",
     "text": [
      "(114930, 30, 32)\n"
     ]
    }
   ],
   "source": [
    "print(true_np.shape)"
   ]
  },
  {
   "cell_type": "code",
   "execution_count": 26,
   "metadata": {},
   "outputs": [],
   "source": [
    "y_true = np.array([1 for w in range(len(true_np))])\n",
    "y_false = np.array([0 for w in range(len(false_np))])"
   ]
  },
  {
   "cell_type": "code",
   "execution_count": 27,
   "metadata": {},
   "outputs": [],
   "source": [
    "data_x = np.concatenate((false_np, true_np), axis=0)\n",
    "data_y = np.concatenate((y_false, y_true), axis=0)"
   ]
  },
  {
   "cell_type": "code",
   "execution_count": 28,
   "metadata": {},
   "outputs": [
    {
     "name": "stdout",
     "output_type": "stream",
     "text": [
      "(313265, 30, 32)\n",
      "(313265,)\n"
     ]
    }
   ],
   "source": [
    "print(data_x.shape)\n",
    "print(data_y.shape)"
   ]
  },
  {
   "cell_type": "code",
   "execution_count": 29,
   "metadata": {},
   "outputs": [],
   "source": [
    "import torch\n",
    "from torch.utils.data import TensorDataset, DataLoader"
   ]
  },
  {
   "cell_type": "code",
   "execution_count": 30,
   "metadata": {},
   "outputs": [],
   "source": [
    "idx = np.arange(data_x.shape[0])"
   ]
  },
  {
   "cell_type": "code",
   "execution_count": 31,
   "metadata": {},
   "outputs": [
    {
     "name": "stdout",
     "output_type": "stream",
     "text": [
      "[     0      1      2 ... 313262 313263 313264]\n"
     ]
    }
   ],
   "source": [
    "print(idx)"
   ]
  },
  {
   "cell_type": "code",
   "execution_count": 32,
   "metadata": {},
   "outputs": [],
   "source": [
    "np.random.shuffle(idx)"
   ]
  },
  {
   "cell_type": "code",
   "execution_count": 33,
   "metadata": {},
   "outputs": [
    {
     "name": "stdout",
     "output_type": "stream",
     "text": [
      "[255851 138507 285039 ... 106103 106052  73519]\n"
     ]
    }
   ],
   "source": [
    "print(idx)"
   ]
  },
  {
   "cell_type": "code",
   "execution_count": 34,
   "metadata": {},
   "outputs": [],
   "source": [
    "data_x = data_x[idx]\n",
    "data_y = data_y[idx]"
   ]
  },
  {
   "cell_type": "code",
   "execution_count": 72,
   "metadata": {},
   "outputs": [],
   "source": [
    "split_frac = 0.8\n",
    "\n",
    "## split data into training, validation, and test data (features and labels, x and y)\n",
    "split_idx = int(len(data_x)*0.8)\n",
    "train_x, remaining_x = data_x[:split_idx], data_x[split_idx:]\n",
    "train_y, remaining_y = data_y[:split_idx], data_y[split_idx:]\n",
    "\n",
    "test_idx = int(len(remaining_x)*0.5)\n",
    "val_x, test_x = remaining_x[:test_idx], remaining_x[test_idx:]\n",
    "val_y, test_y = remaining_y[:test_idx], remaining_y[test_idx:]"
   ]
  },
  {
   "cell_type": "code",
   "execution_count": 78,
   "metadata": {},
   "outputs": [],
   "source": [
    "train_data = TensorDataset(torch.from_numpy(train_x), torch.from_numpy(train_y))\n",
    "valid_data = TensorDataset(torch.from_numpy(val_x), torch.from_numpy(val_y))\n",
    "test_data = TensorDataset(torch.from_numpy(test_x), torch.from_numpy(test_y))"
   ]
  },
  {
   "cell_type": "code",
   "execution_count": 80,
   "metadata": {},
   "outputs": [],
   "source": [
    "torch.save(train_data, 'train_mul.pt')\n",
    "torch.save(test_data, 'test_mul.pt')\n",
    "torch.save(valid_data, 'valid_mul.pt')"
   ]
  },
  {
   "cell_type": "code",
   "execution_count": 83,
   "metadata": {},
   "outputs": [
    {
     "data": {
      "text/plain": [
       "30"
      ]
     },
     "execution_count": 83,
     "metadata": {},
     "output_type": "execute_result"
    }
   ],
   "source": [
    "len(true_data[0])"
   ]
  },
  {
   "cell_type": "code",
   "execution_count": 82,
   "metadata": {},
   "outputs": [
    {
     "data": {
      "text/plain": [
       "198335"
      ]
     },
     "execution_count": 82,
     "metadata": {},
     "output_type": "execute_result"
    }
   ],
   "source": [
    "len(false_data)"
   ]
  },
  {
   "cell_type": "code",
   "execution_count": null,
   "metadata": {},
   "outputs": [],
   "source": [
    "print(true_name)"
   ]
  },
  {
   "cell_type": "code",
   "execution_count": 44,
   "metadata": {},
   "outputs": [
    {
     "name": "stdout",
     "output_type": "stream",
     "text": [
      "(313265, 30, 32)\n",
      "(313265, 30, 32)\n",
      "(313265, 30, 32)\n",
      "(313265, 30, 32)\n",
      "(313265, 30, 32)\n",
      "(313265, 30, 32)\n",
      "(313265, 30, 32)\n",
      "(313265, 30, 32)\n"
     ]
    },
    {
     "ename": "KeyboardInterrupt",
     "evalue": "",
     "output_type": "error",
     "traceback": [
      "\u001b[1;31m---------------------------------------------------------------------------\u001b[0m",
      "\u001b[1;31mKeyboardInterrupt\u001b[0m                         Traceback (most recent call last)",
      "Input \u001b[1;32mIn [44]\u001b[0m, in \u001b[0;36m<cell line: 1>\u001b[1;34m()\u001b[0m\n\u001b[0;32m      2\u001b[0m np_arr \u001b[38;5;241m=\u001b[39m np\u001b[38;5;241m.\u001b[39marray(arr, dtype\u001b[38;5;241m=\u001b[39mnp\u001b[38;5;241m.\u001b[39mfloat32)\n\u001b[0;32m      4\u001b[0m np_arr \u001b[38;5;241m=\u001b[39m np\u001b[38;5;241m.\u001b[39mdelete(np_arr, index, \u001b[38;5;241m1\u001b[39m)\n\u001b[1;32m----> 6\u001b[0m \u001b[38;5;28mprint\u001b[39m((\u001b[43mdata_x\u001b[49m\u001b[43m \u001b[49m\u001b[38;5;241;43m==\u001b[39;49m\u001b[43m \u001b[49m\u001b[43mnp_arr\u001b[49m)\u001b[38;5;241m.\u001b[39mshape)\n",
      "\u001b[1;31mKeyboardInterrupt\u001b[0m: "
     ]
    }
   ],
   "source": [
    "for arr in true_data:\n",
    "    np_arr = np.array(arr, dtype=np.float32)\n",
    "    \n",
    "    np_arr = np.delete(np_arr, index, 1)\n",
    "    \n",
    "    print((data_x == np_arr).shape)"
   ]
  },
  {
   "cell_type": "code",
   "execution_count": 66,
   "metadata": {},
   "outputs": [],
   "source": [
    "np_list = [[0 for i in range(20)] for j in range (30)]"
   ]
  },
  {
   "cell_type": "code",
   "execution_count": 95,
   "metadata": {},
   "outputs": [
    {
     "name": "stdout",
     "output_type": "stream",
     "text": [
      "[[ 0  0  0  0  0  0  0  0  0  0  0  0  0  0  0  0  0  0 -1  0]\n",
      " [ 0  0  0  0  0  0  0  0  0  0  0  0  0  0  0  0  0  0  0 -1]\n",
      " [ 0  0  0  0  0  0  0  0  0  0  0  0  0  0 -1  0  0  0  1  0]\n",
      " [ 0  0  0  0  0  0  0  0  0  0  0  0  0  0  0 -1  0  0  0  1]\n",
      " [ 0  0  0  0  0  0  0  0  0  0  0  0  0  0  0  0  0  0  0  0]\n",
      " [ 0  0  0  0  0  0  0  0  0  0  0  0  0  0  0  0  0  0  0  0]\n",
      " [ 0  0  0  0  0  0  0  0  0  0  0  0  0  0  0  0  0  0  0  0]\n",
      " [ 0  0  0  0  0  0  0  0  0  0  0  0  0  0  0  0  0  0  0  0]\n",
      " [ 0  0  0  0  0  0  0  0  0  0  0  0 -1  0  0  0  1  0  0  0]\n",
      " [ 0  0  0  0  0  0  0  0  0  0  0  0  0 -1  0  0  0  1  0  0]\n",
      " [ 0  0  0  0  0  0  0  0  0  0  0  0  0  0  0  0 -1  0  0  0]\n",
      " [ 0  0  0  0  0  0  0  0  0  0  0  0  0  0  0  0  0 -1  0  0]\n",
      " [ 0  0  0  0  0  0  0  0  0  0 -1  0  1  0  1  0  0  0  0  0]\n",
      " [ 0  0  0  0  0  0  0  0  0  0  0 -1  0  1  0  1  0  0  0  0]\n",
      " [ 0  0  0  0  0  0  0  0  0  0  0  0  0  0  0  0  0  0  0  0]\n",
      " [ 0  0  0  0  0  0  0  0  0  0  0  0  0  0  0  0  0  0  0  0]\n",
      " [-1  0  1  0  1  0  0  0  0  0  1  0  0  0  0  0  0  0  0  0]\n",
      " [ 0 -1  0  1  0  1  0  0  0  0  0  1  0  0  0  0  0  0  0  0]\n",
      " [ 1  0  0  0  0  0  0  0  0  0  0  0  0  0  0  0  0  0  0  0]\n",
      " [ 0  1  0  0  0  0  0  0  0  0  0  0  0  0  0  0  0  0  0  0]\n",
      " [ 0  0  0  0  0  0  0  0 -1  0  0  0  0  0  0  0  0  0  0  0]\n",
      " [ 0  0  0  0  0  0  0  0  0 -1  0  0  0  0  0  0  0  0  0  0]\n",
      " [ 0  0  0  0 -1  0  0  0  1  0  0  0  0  0  0  0  0  0  0  0]\n",
      " [ 0  0  0  0  0 -1  0  0  0  1  0  0  0  0  0  0  0  0  0  0]\n",
      " [ 0  0  0  0  0  0  0  0  0  0  0  0  0  0  0  0  0  0  0  0]\n",
      " [ 0  0  0  0  0  0  0  0  0  0  0  0  0  0  0  0  0  0  0  0]\n",
      " [ 0  0  0  0  0  0  0  0  0  0  0  0  0  0  0  0  0  0  0  0]\n",
      " [ 0  0  0  0  0  0  0  0  0  0  0  0  0  0  0  0  0  0  0  0]\n",
      " [ 0  0 -1  0  0  0  1  0  0  0  0  0  0  0  0  0  0  0  0  0]\n",
      " [ 0  0  0 -1  0  0  0  1  0  0  0  0  0  0  0  0  0  0  0  0]\n",
      " [ 0  0  0  0  0  0 -1  0  0  0  0  0  0  0  0  0  0  0  0  0]\n",
      " [ 0  0  0  0  0  0  0 -1  0  0  0  0  0  0  0  0  0  0  0  0]]\n"
     ]
    }
   ],
   "source": [
    "sub_mat = np.zeros((32, 20), dtype=int)\n",
    "index_a = [9, 8, 8, 14, 11, 8, 6, 6, 4, 1]\n",
    "index_b = [8, 14, 11, 15, 10, 6, 4, 1, 5, 0]\n",
    "\n",
    "for i, (a, b) in enumerate(zip(index_a, index_b)):\n",
    "    sub_mat[a*2, i*2] = 1\n",
    "    sub_mat[b*2, i*2] = -1\n",
    "\n",
    "    sub_mat[a*2+1, i*2 + 1] = 1\n",
    "    sub_mat[b*2+1, i*2 + 1] = -1\n",
    "\n",
    "\n",
    "print(sub_mat)"
   ]
  },
  {
   "cell_type": "code",
   "execution_count": 116,
   "metadata": {},
   "outputs": [
    {
     "name": "stderr",
     "output_type": "stream",
     "text": [
      "100%|██████████| 313265/313265 [00:02<00:00, 120336.34it/s]\n"
     ]
    }
   ],
   "source": [
    "num_list = list()\n",
    "\n",
    "for data in tqdm(data_x):\n",
    "    \n",
    "    np_arr = data@sub_mat\n",
    "    \n",
    "    #if(np.ptp(np_arr) != 0):\n",
    "    #    np_arr = (np_arr - np.min(np_arr))/np.ptp(np_arr)\n",
    "        \n",
    "    #print(np_arr.shape)\n",
    "    \n",
    "    num_list.append(np_arr)"
   ]
  },
  {
   "cell_type": "code",
   "execution_count": 117,
   "metadata": {},
   "outputs": [
    {
     "data": {
      "text/plain": [
       "(313265, 30, 20)"
      ]
     },
     "execution_count": 117,
     "metadata": {},
     "output_type": "execute_result"
    }
   ],
   "source": [
    "new_np = np.array(num_list, dtype=np.float32)\n",
    "new_np.shape"
   ]
  },
  {
   "cell_type": "code",
   "execution_count": 118,
   "metadata": {},
   "outputs": [],
   "source": [
    "split_frac = 0.8\n",
    "\n",
    "## split data into training, validation, and test data (features and labels, x and y)\n",
    "split_idx = int(len(data_x)*0.8)\n",
    "train_x, remaining_x = new_np[:split_idx], new_np[split_idx:]\n",
    "train_y, remaining_y = data_y[:split_idx], data_y[split_idx:]\n",
    "\n",
    "test_idx = int(len(remaining_x)*0.5)\n",
    "val_x, test_x = remaining_x[:test_idx], remaining_x[test_idx:]\n",
    "val_y, test_y = remaining_y[:test_idx], remaining_y[test_idx:]\n",
    "\n",
    "train_data = TensorDataset(torch.from_numpy(train_x), torch.from_numpy(train_y))\n",
    "valid_data = TensorDataset(torch.from_numpy(val_x), torch.from_numpy(val_y))\n",
    "test_data = TensorDataset(torch.from_numpy(test_x), torch.from_numpy(test_y))\n",
    "\n",
    "torch.save(train_data, 'train_v2.pt')\n",
    "torch.save(test_data, 'test_v2.pt')\n",
    "torch.save(valid_data, 'valid_v2.pt')"
   ]
  },
  {
   "cell_type": "code",
   "execution_count": 114,
   "metadata": {},
   "outputs": [
    {
     "name": "stdout",
     "output_type": "stream",
     "text": [
      "(250612, 30, 20)\n",
      "(250612,)\n"
     ]
    }
   ],
   "source": [
    "print(train_x.shape)\n",
    "print(train_y.shape)"
   ]
  },
  {
   "cell_type": "code",
   "execution_count": 115,
   "metadata": {},
   "outputs": [
    {
     "name": "stdout",
     "output_type": "stream",
     "text": [
      "[[0.6158192  0.36158192 1.         0.40112993 0.47740114 0.15536723\n",
      "  0.33050847 0.47457626 0.5423729  0.7627119  0.5706215  0.\n",
      "  0.48022598 0.45480227 0.69491524 0.2881356  0.5536723  0.37853107\n",
      "  0.84463274 0.31920904]\n",
      " [0.700565   0.41525424 0.87288135 0.36158192 0.7259887  0.22881356\n",
      "  0.46892655 0.4180791  0.519774   0.43502825 0.81920904 0.12146892\n",
      "  0.6129944  0.37288135 0.28248587 0.47740114 0.75706214 0.34463277\n",
      "  0.5423729  0.3983051 ]\n",
      " [0.759887   0.4915254  0.8163842  0.44915253 0.43502825 0.3022599\n",
      "  0.4463277  0.46327683 0.4858757  0.45762712 0.88135594 0.26836157\n",
      "  0.46892655 0.460452   0.25706214 0.5084746  0.7033898  0.4180791\n",
      "  0.75706214 0.40112993]\n",
      " [0.69774014 0.5423729  0.7824859  0.48022598 0.52259886 0.36723164\n",
      "  0.49717513 0.5141243  0.51129943 0.50282484 0.9463277  0.41525424\n",
      "  0.5254237  0.45762712 0.38418078 0.53672314 0.7627119  0.5508475\n",
      "  0.720339   0.4435028 ]\n",
      " [0.6779661  0.5875706  0.7655367  0.5        0.55649716 0.39265537\n",
      "  0.50282484 0.5084746  0.52259886 0.5536723  0.9491525  0.5423729\n",
      "  0.6751412  0.37288135 0.36723164 0.38135594 0.7881356  0.5621469\n",
      "  0.83898306 0.5338983 ]\n",
      " [0.68079096 0.58474576 0.7542373  0.5141243  0.5451977  0.3418079\n",
      "  0.47740114 0.5141243  0.5677966  0.63559324 0.91525424 0.51129943\n",
      "  0.81073445 0.37853107 0.66101694 0.2881356  0.7627119  0.5706215\n",
      "  0.8615819  0.5338983 ]\n",
      " [0.7259887  0.55932206 0.77683616 0.57344633 0.4858757  0.38418078\n",
      "  0.4378531  0.5536723  0.6158192  0.65254235 0.94350284 0.4463277\n",
      "  0.8418079  0.4858757  0.75141245 0.4124294  0.84745765 0.58474576\n",
      "  0.78531075 0.51129943]\n",
      " [0.69491524 0.59322035 0.8220339  0.5621469  0.5282486  0.4124294\n",
      "  0.45480227 0.5536723  0.58474576 0.65536726 0.9858757  0.47457626\n",
      "  0.8870056  0.5084746  0.75141245 0.4124294  0.8248588  0.56497175\n",
      "  0.78531075 0.51129943]\n",
      " [0.69491524 0.59322035 0.8220339  0.5621469  0.5282486  0.4124294\n",
      "  0.45480227 0.5536723  0.58474576 0.65536726 0.9858757  0.47457626\n",
      "  0.8870056  0.5084746  0.779661   0.40677965 0.8248588  0.56497175\n",
      "  0.86723167 0.5254237 ]\n",
      " [0.69491524 0.59322035 0.8220339  0.5621469  0.5282486  0.4124294\n",
      "  0.45480227 0.5536723  0.58474576 0.65536726 0.9858757  0.47457626\n",
      "  0.8870056  0.5084746  0.779661   0.40677965 0.8248588  0.56497175\n",
      "  0.86723167 0.5254237 ]\n",
      " [0.69491524 0.59322035 0.8220339  0.5621469  0.5282486  0.4124294\n",
      "  0.45480227 0.5536723  0.58474576 0.65536726 0.9858757  0.47457626\n",
      "  0.8870056  0.5084746  0.779661   0.40677965 0.8248588  0.56497175\n",
      "  0.86723167 0.5254237 ]\n",
      " [0.69491524 0.59322035 0.8220339  0.5621469  0.5282486  0.4124294\n",
      "  0.45480227 0.5536723  0.58474576 0.65536726 0.9858757  0.47457626\n",
      "  0.8870056  0.5084746  0.779661   0.40677965 0.8248588  0.56497175\n",
      "  0.86723167 0.5254237 ]\n",
      " [0.69491524 0.59322035 0.8220339  0.5621469  0.5282486  0.4124294\n",
      "  0.45480227 0.5536723  0.58474576 0.65536726 0.9858757  0.47457626\n",
      "  0.8870056  0.5084746  0.779661   0.40677965 0.8248588  0.56497175\n",
      "  0.86723167 0.5254237 ]\n",
      " [0.69491524 0.59322035 0.8220339  0.5621469  0.5282486  0.4124294\n",
      "  0.45480227 0.5536723  0.58474576 0.65536726 0.9858757  0.47457626\n",
      "  0.8870056  0.5084746  0.779661   0.40677965 0.8248588  0.56497175\n",
      "  0.86723167 0.5254237 ]\n",
      " [0.69491524 0.59322035 0.8220339  0.5621469  0.5282486  0.4124294\n",
      "  0.45480227 0.5536723  0.58474576 0.65536726 0.9858757  0.47457626\n",
      "  0.8870056  0.5084746  0.779661   0.40677965 0.8248588  0.56497175\n",
      "  0.86723167 0.5254237 ]\n",
      " [0.5875706  0.5875706  0.5875706  0.5875706  0.5875706  0.5875706\n",
      "  0.5875706  0.5875706  0.5875706  0.5875706  0.5875706  0.5875706\n",
      "  0.5875706  0.5875706  0.5875706  0.5875706  0.5875706  0.5875706\n",
      "  0.5875706  0.5875706 ]\n",
      " [0.5875706  0.5875706  0.5875706  0.5875706  0.5875706  0.5875706\n",
      "  0.5875706  0.5875706  0.5875706  0.5875706  0.5875706  0.5875706\n",
      "  0.5875706  0.5875706  0.5875706  0.5875706  0.5875706  0.5875706\n",
      "  0.5875706  0.5875706 ]\n",
      " [0.5875706  0.5875706  0.5875706  0.5875706  0.5875706  0.5875706\n",
      "  0.5875706  0.5875706  0.5875706  0.5875706  0.5875706  0.5875706\n",
      "  0.5875706  0.5875706  0.5875706  0.5875706  0.5875706  0.5875706\n",
      "  0.5875706  0.5875706 ]\n",
      " [0.5875706  0.5875706  0.5875706  0.5875706  0.5875706  0.5875706\n",
      "  0.5875706  0.5875706  0.5875706  0.5875706  0.5875706  0.5875706\n",
      "  0.5875706  0.5875706  0.5875706  0.5875706  0.5875706  0.5875706\n",
      "  0.5875706  0.5875706 ]\n",
      " [0.5875706  0.5875706  0.5875706  0.5875706  0.5875706  0.5875706\n",
      "  0.5875706  0.5875706  0.5875706  0.5875706  0.5875706  0.5875706\n",
      "  0.5875706  0.5875706  0.5875706  0.5875706  0.5875706  0.5875706\n",
      "  0.5875706  0.5875706 ]\n",
      " [0.5875706  0.5875706  0.5875706  0.5875706  0.5875706  0.5875706\n",
      "  0.5875706  0.5875706  0.5875706  0.5875706  0.5875706  0.5875706\n",
      "  0.5875706  0.5875706  0.5875706  0.5875706  0.5875706  0.5875706\n",
      "  0.5875706  0.5875706 ]\n",
      " [0.5875706  0.5875706  0.5875706  0.5875706  0.5875706  0.5875706\n",
      "  0.5875706  0.5875706  0.5875706  0.5875706  0.5875706  0.5875706\n",
      "  0.5875706  0.5875706  0.5875706  0.5875706  0.5875706  0.5875706\n",
      "  0.5875706  0.5875706 ]\n",
      " [0.5875706  0.5875706  0.5875706  0.5875706  0.5875706  0.5875706\n",
      "  0.5875706  0.5875706  0.5875706  0.5875706  0.5875706  0.5875706\n",
      "  0.5875706  0.5875706  0.5875706  0.5875706  0.5875706  0.5875706\n",
      "  0.5875706  0.5875706 ]\n",
      " [0.5875706  0.5875706  0.5875706  0.5875706  0.5875706  0.5875706\n",
      "  0.5875706  0.5875706  0.5875706  0.5875706  0.5875706  0.5875706\n",
      "  0.5875706  0.5875706  0.5875706  0.5875706  0.5875706  0.5875706\n",
      "  0.5875706  0.5875706 ]\n",
      " [0.5875706  0.5875706  0.5875706  0.5875706  0.5875706  0.5875706\n",
      "  0.5875706  0.5875706  0.5875706  0.5875706  0.5875706  0.5875706\n",
      "  0.5875706  0.5875706  0.5875706  0.5875706  0.5875706  0.5875706\n",
      "  0.5875706  0.5875706 ]\n",
      " [0.5875706  0.5875706  0.5875706  0.5875706  0.5875706  0.5875706\n",
      "  0.5875706  0.5875706  0.5875706  0.5875706  0.5875706  0.5875706\n",
      "  0.5875706  0.5875706  0.5875706  0.5875706  0.5875706  0.5875706\n",
      "  0.5875706  0.5875706 ]\n",
      " [0.5875706  0.5875706  0.5875706  0.5875706  0.5875706  0.5875706\n",
      "  0.5875706  0.5875706  0.5875706  0.5875706  0.5875706  0.5875706\n",
      "  0.5875706  0.5875706  0.5875706  0.5875706  0.5875706  0.5875706\n",
      "  0.5875706  0.5875706 ]\n",
      " [0.5875706  0.5875706  0.5875706  0.5875706  0.5875706  0.5875706\n",
      "  0.5875706  0.5875706  0.5875706  0.5875706  0.5875706  0.5875706\n",
      "  0.5875706  0.5875706  0.5875706  0.5875706  0.5875706  0.5875706\n",
      "  0.5875706  0.5875706 ]\n",
      " [0.5875706  0.5875706  0.5875706  0.5875706  0.5875706  0.5875706\n",
      "  0.5875706  0.5875706  0.5875706  0.5875706  0.5875706  0.5875706\n",
      "  0.5875706  0.5875706  0.5875706  0.5875706  0.5875706  0.5875706\n",
      "  0.5875706  0.5875706 ]\n",
      " [0.5875706  0.5875706  0.5875706  0.5875706  0.5875706  0.5875706\n",
      "  0.5875706  0.5875706  0.5875706  0.5875706  0.5875706  0.5875706\n",
      "  0.5875706  0.5875706  0.5875706  0.5875706  0.5875706  0.5875706\n",
      "  0.5875706  0.5875706 ]]\n"
     ]
    }
   ],
   "source": [
    "print(new_np[0])"
   ]
  },
  {
   "cell_type": "code",
   "execution_count": null,
   "metadata": {},
   "outputs": [],
   "source": []
  }
 ],
 "metadata": {
  "kernelspec": {
   "display_name": "pytorch",
   "language": "python",
   "name": "pytorch"
  },
  "language_info": {
   "codemirror_mode": {
    "name": "ipython",
    "version": 3
   },
   "file_extension": ".py",
   "mimetype": "text/x-python",
   "name": "python",
   "nbconvert_exporter": "python",
   "pygments_lexer": "ipython3",
   "version": "3.8.13"
  }
 },
 "nbformat": 4,
 "nbformat_minor": 4
}
