{
 "cells": [
  {
   "cell_type": "code",
   "execution_count": 1,
   "id": "f8681c9f-a271-457b-b586-a2c5f5dc96ce",
   "metadata": {},
   "outputs": [],
   "source": [
    "from ipywidgets import Video, Image\n",
    "from IPython.display import display \n",
    "from PIL import Image \n",
    "import numpy as np\n",
    "import cv2\n",
    "import base64\n",
    "import ipywidgets as widgets\n",
    "import copy\n",
    "import time\n",
    "import mediapipe as mp\n",
    "import IPython"
   ]
  },
  {
   "cell_type": "code",
   "execution_count": 2,
   "id": "03b9b5bd-7c3f-4f90-b808-e1d53639889b",
   "metadata": {},
   "outputs": [],
   "source": [
    "mp_drawing = mp.solutions.drawing_utils\n",
    "mp_drawing_styles = mp.solutions.drawing_styles\n",
    "mp_pose = mp.solutions.pose"
   ]
  },
  {
   "cell_type": "code",
   "execution_count": 22,
   "id": "69328c8a-eebb-4afb-8fb7-d8f05b78dbf5",
   "metadata": {},
   "outputs": [
    {
     "data": {
      "application/vnd.jupyter.widget-view+json": {
       "model_id": "47b19bc956c64628a3f9dbb622192c19",
       "version_major": 2,
       "version_minor": 0
      },
      "text/plain": [
       "Image(value=b'', layout=\"Layout(border='solid')\")"
      ]
     },
     "metadata": {},
     "output_type": "display_data"
    },
    {
     "name": "stderr",
     "output_type": "stream",
     "text": [
      "/tmp/ipykernel_2898/643027078.py:11: DeprecationWarning: tostring() is deprecated. Use tobytes() instead.\n",
      "  tmpStream = cv2.imencode(\".jpeg\", img)[1].tostring()\n"
     ]
    },
    {
     "ename": "KeyboardInterrupt",
     "evalue": "",
     "output_type": "error",
     "traceback": [
      "\u001b[0;31m---------------------------------------------------------------------------\u001b[0m",
      "\u001b[0;31mKeyboardInterrupt\u001b[0m                         Traceback (most recent call last)",
      "Input \u001b[0;32mIn [22]\u001b[0m, in \u001b[0;36m<cell line: 7>\u001b[0;34m()\u001b[0m\n\u001b[1;32m     12\u001b[0m         wImg\u001b[38;5;241m.\u001b[39mvalue \u001b[38;5;241m=\u001b[39m tmpStream \n\u001b[1;32m     13\u001b[0m         \u001b[38;5;66;03m# 20 프레임이 되기 위한 딜레이 다만, 실제로 입력한 것보다 조금 더 딜레이가 있다  \u001b[39;00m\n\u001b[0;32m---> 14\u001b[0m         ret, img \u001b[38;5;241m=\u001b[39m \u001b[43mcap\u001b[49m\u001b[38;5;241;43m.\u001b[39;49m\u001b[43mread\u001b[49m\u001b[43m(\u001b[49m\u001b[43m)\u001b[49m \n\u001b[1;32m     15\u001b[0m cap\u001b[38;5;241m.\u001b[39mrelease()\n",
      "\u001b[0;31mKeyboardInterrupt\u001b[0m: "
     ]
    }
   ],
   "source": [
    "cap = cv2.VideoCapture('./before/Image/1.mp4') \n",
    "wImg = widgets.Image( \n",
    "    layout = widgets.Layout(border=\"solid\") \n",
    ") \n",
    "display(wImg)\n",
    "\n",
    "if cap.isOpened(): \n",
    "    ret, img = cap.read() \n",
    "    while ret: \n",
    "        # 동영상 파일에서 캡쳐된 이미지를 이미지 파일 스트림으로 다시 인코딩을 한다. \n",
    "        tmpStream = cv2.imencode(\".jpeg\", img)[1].tostring()\n",
    "        wImg.value = tmpStream \n",
    "        # 20 프레임이 되기 위한 딜레이 다만, 실제로 입력한 것보다 조금 더 딜레이가 있다  \n",
    "        ret, img = cap.read() \n",
    "cap.release()\n",
    "\n",
    "# 영상 느리게 나오는건 사양때문이 아니라 인터넷 속도 때문입니다\n",
    "# 1080p 사진을 초당 몇십장씩 보내야 해서 100mbps가 부족하기때문에 느리게 나와여"
   ]
  },
  {
   "cell_type": "code",
   "execution_count": null,
   "id": "b710905a-deed-482c-9384-dd06ed6df3ec",
   "metadata": {},
   "outputs": [
    {
     "data": {
      "application/vnd.jupyter.widget-view+json": {
       "model_id": "b6b4b2a5ba2d477181a2be26ccf2c4a0",
       "version_major": 2,
       "version_minor": 0
      },
      "text/plain": [
       "Image(value=b'', layout=\"Layout(border='solid')\")"
      ]
     },
     "metadata": {},
     "output_type": "display_data"
    }
   ],
   "source": [
    "cap = cv2.VideoCapture('./before/Image/1.mp4')\n",
    "wImg = widgets.Image( \n",
    "    layout = widgets.Layout(border=\"solid\") \n",
    ")\n",
    "display(wImg)\n",
    "with mp_pose.Pose(\n",
    "    min_detection_confidence=0.5,\n",
    "    min_tracking_confidence=0.5) as pose:\n",
    "  while cap.isOpened():\n",
    "    success, image = cap.read()\n",
    "    if not success:\n",
    "      print(\"Ignoring empty camera frame.\")\n",
    "      # If loading a video, use 'break' instead of 'continue'.\n",
    "      continue\n",
    "\n",
    "    # To improve performance, optionally mark the image as not writeable to\n",
    "    # pass by reference.\n",
    "    image.flags.writeable = False\n",
    "    image = cv2.cvtColor(image, cv2.COLOR_BGR2RGB)\n",
    "    results = pose.process(image)\n",
    "\n",
    "    # Draw the pose annotation on the image.\n",
    "    image.flags.writeable = True\n",
    "    image = cv2.cvtColor(image, cv2.COLOR_RGB2BGR)\n",
    "    mp_drawing.draw_landmarks(\n",
    "        image,\n",
    "        results.pose_landmarks,\n",
    "        mp_pose.POSE_CONNECTIONS,\n",
    "        landmark_drawing_spec=mp_drawing_styles.get_default_pose_landmarks_style())\n",
    "    # Flip the image horizontally for a selfie-view display.\n",
    "    \n",
    "    #cv2.imshow('MediaPipe Pose', cv2.flip(image, 1))\n",
    "    cv2.imwrite('./real_image.png', image)\n",
    "    path = \"./real_image.png\"\n",
    "    img = IPython.display.Image(path)\n",
    "    wImg.value = img.data\n",
    "    #tmpStream = image.tostring()\n",
    "    #wImg.value = tmpStream\n",
    "    success, image = cap.read()\n",
    "cap.release()"
   ]
  },
  {
   "cell_type": "code",
   "execution_count": 26,
   "id": "df4be594-ea3c-4082-be0f-3b29275f13dc",
   "metadata": {},
   "outputs": [
    {
     "data": {
      "text/html": [
       "<video width=\"200\" height=\"300\" controls>\n",
       "    <source src=/project/action_6/data/delivery_final_3D/video/6-2/6-2_001-C01.mp4 type=\"video/mp4\">\n",
       "    </video>"
      ],
      "text/plain": [
       "<IPython.core.display.HTML object>"
      ]
     },
     "execution_count": 26,
     "metadata": {},
     "output_type": "execute_result"
    }
   ],
   "source": [
    "def show_video_in_jupyter_nb(width, height, video_url):\n",
    "    from IPython.display import HTML\n",
    "    return HTML(\"\"\"<video width=\"{}\" height=\"{}\" controls>\n",
    "    <source src={} type=\"video/mp4\">\n",
    "    </video>\"\"\".format(width, height, video_url))\n",
    "video_url = '/project/action_6/data/delivery_final_3D/video/6-2/6-2_001-C01.mp4'\n",
    "show_video_in_jupyter_nb(200, 300,video_url)"
   ]
  },
  {
   "cell_type": "code",
   "execution_count": 18,
   "id": "20414c65-ed3e-4e94-a68b-d667cda318ac",
   "metadata": {},
   "outputs": [
    {
     "data": {
      "text/html": [
       "\n",
       "<html>\n",
       "    <body>Hello, world!</body>\n",
       "    <img src=\"./1.jpg\" alt=\"My Image\">\n",
       "</html>\n"
      ],
      "text/plain": [
       "<IPython.core.display.HTML object>"
      ]
     },
     "execution_count": 18,
     "metadata": {},
     "output_type": "execute_result"
    }
   ],
   "source": [
    "from IPython.display import HTML\n",
    "\n",
    "HTML(\"\"\"\n",
    "<html>\n",
    "    <body>Hello, world!</body>\n",
    "    <img src=\"./1.jpg\" alt=\"My Image\">\n",
    "</html>\n",
    "\"\"\")"
   ]
  },
  {
   "cell_type": "code",
   "execution_count": null,
   "id": "e728f6b8-d91d-4bf1-a4a3-a2d454b1c30a",
   "metadata": {},
   "outputs": [],
   "source": []
  }
 ],
 "metadata": {
  "kernelspec": {
   "display_name": "project",
   "language": "python",
   "name": "project"
  },
  "language_info": {
   "codemirror_mode": {
    "name": "ipython",
    "version": 3
   },
   "file_extension": ".py",
   "mimetype": "text/x-python",
   "name": "python",
   "nbconvert_exporter": "python",
   "pygments_lexer": "ipython3",
   "version": "3.8.12"
  }
 },
 "nbformat": 4,
 "nbformat_minor": 5
}
