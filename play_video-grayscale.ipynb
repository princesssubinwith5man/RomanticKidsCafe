{
 "cells": [
  {
   "cell_type": "code",
   "execution_count": 1,
   "id": "f8681c9f-a271-457b-b586-a2c5f5dc96ce",
   "metadata": {},
   "outputs": [],
   "source": [
    "from ipywidgets import Video, Image\n",
    "from IPython.display import display \n",
    "from PIL import Image \n",
    "import numpy as np\n",
    "import cv2\n",
    "import base64\n",
    "import ipywidgets as widgets\n",
    "import copy\n",
    "import time\n",
    "import mediapipe as mp\n",
    "import IPython"
   ]
  },
  {
   "cell_type": "code",
   "execution_count": 2,
   "id": "03b9b5bd-7c3f-4f90-b808-e1d53639889b",
   "metadata": {},
   "outputs": [],
   "source": [
    "mp_drawing = mp.solutions.drawing_utils\n",
    "mp_drawing_styles = mp.solutions.drawing_styles\n",
    "mp_pose = mp.solutions.pose"
   ]
  },
  {
   "cell_type": "code",
   "execution_count": null,
   "id": "69328c8a-eebb-4afb-8fb7-d8f05b78dbf5",
   "metadata": {},
   "outputs": [],
   "source": [
    "cap = cv2.VideoCapture('./before/Image/1.mp4') \n",
    "wImg = widgets.Image( \n",
    "    layout = widgets.Layout(border=\"solid\") \n",
    ") \n",
    "display(wImg)\n",
    "\n",
    "if cap.isOpened():\n",
    "    ret, img = cap.read() \n",
    "    while ret: \n",
    "        st = time.time()\n",
    "        #그레이스케일 \n",
    "        gray = cv2.cvtColor(img, cv2.COLOR_BGR2GRAY)\n",
    "        #FPS 계산\n",
    "        fin = time.time()\n",
    "        fps = (1/(fin-st)) / 100\n",
    "        str = \"FPS : %0.1f\" % fps        \n",
    "        cv2.putText(gray, str, (0, 50), cv2.FONT_HERSHEY_SIMPLEX, 1, (255, 255, 255),3)\n",
    "        \n",
    "        # 동영상 파일에서 캡쳐된 이미지를 이미지 파일 스트림으로 다시 인코딩을 한다. \n",
    "        tmpStream = cv2.imencode(\".jpeg\", gray)[1].tostring()\n",
    "        wImg.value = tmpStream \n",
    "                \n",
    "\n",
    "        \n",
    "        ret, img = cap.read() \n",
    "        \n",
    "        \n",
    "cap.release()\n",
    "\n",
    "# 영상 느리게 나오는건 사양때문이 아니라 인터넷 속도 때문입니다\n",
    "# 1080p 사진을 초당 몇십장씩 보내야 해서 100mbps가 부족하기때문에 느리게 나와여"
   ]
  },
  {
   "cell_type": "code",
   "execution_count": 3,
   "id": "b710905a-deed-482c-9384-dd06ed6df3ec",
   "metadata": {},
   "outputs": [
    {
     "data": {
      "application/vnd.jupyter.widget-view+json": {
       "model_id": "fe1b527d7bc5449d996132560a1fdd9d",
       "version_major": 2,
       "version_minor": 0
      },
      "text/plain": [
       "Image(value=b'', layout=\"Layout(border='solid')\")"
      ]
     },
     "metadata": {},
     "output_type": "display_data"
    },
    {
     "name": "stderr",
     "output_type": "stream",
     "text": [
      "INFO: Created TensorFlow Lite XNNPACK delegate for CPU.\n"
     ]
    },
    {
     "ename": "NameError",
     "evalue": "name 'cur_time' is not defined",
     "output_type": "error",
     "traceback": [
      "\u001b[0;31m---------------------------------------------------------------------------\u001b[0m",
      "\u001b[0;31mNameError\u001b[0m                                 Traceback (most recent call last)",
      "Input \u001b[0;32mIn [3]\u001b[0m, in \u001b[0;36m<cell line: 9>\u001b[0;34m()\u001b[0m\n\u001b[1;32m     16\u001b[0m \u001b[38;5;28;01mif\u001b[39;00m \u001b[38;5;129;01mnot\u001b[39;00m success:\n\u001b[1;32m     17\u001b[0m   \u001b[38;5;66;03m#print(\"Ignoring empty camera frame.\")\u001b[39;00m\n\u001b[1;32m     18\u001b[0m   \u001b[38;5;66;03m# If loading a video, use 'break' instead of 'continue'.\u001b[39;00m\n\u001b[1;32m     19\u001b[0m   \u001b[38;5;28;01mcontinue\u001b[39;00m\n\u001b[0;32m---> 20\u001b[0m \u001b[38;5;28;01mif\u001b[39;00m success \u001b[38;5;129;01mand\u001b[39;00m (\u001b[43mcur_time\u001b[49m \u001b[38;5;241m>\u001b[39m \u001b[38;5;241m1.\u001b[39m\u001b[38;5;241m/\u001b[39mFPS):\n\u001b[1;32m     21\u001b[0m \n\u001b[1;32m     22\u001b[0m     \u001b[38;5;66;03m# To improve performance, optionally mark the image as not writeable to\u001b[39;00m\n\u001b[1;32m     23\u001b[0m     \u001b[38;5;66;03m# pass by reference.\u001b[39;00m\n\u001b[1;32m     24\u001b[0m     image\u001b[38;5;241m.\u001b[39mflags\u001b[38;5;241m.\u001b[39mwriteable \u001b[38;5;241m=\u001b[39m \u001b[38;5;28;01mFalse\u001b[39;00m\n\u001b[1;32m     25\u001b[0m     image \u001b[38;5;241m=\u001b[39m cv2\u001b[38;5;241m.\u001b[39mcvtColor(image, cv2\u001b[38;5;241m.\u001b[39mCOLOR_BGR2RGB)\n",
      "\u001b[0;31mNameError\u001b[0m: name 'cur_time' is not defined"
     ]
    }
   ],
   "source": [
    "cap = cv2.VideoCapture('./before/Image/1.mp4') \n",
    "wImg = widgets.Image( \n",
    "    layout = widgets.Layout(border=\"solid\") \n",
    ")\n",
    "prev = 0\n",
    "FPS = 10\n",
    "\n",
    "display(wImg)\n",
    "with mp_pose.Pose(\n",
    "    min_detection_confidence=0.5,\n",
    "    min_tracking_confidence=0.5) as pose:\n",
    "  while cap.isOpened():\n",
    "    success, image = cap.read()\n",
    "    \n",
    "    cur = time.time() - prev\n",
    "    if not success:\n",
    "      #print(\"Ignoring empty camera frame.\")\n",
    "      # If loading a video, use 'break' instead of 'continue'.\n",
    "      continue\n",
    "    if success and (cur_time > 1./FPS):\n",
    "\n",
    "        # To improve performance, optionally mark the image as not writeable to\n",
    "        # pass by reference.\n",
    "        image.flags.writeable = False\n",
    "        image = cv2.cvtColor(image, cv2.COLOR_BGR2RGB)\n",
    "        results = pose.process(image)\n",
    "\n",
    "        # Draw the pose annotation on the image.\n",
    "        image.flags.writeable = True\n",
    "        image = cv2.cvtColor(image, cv2.COLOR_RGB2BGR)\n",
    "        mp_drawing.draw_landmarks(\n",
    "            image,\n",
    "            results.pose_landmarks,\n",
    "            mp_pose.POSE_CONNECTIONS,\n",
    "            landmark_drawing_spec=mp_drawing_styles.get_default_pose_landmarks_style())\n",
    "        # Flip the image horizontally for a selfie-view display.\n",
    "    \n",
    "        #FPS 계산\n",
    "        prev = time.time()\n",
    "        fps = (1/prev) \n",
    "        str = \"FPS : %0.1f\" % fps        \n",
    "        cv2.putText(image, str, (0, 50), cv2.FONT_HERSHEY_SIMPLEX, 1, (255, 255, 255),3)\n",
    "    \n",
    "        #cv2.imshow('MediaPipe Pose', cv2.flip(image, 1))\n",
    "        #cv2.imwrite('./real_image.png', image)\n",
    "        #path = \"./real_image.png\"\n",
    "        tmpStream = cv2.imencode(\".jpeg\", image)[1].tostring()\n",
    "        wImg.value = tmpStream \n",
    "        \n",
    "        #img = IPython.display.Image(path)\n",
    "        #wImg.value = img.data\n",
    "        #tmpStream = image.tostring()\n",
    "        #wImg.value = tmpStream\n",
    "    \n",
    "        success, image = cap.read()\n",
    "        \n",
    "cap.release()\n",
    "\n"
   ]
  },
  {
   "cell_type": "code",
   "execution_count": null,
   "id": "df4be594-ea3c-4082-be0f-3b29275f13dc",
   "metadata": {},
   "outputs": [],
   "source": [
    "def show_video_in_jupyter_nb(width, height, video_url):\n",
    "    from IPython.display import HTML\n",
    "    return HTML(\"\"\"<video width=\"{}\" height=\"{}\" controls>\n",
    "    <source src={} type=\"video/mp4\">\n",
    "    </video>\"\"\".format(width, height, video_url))\n",
    "video_url = '/project/action_6/data/delivery_final_3D/video/6-2/6-2_001-C01.mp4'\n",
    "show_video_in_jupyter_nb(200, 300,video_url)"
   ]
  },
  {
   "cell_type": "code",
   "execution_count": null,
   "id": "20414c65-ed3e-4e94-a68b-d667cda318ac",
   "metadata": {},
   "outputs": [],
   "source": [
    "from IPython.display import HTML\n",
    "\n",
    "HTML(\"\"\"\n",
    "<html>\n",
    "    <body>Hello, world!</body>\n",
    "    <img src=\"./1.jpg\" alt=\"My Image\">\n",
    "</html>\n",
    "\"\"\")"
   ]
  },
  {
   "cell_type": "code",
   "execution_count": null,
   "id": "e728f6b8-d91d-4bf1-a4a3-a2d454b1c30a",
   "metadata": {},
   "outputs": [],
   "source": []
  }
 ],
 "metadata": {
  "kernelspec": {
   "display_name": "project",
   "language": "python",
   "name": "project"
  },
  "language_info": {
   "codemirror_mode": {
    "name": "ipython",
    "version": 3
   },
   "file_extension": ".py",
   "mimetype": "text/x-python",
   "name": "python",
   "nbconvert_exporter": "python",
   "pygments_lexer": "ipython3",
   "version": "3.8.12"
  }
 },
 "nbformat": 4,
 "nbformat_minor": 5
}
